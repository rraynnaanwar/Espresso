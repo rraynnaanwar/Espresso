{
 "cells": [
  {
   "cell_type": "code",
   "execution_count": 45,
   "metadata": {},
   "outputs": [],
   "source": [
    "import pandas as pd\n",
    "import numpy as np\n",
    "from sklearn.model_selection import train_test_split\n",
    "from sklearn.neighbors import KNeighborsClassifier\n",
    "from sklearn.preprocessing import StandardScaler\n",
    "from sklearn.metrics import accuracy_score"
   ]
  },
  {
   "cell_type": "code",
   "execution_count": 46,
   "metadata": {},
   "outputs": [
    {
     "data": {
      "text/html": [
       "<div>\n",
       "<style scoped>\n",
       "    .dataframe tbody tr th:only-of-type {\n",
       "        vertical-align: middle;\n",
       "    }\n",
       "\n",
       "    .dataframe tbody tr th {\n",
       "        vertical-align: top;\n",
       "    }\n",
       "\n",
       "    .dataframe thead th {\n",
       "        text-align: right;\n",
       "    }\n",
       "</style>\n",
       "<table border=\"1\" class=\"dataframe\">\n",
       "  <thead>\n",
       "    <tr style=\"text-align: right;\">\n",
       "      <th></th>\n",
       "      <th>Order ID</th>\n",
       "      <th>Customer ID</th>\n",
       "      <th>Location ID</th>\n",
       "      <th>Time of purchase</th>\n",
       "      <th>PreTax Total</th>\n",
       "      <th>Customer Order</th>\n",
       "      <th>Quantity</th>\n",
       "    </tr>\n",
       "  </thead>\n",
       "  <tbody>\n",
       "    <tr>\n",
       "      <th>0</th>\n",
       "      <td>1897</td>\n",
       "      <td>3957</td>\n",
       "      <td>101</td>\n",
       "      <td>2024-11-06 00:50:29</td>\n",
       "      <td>16.70</td>\n",
       "      <td>Mocha Frappe Latte:5:3.34</td>\n",
       "      <td>5</td>\n",
       "    </tr>\n",
       "    <tr>\n",
       "      <th>1</th>\n",
       "      <td>7304</td>\n",
       "      <td>7905</td>\n",
       "      <td>104</td>\n",
       "      <td>2024-11-06 21:16:17</td>\n",
       "      <td>27.10</td>\n",
       "      <td>Matcha Latte:5:5.42</td>\n",
       "      <td>5</td>\n",
       "    </tr>\n",
       "    <tr>\n",
       "      <th>2</th>\n",
       "      <td>9623</td>\n",
       "      <td>3957</td>\n",
       "      <td>104</td>\n",
       "      <td>2024-11-03 09:34:35</td>\n",
       "      <td>4.66</td>\n",
       "      <td>Chai Latte:1:4.66</td>\n",
       "      <td>1</td>\n",
       "    </tr>\n",
       "    <tr>\n",
       "      <th>3</th>\n",
       "      <td>8113</td>\n",
       "      <td>7905</td>\n",
       "      <td>100</td>\n",
       "      <td>2024-11-04 07:31:56</td>\n",
       "      <td>4.12</td>\n",
       "      <td>Frappe Latte:1:4.12</td>\n",
       "      <td>1</td>\n",
       "    </tr>\n",
       "    <tr>\n",
       "      <th>4</th>\n",
       "      <td>6606</td>\n",
       "      <td>5124</td>\n",
       "      <td>101</td>\n",
       "      <td>2024-11-01 17:11:46</td>\n",
       "      <td>3.34</td>\n",
       "      <td>Mocha Frappe Latte:1:3.34</td>\n",
       "      <td>1</td>\n",
       "    </tr>\n",
       "  </tbody>\n",
       "</table>\n",
       "</div>"
      ],
      "text/plain": [
       "   Order ID  Customer ID  Location ID     Time of purchase  PreTax Total  \\\n",
       "0      1897         3957          101  2024-11-06 00:50:29         16.70   \n",
       "1      7304         7905          104  2024-11-06 21:16:17         27.10   \n",
       "2      9623         3957          104  2024-11-03 09:34:35          4.66   \n",
       "3      8113         7905          100  2024-11-04 07:31:56          4.12   \n",
       "4      6606         5124          101  2024-11-01 17:11:46          3.34   \n",
       "\n",
       "              Customer Order  Quantity  \n",
       "0  Mocha Frappe Latte:5:3.34         5  \n",
       "1        Matcha Latte:5:5.42         5  \n",
       "2          Chai Latte:1:4.66         1  \n",
       "3        Frappe Latte:1:4.12         1  \n",
       "4  Mocha Frappe Latte:1:3.34         1  "
      ]
     },
     "execution_count": 46,
     "metadata": {},
     "output_type": "execute_result"
    }
   ],
   "source": [
    "df = pd.read_csv('coffee_orders.csv',  encoding = \"latin1\")\n",
    "df.head()"
   ]
  },
  {
   "cell_type": "code",
   "execution_count": 47,
   "metadata": {},
   "outputs": [
    {
     "data": {
      "text/html": [
       "<div>\n",
       "<style scoped>\n",
       "    .dataframe tbody tr th:only-of-type {\n",
       "        vertical-align: middle;\n",
       "    }\n",
       "\n",
       "    .dataframe tbody tr th {\n",
       "        vertical-align: top;\n",
       "    }\n",
       "\n",
       "    .dataframe thead th {\n",
       "        text-align: right;\n",
       "    }\n",
       "</style>\n",
       "<table border=\"1\" class=\"dataframe\">\n",
       "  <thead>\n",
       "    <tr style=\"text-align: right;\">\n",
       "      <th></th>\n",
       "      <th>Customer ID</th>\n",
       "      <th>Total_Orders</th>\n",
       "      <th>Total_Spent</th>\n",
       "      <th>Total_Quantity</th>\n",
       "      <th>Hour</th>\n",
       "      <th>Unique_Visit_Days</th>\n",
       "      <th>All_Orders</th>\n",
       "    </tr>\n",
       "  </thead>\n",
       "  <tbody>\n",
       "    <tr>\n",
       "      <th>0</th>\n",
       "      <td>1005</td>\n",
       "      <td>4</td>\n",
       "      <td>30.16</td>\n",
       "      <td>7</td>\n",
       "      <td>14.75</td>\n",
       "      <td>[0, 1, 6]</td>\n",
       "      <td>Mocha Frappe Latte:1:3.34; Hard Boiled Eggs:1:...</td>\n",
       "    </tr>\n",
       "    <tr>\n",
       "      <th>1</th>\n",
       "      <td>1016</td>\n",
       "      <td>1</td>\n",
       "      <td>7.88</td>\n",
       "      <td>2</td>\n",
       "      <td>14.00</td>\n",
       "      <td>[0]</td>\n",
       "      <td>Tiramisu Latte:2:3.94</td>\n",
       "    </tr>\n",
       "    <tr>\n",
       "      <th>2</th>\n",
       "      <td>1043</td>\n",
       "      <td>2</td>\n",
       "      <td>7.81</td>\n",
       "      <td>2</td>\n",
       "      <td>5.50</td>\n",
       "      <td>[2, 4]</td>\n",
       "      <td>Butter Crumb Cake:1:4.63; Caramel Frappe Latte...</td>\n",
       "    </tr>\n",
       "    <tr>\n",
       "      <th>3</th>\n",
       "      <td>1046</td>\n",
       "      <td>1</td>\n",
       "      <td>4.63</td>\n",
       "      <td>1</td>\n",
       "      <td>22.00</td>\n",
       "      <td>[0]</td>\n",
       "      <td>Butter Crumb Cake:1:4.63</td>\n",
       "    </tr>\n",
       "    <tr>\n",
       "      <th>4</th>\n",
       "      <td>1059</td>\n",
       "      <td>1</td>\n",
       "      <td>2.84</td>\n",
       "      <td>1</td>\n",
       "      <td>2.00</td>\n",
       "      <td>[1]</td>\n",
       "      <td>Cinnamon Bun:1:2.84</td>\n",
       "    </tr>\n",
       "  </tbody>\n",
       "</table>\n",
       "</div>"
      ],
      "text/plain": [
       "   Customer ID  Total_Orders  Total_Spent  Total_Quantity   Hour  \\\n",
       "0         1005             4        30.16               7  14.75   \n",
       "1         1016             1         7.88               2  14.00   \n",
       "2         1043             2         7.81               2   5.50   \n",
       "3         1046             1         4.63               1  22.00   \n",
       "4         1059             1         2.84               1   2.00   \n",
       "\n",
       "  Unique_Visit_Days                                         All_Orders  \n",
       "0         [0, 1, 6]  Mocha Frappe Latte:1:3.34; Hard Boiled Eggs:1:...  \n",
       "1               [0]                              Tiramisu Latte:2:3.94  \n",
       "2            [2, 4]  Butter Crumb Cake:1:4.63; Caramel Frappe Latte...  \n",
       "3               [0]                           Butter Crumb Cake:1:4.63  \n",
       "4               [1]                                Cinnamon Bun:1:2.84  "
      ]
     },
     "execution_count": 47,
     "metadata": {},
     "output_type": "execute_result"
    }
   ],
   "source": [
    "# Assuming 'Order Date' is the column with datetime information\n",
    "df['Time of purchase'] = pd.to_datetime(df['Time of purchase'])  # Ensure it's in datetime format\n",
    "\n",
    "# Create 'Hour' column (extract hour from the datetime)\n",
    "df['Hour'] = df['Time of purchase'].dt.hour\n",
    "\n",
    "# Create 'Day_of_week' column (extract day of the week as a number, Monday=0, Sunday=6)\n",
    "df['Day_of_week'] = df['Time of purchase'].dt.dayofweek\n",
    "\n",
    "# Now group by Customer ID and aggregate\n",
    "aggregated_df = df.groupby('Customer ID').agg({\n",
    "    'Order ID': 'count',  # Number of orders for the customer\n",
    "    'PreTax Total': 'sum',  # Sum up the total spent\n",
    "    'Quantity': 'sum',  # Total quantity of items\n",
    "    'Hour': 'mean',  # Average time of purchase (hour of the day)\n",
    "    'Day_of_week': lambda x: list(set(x)),  # Unique days the customer visited\n",
    "    'Customer Order': lambda x: '; '.join(x)  # Combine all orders into a single string\n",
    "}).reset_index()\n",
    "\n",
    "# Rename columns for clarity\n",
    "aggregated_df = aggregated_df.rename(columns={\n",
    "    'Order ID': 'Total_Orders',\n",
    "    'PreTax Total': 'Total_Spent',\n",
    "    'Quantity': 'Total_Quantity',\n",
    "    'Day_of_week': 'Unique_Visit_Days',\n",
    "    'Customer Order': 'All_Orders'\n",
    "})\n",
    "\n",
    "# Display the resulting dataset\n",
    "aggregated_df.head()\n"
   ]
  },
  {
   "cell_type": "code",
   "execution_count": 48,
   "metadata": {},
   "outputs": [],
   "source": [
    "# Label dataset\n",
    "# Find out how many items are ordered by a customer per visit\n",
    "aggregated_df['Avg_Items_Per_Order'] = aggregated_df['Total_Quantity'] / aggregated_df['Total_Orders']\n",
    "\n",
    "def label_customer(row):\n",
    "    # Label based on visit frequency\n",
    "    # a customer is a regular if they come in at least 3 times a week\n",
    "    if len(row['Unique_Visit_Days']) >= 3:\n",
    "        visit_label = 'Regular Customer'\n",
    "    else:\n",
    "        visit_label = 'Non-Regular Customer'\n",
    "    \n",
    "    # Label based on items per order\n",
    "    # a customer is a high spender if they average at least 2 items per order\n",
    "    if row['Avg_Items_Per_Order'] >= 2:\n",
    "        spend_label = 'High Spend Customer'\n",
    "    else:\n",
    "        spend_label = 'Low Spend Customer'\n",
    "    \n",
    "    return f'{visit_label} - {spend_label}'"
   ]
  },
  {
   "cell_type": "code",
   "execution_count": 49,
   "metadata": {},
   "outputs": [
    {
     "data": {
      "text/html": [
       "<div>\n",
       "<style scoped>\n",
       "    .dataframe tbody tr th:only-of-type {\n",
       "        vertical-align: middle;\n",
       "    }\n",
       "\n",
       "    .dataframe tbody tr th {\n",
       "        vertical-align: top;\n",
       "    }\n",
       "\n",
       "    .dataframe thead th {\n",
       "        text-align: right;\n",
       "    }\n",
       "</style>\n",
       "<table border=\"1\" class=\"dataframe\">\n",
       "  <thead>\n",
       "    <tr style=\"text-align: right;\">\n",
       "      <th></th>\n",
       "      <th>Customer ID</th>\n",
       "      <th>Total_Orders</th>\n",
       "      <th>Total_Spent</th>\n",
       "      <th>Total_Quantity</th>\n",
       "      <th>Hour</th>\n",
       "      <th>Unique_Visit_Days</th>\n",
       "      <th>All_Orders</th>\n",
       "      <th>Avg_Items_Per_Order</th>\n",
       "      <th>Customer_Label</th>\n",
       "    </tr>\n",
       "  </thead>\n",
       "  <tbody>\n",
       "    <tr>\n",
       "      <th>0</th>\n",
       "      <td>1005</td>\n",
       "      <td>4</td>\n",
       "      <td>30.16</td>\n",
       "      <td>7</td>\n",
       "      <td>14.75</td>\n",
       "      <td>[0, 1, 6]</td>\n",
       "      <td>Mocha Frappe Latte:1:3.34; Hard Boiled Eggs:1:...</td>\n",
       "      <td>1.75</td>\n",
       "      <td>Regular Customer - Low Spend Customer</td>\n",
       "    </tr>\n",
       "    <tr>\n",
       "      <th>1</th>\n",
       "      <td>1016</td>\n",
       "      <td>1</td>\n",
       "      <td>7.88</td>\n",
       "      <td>2</td>\n",
       "      <td>14.00</td>\n",
       "      <td>[0]</td>\n",
       "      <td>Tiramisu Latte:2:3.94</td>\n",
       "      <td>2.00</td>\n",
       "      <td>Non-Regular Customer - High Spend Customer</td>\n",
       "    </tr>\n",
       "    <tr>\n",
       "      <th>2</th>\n",
       "      <td>1043</td>\n",
       "      <td>2</td>\n",
       "      <td>7.81</td>\n",
       "      <td>2</td>\n",
       "      <td>5.50</td>\n",
       "      <td>[2, 4]</td>\n",
       "      <td>Butter Crumb Cake:1:4.63; Caramel Frappe Latte...</td>\n",
       "      <td>1.00</td>\n",
       "      <td>Non-Regular Customer - Low Spend Customer</td>\n",
       "    </tr>\n",
       "    <tr>\n",
       "      <th>3</th>\n",
       "      <td>1046</td>\n",
       "      <td>1</td>\n",
       "      <td>4.63</td>\n",
       "      <td>1</td>\n",
       "      <td>22.00</td>\n",
       "      <td>[0]</td>\n",
       "      <td>Butter Crumb Cake:1:4.63</td>\n",
       "      <td>1.00</td>\n",
       "      <td>Non-Regular Customer - Low Spend Customer</td>\n",
       "    </tr>\n",
       "    <tr>\n",
       "      <th>4</th>\n",
       "      <td>1059</td>\n",
       "      <td>1</td>\n",
       "      <td>2.84</td>\n",
       "      <td>1</td>\n",
       "      <td>2.00</td>\n",
       "      <td>[1]</td>\n",
       "      <td>Cinnamon Bun:1:2.84</td>\n",
       "      <td>1.00</td>\n",
       "      <td>Non-Regular Customer - Low Spend Customer</td>\n",
       "    </tr>\n",
       "    <tr>\n",
       "      <th>...</th>\n",
       "      <td>...</td>\n",
       "      <td>...</td>\n",
       "      <td>...</td>\n",
       "      <td>...</td>\n",
       "      <td>...</td>\n",
       "      <td>...</td>\n",
       "      <td>...</td>\n",
       "      <td>...</td>\n",
       "      <td>...</td>\n",
       "    </tr>\n",
       "    <tr>\n",
       "      <th>955</th>\n",
       "      <td>9944</td>\n",
       "      <td>2</td>\n",
       "      <td>25.45</td>\n",
       "      <td>7</td>\n",
       "      <td>5.50</td>\n",
       "      <td>[5]</td>\n",
       "      <td>Hot Chocolate:4:2.89;Eggnog Latte:1:4.67;Corta...</td>\n",
       "      <td>3.50</td>\n",
       "      <td>Non-Regular Customer - High Spend Customer</td>\n",
       "    </tr>\n",
       "    <tr>\n",
       "      <th>956</th>\n",
       "      <td>9957</td>\n",
       "      <td>1</td>\n",
       "      <td>5.46</td>\n",
       "      <td>2</td>\n",
       "      <td>22.00</td>\n",
       "      <td>[2]</td>\n",
       "      <td>Espresso:2:2.73</td>\n",
       "      <td>2.00</td>\n",
       "      <td>Non-Regular Customer - High Spend Customer</td>\n",
       "    </tr>\n",
       "    <tr>\n",
       "      <th>957</th>\n",
       "      <td>9974</td>\n",
       "      <td>2</td>\n",
       "      <td>21.04</td>\n",
       "      <td>5</td>\n",
       "      <td>11.50</td>\n",
       "      <td>[0, 1]</td>\n",
       "      <td>Roasted Tomato Breakfast Roll:1:3.81;Vegan Bre...</td>\n",
       "      <td>2.50</td>\n",
       "      <td>Non-Regular Customer - High Spend Customer</td>\n",
       "    </tr>\n",
       "    <tr>\n",
       "      <th>958</th>\n",
       "      <td>9981</td>\n",
       "      <td>1</td>\n",
       "      <td>5.42</td>\n",
       "      <td>1</td>\n",
       "      <td>16.00</td>\n",
       "      <td>[3]</td>\n",
       "      <td>Matcha Latte:1:5.42</td>\n",
       "      <td>1.00</td>\n",
       "      <td>Non-Regular Customer - Low Spend Customer</td>\n",
       "    </tr>\n",
       "    <tr>\n",
       "      <th>959</th>\n",
       "      <td>9990</td>\n",
       "      <td>1</td>\n",
       "      <td>12.72</td>\n",
       "      <td>4</td>\n",
       "      <td>5.00</td>\n",
       "      <td>[6]</td>\n",
       "      <td>Caramel Frappe Latte:4:3.18</td>\n",
       "      <td>4.00</td>\n",
       "      <td>Non-Regular Customer - High Spend Customer</td>\n",
       "    </tr>\n",
       "  </tbody>\n",
       "</table>\n",
       "<p>960 rows × 9 columns</p>\n",
       "</div>"
      ],
      "text/plain": [
       "     Customer ID  Total_Orders  Total_Spent  Total_Quantity   Hour  \\\n",
       "0           1005             4        30.16               7  14.75   \n",
       "1           1016             1         7.88               2  14.00   \n",
       "2           1043             2         7.81               2   5.50   \n",
       "3           1046             1         4.63               1  22.00   \n",
       "4           1059             1         2.84               1   2.00   \n",
       "..           ...           ...          ...             ...    ...   \n",
       "955         9944             2        25.45               7   5.50   \n",
       "956         9957             1         5.46               2  22.00   \n",
       "957         9974             2        21.04               5  11.50   \n",
       "958         9981             1         5.42               1  16.00   \n",
       "959         9990             1        12.72               4   5.00   \n",
       "\n",
       "    Unique_Visit_Days                                         All_Orders  \\\n",
       "0           [0, 1, 6]  Mocha Frappe Latte:1:3.34; Hard Boiled Eggs:1:...   \n",
       "1                 [0]                              Tiramisu Latte:2:3.94   \n",
       "2              [2, 4]  Butter Crumb Cake:1:4.63; Caramel Frappe Latte...   \n",
       "3                 [0]                           Butter Crumb Cake:1:4.63   \n",
       "4                 [1]                                Cinnamon Bun:1:2.84   \n",
       "..                ...                                                ...   \n",
       "955               [5]  Hot Chocolate:4:2.89;Eggnog Latte:1:4.67;Corta...   \n",
       "956               [2]                                    Espresso:2:2.73   \n",
       "957            [0, 1]  Roasted Tomato Breakfast Roll:1:3.81;Vegan Bre...   \n",
       "958               [3]                                Matcha Latte:1:5.42   \n",
       "959               [6]                        Caramel Frappe Latte:4:3.18   \n",
       "\n",
       "     Avg_Items_Per_Order                              Customer_Label  \n",
       "0                   1.75       Regular Customer - Low Spend Customer  \n",
       "1                   2.00  Non-Regular Customer - High Spend Customer  \n",
       "2                   1.00   Non-Regular Customer - Low Spend Customer  \n",
       "3                   1.00   Non-Regular Customer - Low Spend Customer  \n",
       "4                   1.00   Non-Regular Customer - Low Spend Customer  \n",
       "..                   ...                                         ...  \n",
       "955                 3.50  Non-Regular Customer - High Spend Customer  \n",
       "956                 2.00  Non-Regular Customer - High Spend Customer  \n",
       "957                 2.50  Non-Regular Customer - High Spend Customer  \n",
       "958                 1.00   Non-Regular Customer - Low Spend Customer  \n",
       "959                 4.00  Non-Regular Customer - High Spend Customer  \n",
       "\n",
       "[960 rows x 9 columns]"
      ]
     },
     "execution_count": 49,
     "metadata": {},
     "output_type": "execute_result"
    }
   ],
   "source": [
    "aggregated_df['Customer_Label'] = aggregated_df.apply(label_customer, axis=1)\n",
    "\n",
    "# Display the resulting labels\n",
    "aggregated_df[['Customer ID', 'Customer_Label']].head()\n",
    "aggregated_df"
   ]
  },
  {
   "cell_type": "markdown",
   "metadata": {},
   "source": [
    "# Features Engineering\n"
   ]
  },
  {
   "cell_type": "code",
   "execution_count": 50,
   "metadata": {},
   "outputs": [],
   "source": [
    "features = aggregated_df[['Total_Orders', 'Total_Spent', 'Total_Quantity', 'Avg_Items_Per_Order']]\n",
    "labels = aggregated_df['Customer_Label']\n",
    "scaler = StandardScaler()\n",
    "scaled_features = scaler.fit_transform(features)\n",
    "x_Train, x_Test, y_Train, y_Test = train_test_split(scaled_features, labels, test_size = 0.2 , random_state=42)\n"
   ]
  },
  {
   "cell_type": "code",
   "execution_count": 51,
   "metadata": {},
   "outputs": [
    {
     "data": {
      "text/html": [
       "<div>\n",
       "<style scoped>\n",
       "    .dataframe tbody tr th:only-of-type {\n",
       "        vertical-align: middle;\n",
       "    }\n",
       "\n",
       "    .dataframe tbody tr th {\n",
       "        vertical-align: top;\n",
       "    }\n",
       "\n",
       "    .dataframe thead th {\n",
       "        text-align: right;\n",
       "    }\n",
       "</style>\n",
       "<table border=\"1\" class=\"dataframe\">\n",
       "  <thead>\n",
       "    <tr style=\"text-align: right;\">\n",
       "      <th></th>\n",
       "      <th>Customer ID</th>\n",
       "      <th>Total_Orders</th>\n",
       "      <th>Total_Spent</th>\n",
       "      <th>Total_Quantity</th>\n",
       "      <th>Hour</th>\n",
       "      <th>Unique_Visit_Days</th>\n",
       "      <th>All_Orders</th>\n",
       "      <th>Avg_Items_Per_Order</th>\n",
       "      <th>Customer_Label</th>\n",
       "      <th>Label_List</th>\n",
       "      <th>High Spend Customer</th>\n",
       "      <th>Non-Regular Customer</th>\n",
       "      <th>Low Spend Customer</th>\n",
       "      <th>Regular Customer</th>\n",
       "    </tr>\n",
       "  </thead>\n",
       "  <tbody>\n",
       "    <tr>\n",
       "      <th>0</th>\n",
       "      <td>1005</td>\n",
       "      <td>4</td>\n",
       "      <td>30.16</td>\n",
       "      <td>7</td>\n",
       "      <td>14.75</td>\n",
       "      <td>[0, 1, 6]</td>\n",
       "      <td>Mocha Frappe Latte:1:3.34; Hard Boiled Eggs:1:...</td>\n",
       "      <td>1.75</td>\n",
       "      <td>Regular Customer - Low Spend Customer</td>\n",
       "      <td>[Regular Customer, Low Spend Customer]</td>\n",
       "      <td>0</td>\n",
       "      <td>0</td>\n",
       "      <td>1</td>\n",
       "      <td>1</td>\n",
       "    </tr>\n",
       "    <tr>\n",
       "      <th>1</th>\n",
       "      <td>1016</td>\n",
       "      <td>1</td>\n",
       "      <td>7.88</td>\n",
       "      <td>2</td>\n",
       "      <td>14.00</td>\n",
       "      <td>[0]</td>\n",
       "      <td>Tiramisu Latte:2:3.94</td>\n",
       "      <td>2.00</td>\n",
       "      <td>Non-Regular Customer - High Spend Customer</td>\n",
       "      <td>[Non-Regular Customer, High Spend Customer]</td>\n",
       "      <td>1</td>\n",
       "      <td>1</td>\n",
       "      <td>0</td>\n",
       "      <td>0</td>\n",
       "    </tr>\n",
       "    <tr>\n",
       "      <th>2</th>\n",
       "      <td>1043</td>\n",
       "      <td>2</td>\n",
       "      <td>7.81</td>\n",
       "      <td>2</td>\n",
       "      <td>5.50</td>\n",
       "      <td>[2, 4]</td>\n",
       "      <td>Butter Crumb Cake:1:4.63; Caramel Frappe Latte...</td>\n",
       "      <td>1.00</td>\n",
       "      <td>Non-Regular Customer - Low Spend Customer</td>\n",
       "      <td>[Non-Regular Customer, Low Spend Customer]</td>\n",
       "      <td>0</td>\n",
       "      <td>1</td>\n",
       "      <td>1</td>\n",
       "      <td>0</td>\n",
       "    </tr>\n",
       "    <tr>\n",
       "      <th>3</th>\n",
       "      <td>1046</td>\n",
       "      <td>1</td>\n",
       "      <td>4.63</td>\n",
       "      <td>1</td>\n",
       "      <td>22.00</td>\n",
       "      <td>[0]</td>\n",
       "      <td>Butter Crumb Cake:1:4.63</td>\n",
       "      <td>1.00</td>\n",
       "      <td>Non-Regular Customer - Low Spend Customer</td>\n",
       "      <td>[Non-Regular Customer, Low Spend Customer]</td>\n",
       "      <td>0</td>\n",
       "      <td>1</td>\n",
       "      <td>1</td>\n",
       "      <td>0</td>\n",
       "    </tr>\n",
       "    <tr>\n",
       "      <th>4</th>\n",
       "      <td>1059</td>\n",
       "      <td>1</td>\n",
       "      <td>2.84</td>\n",
       "      <td>1</td>\n",
       "      <td>2.00</td>\n",
       "      <td>[1]</td>\n",
       "      <td>Cinnamon Bun:1:2.84</td>\n",
       "      <td>1.00</td>\n",
       "      <td>Non-Regular Customer - Low Spend Customer</td>\n",
       "      <td>[Non-Regular Customer, Low Spend Customer]</td>\n",
       "      <td>0</td>\n",
       "      <td>1</td>\n",
       "      <td>1</td>\n",
       "      <td>0</td>\n",
       "    </tr>\n",
       "  </tbody>\n",
       "</table>\n",
       "</div>"
      ],
      "text/plain": [
       "   Customer ID  Total_Orders  Total_Spent  Total_Quantity   Hour  \\\n",
       "0         1005             4        30.16               7  14.75   \n",
       "1         1016             1         7.88               2  14.00   \n",
       "2         1043             2         7.81               2   5.50   \n",
       "3         1046             1         4.63               1  22.00   \n",
       "4         1059             1         2.84               1   2.00   \n",
       "\n",
       "  Unique_Visit_Days                                         All_Orders  \\\n",
       "0         [0, 1, 6]  Mocha Frappe Latte:1:3.34; Hard Boiled Eggs:1:...   \n",
       "1               [0]                              Tiramisu Latte:2:3.94   \n",
       "2            [2, 4]  Butter Crumb Cake:1:4.63; Caramel Frappe Latte...   \n",
       "3               [0]                           Butter Crumb Cake:1:4.63   \n",
       "4               [1]                                Cinnamon Bun:1:2.84   \n",
       "\n",
       "   Avg_Items_Per_Order                              Customer_Label  \\\n",
       "0                 1.75       Regular Customer - Low Spend Customer   \n",
       "1                 2.00  Non-Regular Customer - High Spend Customer   \n",
       "2                 1.00   Non-Regular Customer - Low Spend Customer   \n",
       "3                 1.00   Non-Regular Customer - Low Spend Customer   \n",
       "4                 1.00   Non-Regular Customer - Low Spend Customer   \n",
       "\n",
       "                                    Label_List  High Spend Customer  \\\n",
       "0       [Regular Customer, Low Spend Customer]                    0   \n",
       "1  [Non-Regular Customer, High Spend Customer]                    1   \n",
       "2   [Non-Regular Customer, Low Spend Customer]                    0   \n",
       "3   [Non-Regular Customer, Low Spend Customer]                    0   \n",
       "4   [Non-Regular Customer, Low Spend Customer]                    0   \n",
       "\n",
       "   Non-Regular Customer  Low Spend Customer  Regular Customer  \n",
       "0                     0                   1                 1  \n",
       "1                     1                   0                 0  \n",
       "2                     1                   1                 0  \n",
       "3                     1                   1                 0  \n",
       "4                     1                   1                 0  "
      ]
     },
     "execution_count": 51,
     "metadata": {},
     "output_type": "execute_result"
    }
   ],
   "source": [
    "import pandas as pd\n",
    "import numpy as np\n",
    "\n",
    "# Example: Split combined labels and create binary features\n",
    "# Assuming 'Customer_Label' is a column with combined labels\n",
    "def split_labels(labels):\n",
    "    return labels.split(' - ') if isinstance(labels, str) else []\n",
    "\n",
    "# Apply the split function to create a list of labels for each customer\n",
    "aggregated_df['Label_List'] = aggregated_df['Customer_Label'].apply(split_labels)\n",
    "\n",
    "# Now we create binary features for each possible label\n",
    "all_labels = set(label for label_list in aggregated_df['Label_List'] for label in label_list)\n",
    "label_map = {label: i for i, label in enumerate(all_labels)}\n",
    "\n",
    "# Create binary columns for each label\n",
    "for label in all_labels:\n",
    "    aggregated_df[label] = aggregated_df['Label_List'].apply(lambda x: 1 if label in x else 0)\n",
    "\n",
    "# Check the resulting datafr\n",
    "aggregated_df.head()\n",
    "\n",
    "# Now you can proceed to use these labels in your clustering or KNN model\n"
   ]
  },
  {
   "cell_type": "code",
   "execution_count": 55,
   "metadata": {},
   "outputs": [
    {
     "name": "stdout",
     "output_type": "stream",
     "text": [
      "Accuracy of KNN model: 96.35%\n"
     ]
    },
    {
     "data": {
      "text/plain": [
       "['scaler.pkl']"
      ]
     },
     "execution_count": 55,
     "metadata": {},
     "output_type": "execute_result"
    }
   ],
   "source": [
    "# Initialize knn model\n",
    "import joblib\n",
    "knn = KNeighborsClassifier(n_neighbors=4)\n",
    "knn.fit(x_Train, y_Train)\n",
    "\n",
    "y_pred = knn.predict(x_Test)\n",
    "\n",
    "# Evaluate the model using accuracy\n",
    "accuracy = accuracy_score(y_Test, y_pred)\n",
    "print(f\"Accuracy of KNN model: {accuracy * 100:.2f}%\")\n",
    "joblib.dump(knn, 'knn_model.pkl')\n",
    "joblib.dump(scaler, 'scaler.pkl')\n"
   ]
  },
  {
   "cell_type": "code",
   "execution_count": 56,
   "metadata": {},
   "outputs": [
    {
     "data": {
      "image/png": "[encoded data removed]",
      "text/plain": [
       "<Figure size 1000x600 with 2 Axes>"
      ]
     },
     "metadata": {},
     "output_type": "display_data"
    }
   ],
   "source": [
    "import matplotlib.pyplot as plt\n",
    "import numpy as np\n",
    "from sklearn.decomposition import PCA\n",
    "from sklearn.preprocessing import StandardScaler\n",
    "from sklearn.cluster import KMeans\n",
    "\n",
    "# Extract the features (numeric + one-hot encoded labels)\n",
    "features = aggregated_df[['Total_Orders', 'Total_Spent', 'Total_Quantity'] + list(all_labels)]\n",
    "\n",
    "# Standardize the features\n",
    "scaler = StandardScaler()\n",
    "scaled_features = scaler.fit_transform(features)\n",
    "\n",
    "# Apply PCA to reduce features to 2D\n",
    "pca = PCA(n_components=2)\n",
    "reduced_features = pca.fit_transform(scaled_features)\n",
    "\n",
    "# Apply KMeans clustering (or use your clustering method)\n",
    "kmeans = KMeans(n_clusters=4, random_state=42)  # You can change the number of clusters based on your analysis\n",
    "aggregated_df['Cluster'] = kmeans.fit_predict(scaled_features)\n",
    "\n",
    "# Extract the first two principal components for plotting\n",
    "x = reduced_features[:, 0]\n",
    "y = reduced_features[:, 1]\n",
    "\n",
    "# Get the cluster labels (used for coloring the points)\n",
    "clusters = aggregated_df['Cluster'].values\n",
    "\n",
    "# Create the scatter plot\n",
    "plt.figure(figsize=(10, 6))\n",
    "scatter = plt.scatter(x, y, c=clusters, cmap='viridis', marker='o', edgecolors='k')\n",
    "\n",
    "# Title and labels for the plot\n",
    "plt.title(\"Customer Clusters Based on PCA and Features\")\n",
    "plt.xlabel(\"Principal Component 1\")\n",
    "plt.ylabel(\"Principal Component 2\")\n",
    "\n",
    "# Add a colorbar to show the cluster labels\n",
    "plt.colorbar(scatter, label='Cluster')\n",
    "\n",
    "# Display the plot\n",
    "plt.show()\n"
   ]
  },
  {
   "cell_type": "code",
   "execution_count": 60,
   "metadata": {},
   "outputs": [
    {
     "data": {
      "application/vnd.plotly.v1+json": {
       "config": {
        "plotlyServerURL": "https://plot.ly"
       },
       "data": [
        {
         "customdata": [
          [
           "1005<br>Regular Customer, Low Spend Customer"
          ],
          [
           "1016<br>Non-Regular Customer, High Spend Customer"
          ],
          [
           "1043<br>Non-Regular Customer, Low Spend Customer"
          ],
          [
           "1046<br>Non-Regular Customer, Low Spend Customer"
          ],
          [
           "1059<br>Non-Regular Customer, Low Spend Customer"
          ],
          [
           "1069<br>Non-Regular Customer, Low Spend Customer"
          ],
          [
           "1075<br>Non-Regular Customer, Low Spend Customer"
          ],
          [
           "1084<br>Non-Regular Customer, High Spend Customer"
          ],
          [
           "1098<br>Non-Regular Customer, Low Spend Customer"
          ],
          [
           "1109<br>Non-Regular Customer, Low Spend Customer"
          ],
          [
           "1117<br>Non-Regular Customer, Low Spend Customer"
          ],
          [
           "1132<br>Non-Regular Customer, High Spend Customer"
          ],
          [
           "1138<br>Non-Regular Customer, Low Spend Customer"
          ],
          [
           "1159<br>Non-Regular Customer, High Spend Customer"
          ],
          [
           "1168<br>Non-Regular Customer, Low Spend Customer"
          ],
          [
           "1175<br>Non-Regular Customer, Low Spend Customer"
          ],
          [
           "1176<br>Non-Regular Customer, Low Spend Customer"
          ],
          [
           "1181<br>Non-Regular Customer, Low Spend Customer"
          ],
          [
           "1185<br>Non-Regular Customer, High Spend Customer"
          ],
          [
           "1199<br>Non-Regular Customer, Low Spend Customer"
          ],
          [
           "1200<br>Non-Regular Customer, Low Spend Customer"
          ],
          [
           "1218<br>Regular Customer, High Spend Customer"
          ],
          [
           "1233<br>Non-Regular Customer, Low Spend Customer"
          ],
          [
           "1239<br>Non-Regular Customer, Low Spend Customer"
          ],
          [
           "1240<br>Non-Regular Customer, Low Spend Customer"
          ],
          [
           "1246<br>Non-Regular Customer, High Spend Customer"
          ],
          [
           "1282<br>Non-Regular Customer, Low Spend Customer"
          ],
          [
           "1306<br>Non-Regular Customer, Low Spend Customer"
          ],
          [
           "1334<br>Non-Regular Customer, Low Spend Customer"
          ],
          [
           "1369<br>Non-Regular Customer, Low Spend Customer"
          ],
          [
           "1385<br>Non-Regular Customer, Low Spend Customer"
          ],
          [
           "1399<br>Non-Regular Customer, High Spend Customer"
          ],
          [
           "1418<br>Non-Regular Customer, High Spend Customer"
          ],
          [
           "1422<br>Non-Regular Customer, Low Spend Customer"
          ],
          [
           "1424<br>Non-Regular Customer, Low Spend Customer"
          ],
          [
           "1426<br>Non-Regular Customer, Low Spend Customer"
          ],
          [
           "1437<br>Non-Regular Customer, Low Spend Customer"
          ],
          [
           "1448<br>Non-Regular Customer, Low Spend Customer"
          ],
          [
           "1449<br>Non-Regular Customer, High Spend Customer"
          ],
          [
           "1465<br>Non-Regular Customer, Low Spend Customer"
          ],
          [
           "1471<br>Regular Customer, Low Spend Customer"
          ],
          [
           "1479<br>Non-Regular Customer, High Spend Customer"
          ],
          [
           "1487<br>Non-Regular Customer, Low Spend Customer"
          ],
          [
           "1497<br>Non-Regular Customer, Low Spend Customer"
          ],
          [
           "1500<br>Non-Regular Customer, Low Spend Customer"
          ],
          [
           "1507<br>Non-Regular Customer, High Spend Customer"
          ],
          [
           "1517<br>Non-Regular Customer, Low Spend Customer"
          ],
          [
           "1534<br>Non-Regular Customer, Low Spend Customer"
          ],
          [
           "1564<br>Non-Regular Customer, Low Spend Customer"
          ],
          [
           "1570<br>Non-Regular Customer, Low Spend Customer"
          ],
          [
           "1574<br>Non-Regular Customer, High Spend Customer"
          ],
          [
           "1581<br>Non-Regular Customer, Low Spend Customer"
          ],
          [
           "1586<br>Non-Regular Customer, Low Spend Customer"
          ],
          [
           "1591<br>Regular Customer, Low Spend Customer"
          ],
          [
           "1596<br>Non-Regular Customer, Low Spend Customer"
          ],
          [
           "1598<br>Non-Regular Customer, High Spend Customer"
          ],
          [
           "1602<br>Non-Regular Customer, Low Spend Customer"
          ],
          [
           "1615<br>Non-Regular Customer, Low Spend Customer"
          ],
          [
           "1622<br>Non-Regular Customer, High Spend Customer"
          ],
          [
           "1623<br>Non-Regular Customer, Low Spend Customer"
          ],
          [
           "1626<br>Non-Regular Customer, High Spend Customer"
          ],
          [
           "1628<br>Non-Regular Customer, Low Spend Customer"
          ],
          [
           "1634<br>Non-Regular Customer, Low Spend Customer"
          ],
          [
           "1642<br>Non-Regular Customer, High Spend Customer"
          ],
          [
           "1659<br>Non-Regular Customer, High Spend Customer"
          ],
          [
           "1663<br>Non-Regular Customer, Low Spend Customer"
          ],
          [
           "1677<br>Non-Regular Customer, Low Spend Customer"
          ],
          [
           "1681<br>Non-Regular Customer, Low Spend Customer"
          ],
          [
           "1732<br>Non-Regular Customer, Low Spend Customer"
          ],
          [
           "1734<br>Regular Customer, Low Spend Customer"
          ],
          [
           "1738<br>Non-Regular Customer, Low Spend Customer"
          ],
          [
           "1753<br>Non-Regular Customer, High Spend Customer"
          ],
          [
           "1777<br>Non-Regular Customer, High Spend Customer"
          ],
          [
           "1779<br>Non-Regular Customer, Low Spend Customer"
          ],
          [
           "1781<br>Non-Regular Customer, Low Spend Customer"
          ],
          [
           "1791<br>Non-Regular Customer, Low Spend Customer"
          ],
          [
           "1794<br>Non-Regular Customer, Low Spend Customer"
          ],
          [
           "1801<br>Regular Customer, Low Spend Customer"
          ],
          [
           "1822<br>Regular Customer, High Spend Customer"
          ],
          [
           "1834<br>Non-Regular Customer, Low Spend Customer"
          ],
          [
           "1851<br>Non-Regular Customer, Low Spend Customer"
          ],
          [
           "1858<br>Non-Regular Customer, Low Spend Customer"
          ],
          [
           "1863<br>Non-Regular Customer, Low Spend Customer"
          ],
          [
           "1868<br>Non-Regular Customer, Low Spend Customer"
          ],
          [
           "1878<br>Non-Regular Customer, Low Spend Customer"
          ],
          [
           "1889<br>Non-Regular Customer, Low Spend Customer"
          ],
          [
           "1903<br>Non-Regular Customer, Low Spend Customer"
          ],
          [
           "1905<br>Regular Customer, High Spend Customer"
          ],
          [
           "1941<br>Non-Regular Customer, High Spend Customer"
          ],
          [
           "1943<br>Non-Regular Customer, High Spend Customer"
          ],
          [
           "1954<br>Non-Regular Customer, Low Spend Customer"
          ],
          [
           "1964<br>Non-Regular Customer, Low Spend Customer"
          ],
          [
           "1968<br>Non-Regular Customer, High Spend Customer"
          ],
          [
           "1976<br>Non-Regular Customer, Low Spend Customer"
          ],
          [
           "1985<br>Non-Regular Customer, High Spend Customer"
          ],
          [
           "2000<br>Regular Customer, Low Spend Customer"
          ],
          [
           "2012<br>Non-Regular Customer, Low Spend Customer"
          ],
          [
           "2016<br>Non-Regular Customer, Low Spend Customer"
          ],
          [
           "2027<br>Regular Customer, Low Spend Customer"
          ],
          [
           "2031<br>Non-Regular Customer, Low Spend Customer"
          ],
          [
           "2032<br>Non-Regular Customer, Low Spend Customer"
          ],
          [
           "2062<br>Non-Regular Customer, Low Spend Customer"
          ],
          [
           "2064<br>Non-Regular Customer, Low Spend Customer"
          ],
          [
           "2083<br>Non-Regular Customer, Low Spend Customer"
          ],
          [
           "2084<br>Non-Regular Customer, Low Spend Customer"
          ],
          [
           "2098<br>Non-Regular Customer, Low Spend Customer"
          ],
          [
           "2103<br>Non-Regular Customer, Low Spend Customer"
          ],
          [
           "2106<br>Non-Regular Customer, Low Spend Customer"
          ],
          [
           "2113<br>Regular Customer, High Spend Customer"
          ],
          [
           "2117<br>Non-Regular Customer, High Spend Customer"
          ],
          [
           "2144<br>Non-Regular Customer, Low Spend Customer"
          ],
          [
           "2145<br>Non-Regular Customer, High Spend Customer"
          ],
          [
           "2147<br>Non-Regular Customer, Low Spend Customer"
          ],
          [
           "2151<br>Non-Regular Customer, High Spend Customer"
          ],
          [
           "2164<br>Non-Regular Customer, Low Spend Customer"
          ],
          [
           "2178<br>Non-Regular Customer, Low Spend Customer"
          ],
          [
           "2182<br>Non-Regular Customer, High Spend Customer"
          ],
          [
           "2198<br>Non-Regular Customer, Low Spend Customer"
          ],
          [
           "2202<br>Non-Regular Customer, Low Spend Customer"
          ],
          [
           "2218<br>Non-Regular Customer, Low Spend Customer"
          ],
          [
           "2224<br>Non-Regular Customer, Low Spend Customer"
          ],
          [
           "2230<br>Non-Regular Customer, Low Spend Customer"
          ],
          [
           "2237<br>Non-Regular Customer, High Spend Customer"
          ],
          [
           "2247<br>Non-Regular Customer, Low Spend Customer"
          ],
          [
           "2248<br>Non-Regular Customer, Low Spend Customer"
          ],
          [
           "2266<br>Non-Regular Customer, Low Spend Customer"
          ],
          [
           "2270<br>Non-Regular Customer, Low Spend Customer"
          ],
          [
           "2301<br>Non-Regular Customer, Low Spend Customer"
          ],
          [
           "2302<br>Non-Regular Customer, Low Spend Customer"
          ],
          [
           "2305<br>Non-Regular Customer, Low Spend Customer"
          ],
          [
           "2309<br>Non-Regular Customer, Low Spend Customer"
          ],
          [
           "2318<br>Non-Regular Customer, High Spend Customer"
          ],
          [
           "2335<br>Non-Regular Customer, Low Spend Customer"
          ],
          [
           "2339<br>Non-Regular Customer, Low Spend Customer"
          ],
          [
           "2347<br>Non-Regular Customer, Low Spend Customer"
          ],
          [
           "2348<br>Non-Regular Customer, Low Spend Customer"
          ],
          [
           "2355<br>Non-Regular Customer, High Spend Customer"
          ],
          [
           "2359<br>Non-Regular Customer, Low Spend Customer"
          ],
          [
           "2370<br>Regular Customer, High Spend Customer"
          ],
          [
           "2372<br>Non-Regular Customer, Low Spend Customer"
          ],
          [
           "2375<br>Non-Regular Customer, Low Spend Customer"
          ],
          [
           "2377<br>Non-Regular Customer, Low Spend Customer"
          ],
          [
           "2385<br>Non-Regular Customer, High Spend Customer"
          ],
          [
           "2394<br>Non-Regular Customer, High Spend Customer"
          ],
          [
           "2411<br>Non-Regular Customer, High Spend Customer"
          ],
          [
           "2419<br>Non-Regular Customer, Low Spend Customer"
          ],
          [
           "2422<br>Non-Regular Customer, Low Spend Customer"
          ],
          [
           "2425<br>Non-Regular Customer, Low Spend Customer"
          ],
          [
           "2435<br>Non-Regular Customer, Low Spend Customer"
          ],
          [
           "2448<br>Non-Regular Customer, Low Spend Customer"
          ],
          [
           "2458<br>Non-Regular Customer, High Spend Customer"
          ],
          [
           "2460<br>Non-Regular Customer, Low Spend Customer"
          ],
          [
           "2470<br>Non-Regular Customer, High Spend Customer"
          ],
          [
           "2480<br>Non-Regular Customer, Low Spend Customer"
          ],
          [
           "2492<br>Non-Regular Customer, High Spend Customer"
          ],
          [
           "2495<br>Non-Regular Customer, High Spend Customer"
          ],
          [
           "2497<br>Non-Regular Customer, High Spend Customer"
          ],
          [
           "2506<br>Non-Regular Customer, Low Spend Customer"
          ],
          [
           "2510<br>Non-Regular Customer, Low Spend Customer"
          ],
          [
           "2511<br>Non-Regular Customer, Low Spend Customer"
          ],
          [
           "2518<br>Non-Regular Customer, High Spend Customer"
          ],
          [
           "2532<br>Non-Regular Customer, High Spend Customer"
          ],
          [
           "2546<br>Non-Regular Customer, High Spend Customer"
          ],
          [
           "2547<br>Non-Regular Customer, High Spend Customer"
          ],
          [
           "2557<br>Non-Regular Customer, High Spend Customer"
          ],
          [
           "2563<br>Non-Regular Customer, Low Spend Customer"
          ],
          [
           "2571<br>Non-Regular Customer, Low Spend Customer"
          ],
          [
           "2572<br>Non-Regular Customer, Low Spend Customer"
          ],
          [
           "2584<br>Non-Regular Customer, High Spend Customer"
          ],
          [
           "2589<br>Non-Regular Customer, High Spend Customer"
          ],
          [
           "2598<br>Non-Regular Customer, High Spend Customer"
          ],
          [
           "2602<br>Regular Customer, High Spend Customer"
          ],
          [
           "2616<br>Non-Regular Customer, Low Spend Customer"
          ],
          [
           "2618<br>Non-Regular Customer, Low Spend Customer"
          ],
          [
           "2636<br>Non-Regular Customer, High Spend Customer"
          ],
          [
           "2639<br>Non-Regular Customer, Low Spend Customer"
          ],
          [
           "2647<br>Non-Regular Customer, High Spend Customer"
          ],
          [
           "2658<br>Non-Regular Customer, High Spend Customer"
          ],
          [
           "2695<br>Non-Regular Customer, Low Spend Customer"
          ],
          [
           "2698<br>Non-Regular Customer, Low Spend Customer"
          ],
          [
           "2702<br>Non-Regular Customer, Low Spend Customer"
          ],
          [
           "2712<br>Non-Regular Customer, Low Spend Customer"
          ],
          [
           "2716<br>Non-Regular Customer, High Spend Customer"
          ],
          [
           "2720<br>Non-Regular Customer, High Spend Customer"
          ],
          [
           "2721<br>Non-Regular Customer, Low Spend Customer"
          ],
          [
           "2728<br>Non-Regular Customer, High Spend Customer"
          ],
          [
           "2738<br>Non-Regular Customer, Low Spend Customer"
          ],
          [
           "2751<br>Non-Regular Customer, Low Spend Customer"
          ],
          [
           "2767<br>Non-Regular Customer, Low Spend Customer"
          ],
          [
           "2786<br>Non-Regular Customer, High Spend Customer"
          ],
          [
           "2798<br>Non-Regular Customer, Low Spend Customer"
          ],
          [
           "2803<br>Non-Regular Customer, High Spend Customer"
          ],
          [
           "2806<br>Non-Regular Customer, Low Spend Customer"
          ],
          [
           "2816<br>Non-Regular Customer, High Spend Customer"
          ],
          [
           "2821<br>Non-Regular Customer, Low Spend Customer"
          ],
          [
           "2829<br>Regular Customer, High Spend Customer"
          ],
          [
           "2833<br>Non-Regular Customer, Low Spend Customer"
          ],
          [
           "2839<br>Non-Regular Customer, Low Spend Customer"
          ],
          [
           "2842<br>Non-Regular Customer, Low Spend Customer"
          ],
          [
           "2854<br>Non-Regular Customer, Low Spend Customer"
          ],
          [
           "2871<br>Non-Regular Customer, Low Spend Customer"
          ],
          [
           "2875<br>Non-Regular Customer, Low Spend Customer"
          ],
          [
           "2885<br>Non-Regular Customer, Low Spend Customer"
          ],
          [
           "2889<br>Non-Regular Customer, Low Spend Customer"
          ],
          [
           "2893<br>Non-Regular Customer, High Spend Customer"
          ],
          [
           "2914<br>Non-Regular Customer, Low Spend Customer"
          ],
          [
           "2949<br>Non-Regular Customer, High Spend Customer"
          ],
          [
           "2960<br>Non-Regular Customer, Low Spend Customer"
          ],
          [
           "2961<br>Non-Regular Customer, Low Spend Customer"
          ],
          [
           "2972<br>Non-Regular Customer, Low Spend Customer"
          ],
          [
           "2977<br>Non-Regular Customer, High Spend Customer"
          ],
          [
           "2983<br>Non-Regular Customer, Low Spend Customer"
          ],
          [
           "2986<br>Non-Regular Customer, Low Spend Customer"
          ],
          [
           "2992<br>Non-Regular Customer, Low Spend Customer"
          ],
          [
           "3006<br>Non-Regular Customer, High Spend Customer"
          ],
          [
           "3012<br>Non-Regular Customer, Low Spend Customer"
          ],
          [
           "3038<br>Non-Regular Customer, Low Spend Customer"
          ],
          [
           "3041<br>Non-Regular Customer, Low Spend Customer"
          ],
          [
           "3051<br>Non-Regular Customer, High Spend Customer"
          ],
          [
           "3059<br>Non-Regular Customer, Low Spend Customer"
          ],
          [
           "3073<br>Non-Regular Customer, High Spend Customer"
          ],
          [
           "3078<br>Non-Regular Customer, High Spend Customer"
          ],
          [
           "3084<br>Non-Regular Customer, Low Spend Customer"
          ],
          [
           "3088<br>Non-Regular Customer, High Spend Customer"
          ],
          [
           "3122<br>Non-Regular Customer, High Spend Customer"
          ],
          [
           "3130<br>Non-Regular Customer, Low Spend Customer"
          ],
          [
           "3151<br>Non-Regular Customer, Low Spend Customer"
          ],
          [
           "3155<br>Non-Regular Customer, Low Spend Customer"
          ],
          [
           "3169<br>Non-Regular Customer, Low Spend Customer"
          ],
          [
           "3204<br>Non-Regular Customer, Low Spend Customer"
          ],
          [
           "3216<br>Non-Regular Customer, Low Spend Customer"
          ],
          [
           "3225<br>Non-Regular Customer, Low Spend Customer"
          ],
          [
           "3228<br>Non-Regular Customer, Low Spend Customer"
          ],
          [
           "3230<br>Non-Regular Customer, High Spend Customer"
          ],
          [
           "3234<br>Non-Regular Customer, Low Spend Customer"
          ],
          [
           "3242<br>Non-Regular Customer, Low Spend Customer"
          ],
          [
           "3243<br>Non-Regular Customer, Low Spend Customer"
          ],
          [
           "3289<br>Non-Regular Customer, High Spend Customer"
          ],
          [
           "3290<br>Non-Regular Customer, High Spend Customer"
          ],
          [
           "3295<br>Non-Regular Customer, Low Spend Customer"
          ],
          [
           "3309<br>Non-Regular Customer, High Spend Customer"
          ],
          [
           "3323<br>Non-Regular Customer, Low Spend Customer"
          ],
          [
           "3349<br>Non-Regular Customer, High Spend Customer"
          ],
          [
           "3351<br>Non-Regular Customer, Low Spend Customer"
          ],
          [
           "3353<br>Non-Regular Customer, Low Spend Customer"
          ],
          [
           "3355<br>Non-Regular Customer, High Spend Customer"
          ],
          [
           "3358<br>Non-Regular Customer, Low Spend Customer"
          ],
          [
           "3369<br>Non-Regular Customer, Low Spend Customer"
          ],
          [
           "3381<br>Regular Customer, High Spend Customer"
          ],
          [
           "3395<br>Non-Regular Customer, Low Spend Customer"
          ],
          [
           "3413<br>Non-Regular Customer, Low Spend Customer"
          ],
          [
           "3416<br>Regular Customer, High Spend Customer"
          ],
          [
           "3417<br>Non-Regular Customer, High Spend Customer"
          ],
          [
           "3424<br>Non-Regular Customer, Low Spend Customer"
          ],
          [
           "3456<br>Non-Regular Customer, Low Spend Customer"
          ],
          [
           "3459<br>Non-Regular Customer, Low Spend Customer"
          ],
          [
           "3463<br>Non-Regular Customer, High Spend Customer"
          ],
          [
           "3495<br>Non-Regular Customer, Low Spend Customer"
          ],
          [
           "3502<br>Regular Customer, High Spend Customer"
          ],
          [
           "3525<br>Non-Regular Customer, Low Spend Customer"
          ],
          [
           "3540<br>Non-Regular Customer, Low Spend Customer"
          ],
          [
           "3547<br>Regular Customer, High Spend Customer"
          ],
          [
           "3548<br>Non-Regular Customer, Low Spend Customer"
          ],
          [
           "3558<br>Regular Customer, Low Spend Customer"
          ],
          [
           "3561<br>Non-Regular Customer, Low Spend Customer"
          ],
          [
           "3563<br>Non-Regular Customer, High Spend Customer"
          ],
          [
           "3572<br>Non-Regular Customer, Low Spend Customer"
          ],
          [
           "3573<br>Non-Regular Customer, High Spend Customer"
          ],
          [
           "3582<br>Non-Regular Customer, High Spend Customer"
          ],
          [
           "3586<br>Non-Regular Customer, Low Spend Customer"
          ],
          [
           "3602<br>Non-Regular Customer, Low Spend Customer"
          ],
          [
           "3607<br>Non-Regular Customer, Low Spend Customer"
          ],
          [
           "3628<br>Non-Regular Customer, Low Spend Customer"
          ],
          [
           "3645<br>Non-Regular Customer, Low Spend Customer"
          ],
          [
           "3647<br>Non-Regular Customer, Low Spend Customer"
          ],
          [
           "3656<br>Non-Regular Customer, Low Spend Customer"
          ],
          [
           "3660<br>Non-Regular Customer, High Spend Customer"
          ],
          [
           "3669<br>Non-Regular Customer, Low Spend Customer"
          ],
          [
           "3677<br>Non-Regular Customer, High Spend Customer"
          ],
          [
           "3699<br>Non-Regular Customer, Low Spend Customer"
          ],
          [
           "3703<br>Non-Regular Customer, Low Spend Customer"
          ],
          [
           "3716<br>Non-Regular Customer, Low Spend Customer"
          ],
          [
           "3719<br>Non-Regular Customer, Low Spend Customer"
          ],
          [
           "3726<br>Non-Regular Customer, Low Spend Customer"
          ],
          [
           "3738<br>Regular Customer, Low Spend Customer"
          ],
          [
           "3746<br>Non-Regular Customer, Low Spend Customer"
          ],
          [
           "3755<br>Non-Regular Customer, Low Spend Customer"
          ],
          [
           "3765<br>Non-Regular Customer, High Spend Customer"
          ],
          [
           "3778<br>Non-Regular Customer, Low Spend Customer"
          ],
          [
           "3792<br>Non-Regular Customer, Low Spend Customer"
          ],
          [
           "3793<br>Regular Customer, Low Spend Customer"
          ],
          [
           "3798<br>Non-Regular Customer, Low Spend Customer"
          ],
          [
           "3800<br>Non-Regular Customer, High Spend Customer"
          ],
          [
           "3813<br>Non-Regular Customer, Low Spend Customer"
          ],
          [
           "3828<br>Non-Regular Customer, High Spend Customer"
          ],
          [
           "3840<br>Non-Regular Customer, Low Spend Customer"
          ],
          [
           "3844<br>Non-Regular Customer, Low Spend Customer"
          ],
          [
           "3863<br>Non-Regular Customer, High Spend Customer"
          ],
          [
           "3865<br>Non-Regular Customer, Low Spend Customer"
          ],
          [
           "3892<br>Non-Regular Customer, High Spend Customer"
          ],
          [
           "3894<br>Non-Regular Customer, High Spend Customer"
          ],
          [
           "3897<br>Non-Regular Customer, High Spend Customer"
          ],
          [
           "3906<br>Non-Regular Customer, Low Spend Customer"
          ],
          [
           "3918<br>Non-Regular Customer, Low Spend Customer"
          ],
          [
           "3933<br>Non-Regular Customer, Low Spend Customer"
          ],
          [
           "3939<br>Non-Regular Customer, Low Spend Customer"
          ],
          [
           "3941<br>Non-Regular Customer, Low Spend Customer"
          ],
          [
           "3944<br>Non-Regular Customer, Low Spend Customer"
          ],
          [
           "3948<br>Non-Regular Customer, Low Spend Customer"
          ],
          [
           "3949<br>Non-Regular Customer, Low Spend Customer"
          ],
          [
           "3957<br>Regular Customer, High Spend Customer"
          ],
          [
           "3958<br>Non-Regular Customer, High Spend Customer"
          ],
          [
           "3965<br>Non-Regular Customer, Low Spend Customer"
          ],
          [
           "3980<br>Non-Regular Customer, Low Spend Customer"
          ],
          [
           "3982<br>Non-Regular Customer, Low Spend Customer"
          ],
          [
           "3998<br>Non-Regular Customer, High Spend Customer"
          ],
          [
           "4009<br>Non-Regular Customer, High Spend Customer"
          ],
          [
           "4013<br>Non-Regular Customer, Low Spend Customer"
          ],
          [
           "4021<br>Non-Regular Customer, High Spend Customer"
          ],
          [
           "4027<br>Non-Regular Customer, High Spend Customer"
          ],
          [
           "4028<br>Non-Regular Customer, High Spend Customer"
          ],
          [
           "4048<br>Non-Regular Customer, Low Spend Customer"
          ],
          [
           "4049<br>Non-Regular Customer, Low Spend Customer"
          ],
          [
           "4069<br>Non-Regular Customer, High Spend Customer"
          ],
          [
           "4073<br>Non-Regular Customer, High Spend Customer"
          ],
          [
           "4074<br>Non-Regular Customer, High Spend Customer"
          ],
          [
           "4083<br>Non-Regular Customer, Low Spend Customer"
          ],
          [
           "4085<br>Non-Regular Customer, Low Spend Customer"
          ],
          [
           "4090<br>Non-Regular Customer, Low Spend Customer"
          ],
          [
           "4093<br>Non-Regular Customer, Low Spend Customer"
          ],
          [
           "4126<br>Non-Regular Customer, Low Spend Customer"
          ],
          [
           "4136<br>Non-Regular Customer, Low Spend Customer"
          ],
          [
           "4139<br>Non-Regular Customer, Low Spend Customer"
          ],
          [
           "4149<br>Non-Regular Customer, High Spend Customer"
          ],
          [
           "4156<br>Non-Regular Customer, Low Spend Customer"
          ],
          [
           "4160<br>Regular Customer, Low Spend Customer"
          ],
          [
           "4169<br>Non-Regular Customer, High Spend Customer"
          ],
          [
           "4180<br>Non-Regular Customer, Low Spend Customer"
          ],
          [
           "4198<br>Non-Regular Customer, Low Spend Customer"
          ],
          [
           "4202<br>Non-Regular Customer, Low Spend Customer"
          ],
          [
           "4215<br>Non-Regular Customer, Low Spend Customer"
          ],
          [
           "4226<br>Non-Regular Customer, High Spend Customer"
          ],
          [
           "4234<br>Non-Regular Customer, Low Spend Customer"
          ],
          [
           "4245<br>Non-Regular Customer, High Spend Customer"
          ],
          [
           "4246<br>Non-Regular Customer, Low Spend Customer"
          ],
          [
           "4256<br>Non-Regular Customer, Low Spend Customer"
          ],
          [
           "4262<br>Non-Regular Customer, Low Spend Customer"
          ],
          [
           "4274<br>Non-Regular Customer, High Spend Customer"
          ],
          [
           "4277<br>Non-Regular Customer, Low Spend Customer"
          ],
          [
           "4285<br>Regular Customer, High Spend Customer"
          ],
          [
           "4296<br>Non-Regular Customer, Low Spend Customer"
          ],
          [
           "4301<br>Non-Regular Customer, Low Spend Customer"
          ],
          [
           "4303<br>Non-Regular Customer, Low Spend Customer"
          ],
          [
           "4307<br>Non-Regular Customer, Low Spend Customer"
          ],
          [
           "4314<br>Non-Regular Customer, Low Spend Customer"
          ],
          [
           "4320<br>Non-Regular Customer, High Spend Customer"
          ],
          [
           "4321<br>Non-Regular Customer, High Spend Customer"
          ],
          [
           "4354<br>Non-Regular Customer, High Spend Customer"
          ],
          [
           "4355<br>Non-Regular Customer, Low Spend Customer"
          ],
          [
           "4363<br>Non-Regular Customer, Low Spend Customer"
          ],
          [
           "4364<br>Non-Regular Customer, High Spend Customer"
          ],
          [
           "4371<br>Non-Regular Customer, High Spend Customer"
          ],
          [
           "4384<br>Non-Regular Customer, High Spend Customer"
          ],
          [
           "4387<br>Non-Regular Customer, Low Spend Customer"
          ],
          [
           "4404<br>Non-Regular Customer, High Spend Customer"
          ],
          [
           "4415<br>Non-Regular Customer, High Spend Customer"
          ],
          [
           "4416<br>Non-Regular Customer, High Spend Customer"
          ],
          [
           "4435<br>Non-Regular Customer, Low Spend Customer"
          ],
          [
           "4437<br>Non-Regular Customer, Low Spend Customer"
          ],
          [
           "4446<br>Non-Regular Customer, Low Spend Customer"
          ],
          [
           "4450<br>Non-Regular Customer, High Spend Customer"
          ],
          [
           "4451<br>Non-Regular Customer, High Spend Customer"
          ],
          [
           "4477<br>Non-Regular Customer, Low Spend Customer"
          ],
          [
           "4494<br>Non-Regular Customer, Low Spend Customer"
          ],
          [
           "4519<br>Non-Regular Customer, High Spend Customer"
          ],
          [
           "4530<br>Non-Regular Customer, Low Spend Customer"
          ],
          [
           "4532<br>Non-Regular Customer, Low Spend Customer"
          ],
          [
           "4546<br>Non-Regular Customer, Low Spend Customer"
          ],
          [
           "4555<br>Non-Regular Customer, Low Spend Customer"
          ],
          [
           "4563<br>Non-Regular Customer, High Spend Customer"
          ],
          [
           "4565<br>Regular Customer, Low Spend Customer"
          ],
          [
           "4599<br>Non-Regular Customer, High Spend Customer"
          ],
          [
           "4602<br>Non-Regular Customer, High Spend Customer"
          ],
          [
           "4619<br>Non-Regular Customer, High Spend Customer"
          ],
          [
           "4620<br>Non-Regular Customer, Low Spend Customer"
          ],
          [
           "4648<br>Non-Regular Customer, Low Spend Customer"
          ],
          [
           "4649<br>Non-Regular Customer, High Spend Customer"
          ],
          [
           "4650<br>Non-Regular Customer, High Spend Customer"
          ],
          [
           "4652<br>Non-Regular Customer, High Spend Customer"
          ],
          [
           "4653<br>Non-Regular Customer, Low Spend Customer"
          ],
          [
           "4658<br>Non-Regular Customer, High Spend Customer"
          ],
          [
           "4678<br>Non-Regular Customer, Low Spend Customer"
          ],
          [
           "4693<br>Regular Customer, Low Spend Customer"
          ],
          [
           "4711<br>Non-Regular Customer, Low Spend Customer"
          ],
          [
           "4719<br>Non-Regular Customer, Low Spend Customer"
          ],
          [
           "4721<br>Non-Regular Customer, Low Spend Customer"
          ],
          [
           "4726<br>Non-Regular Customer, Low Spend Customer"
          ],
          [
           "4730<br>Non-Regular Customer, Low Spend Customer"
          ],
          [
           "4747<br>Non-Regular Customer, Low Spend Customer"
          ],
          [
           "4748<br>Non-Regular Customer, Low Spend Customer"
          ],
          [
           "4750<br>Non-Regular Customer, Low Spend Customer"
          ],
          [
           "4760<br>Non-Regular Customer, Low Spend Customer"
          ],
          [
           "4763<br>Non-Regular Customer, Low Spend Customer"
          ],
          [
           "4767<br>Non-Regular Customer, High Spend Customer"
          ],
          [
           "4772<br>Non-Regular Customer, Low Spend Customer"
          ],
          [
           "4789<br>Non-Regular Customer, High Spend Customer"
          ],
          [
           "4819<br>Non-Regular Customer, Low Spend Customer"
          ],
          [
           "4843<br>Non-Regular Customer, High Spend Customer"
          ],
          [
           "4844<br>Non-Regular Customer, Low Spend Customer"
          ],
          [
           "4846<br>Non-Regular Customer, High Spend Customer"
          ],
          [
           "4873<br>Non-Regular Customer, High Spend Customer"
          ],
          [
           "4875<br>Regular Customer, Low Spend Customer"
          ],
          [
           "4879<br>Non-Regular Customer, Low Spend Customer"
          ],
          [
           "4883<br>Non-Regular Customer, Low Spend Customer"
          ],
          [
           "4914<br>Non-Regular Customer, High Spend Customer"
          ],
          [
           "4931<br>Non-Regular Customer, Low Spend Customer"
          ],
          [
           "4943<br>Non-Regular Customer, Low Spend Customer"
          ],
          [
           "4967<br>Non-Regular Customer, Low Spend Customer"
          ],
          [
           "4981<br>Non-Regular Customer, Low Spend Customer"
          ],
          [
           "4984<br>Non-Regular Customer, Low Spend Customer"
          ],
          [
           "4989<br>Non-Regular Customer, Low Spend Customer"
          ],
          [
           "5007<br>Non-Regular Customer, Low Spend Customer"
          ],
          [
           "5025<br>Non-Regular Customer, Low Spend Customer"
          ],
          [
           "5037<br>Non-Regular Customer, Low Spend Customer"
          ],
          [
           "5049<br>Non-Regular Customer, Low Spend Customer"
          ],
          [
           "5066<br>Non-Regular Customer, Low Spend Customer"
          ],
          [
           "5067<br>Non-Regular Customer, High Spend Customer"
          ],
          [
           "5072<br>Non-Regular Customer, Low Spend Customer"
          ],
          [
           "5088<br>Non-Regular Customer, Low Spend Customer"
          ],
          [
           "5108<br>Non-Regular Customer, High Spend Customer"
          ],
          [
           "5117<br>Non-Regular Customer, Low Spend Customer"
          ],
          [
           "5119<br>Regular Customer, Low Spend Customer"
          ],
          [
           "5122<br>Non-Regular Customer, Low Spend Customer"
          ],
          [
           "5124<br>Non-Regular Customer, Low Spend Customer"
          ],
          [
           "5131<br>Non-Regular Customer, Low Spend Customer"
          ],
          [
           "5135<br>Non-Regular Customer, Low Spend Customer"
          ],
          [
           "5136<br>Non-Regular Customer, Low Spend Customer"
          ],
          [
           "5139<br>Non-Regular Customer, Low Spend Customer"
          ],
          [
           "5142<br>Non-Regular Customer, Low Spend Customer"
          ],
          [
           "5144<br>Non-Regular Customer, Low Spend Customer"
          ],
          [
           "5164<br>Non-Regular Customer, High Spend Customer"
          ],
          [
           "5176<br>Non-Regular Customer, High Spend Customer"
          ],
          [
           "5177<br>Non-Regular Customer, Low Spend Customer"
          ],
          [
           "5186<br>Non-Regular Customer, High Spend Customer"
          ],
          [
           "5190<br>Non-Regular Customer, Low Spend Customer"
          ],
          [
           "5194<br>Non-Regular Customer, Low Spend Customer"
          ],
          [
           "5197<br>Non-Regular Customer, High Spend Customer"
          ],
          [
           "5201<br>Non-Regular Customer, Low Spend Customer"
          ],
          [
           "5208<br>Non-Regular Customer, Low Spend Customer"
          ],
          [
           "5210<br>Non-Regular Customer, Low Spend Customer"
          ],
          [
           "5215<br>Non-Regular Customer, Low Spend Customer"
          ],
          [
           "5259<br>Non-Regular Customer, High Spend Customer"
          ],
          [
           "5263<br>Non-Regular Customer, High Spend Customer"
          ],
          [
           "5268<br>Non-Regular Customer, Low Spend Customer"
          ],
          [
           "5290<br>Non-Regular Customer, Low Spend Customer"
          ],
          [
           "5304<br>Non-Regular Customer, Low Spend Customer"
          ],
          [
           "5311<br>Non-Regular Customer, Low Spend Customer"
          ],
          [
           "5327<br>Non-Regular Customer, High Spend Customer"
          ],
          [
           "5329<br>Non-Regular Customer, Low Spend Customer"
          ],
          [
           "5333<br>Non-Regular Customer, Low Spend Customer"
          ],
          [
           "5338<br>Non-Regular Customer, High Spend Customer"
          ],
          [
           "5358<br>Non-Regular Customer, High Spend Customer"
          ],
          [
           "5360<br>Non-Regular Customer, Low Spend Customer"
          ],
          [
           "5369<br>Non-Regular Customer, High Spend Customer"
          ],
          [
           "5389<br>Non-Regular Customer, High Spend Customer"
          ],
          [
           "5391<br>Non-Regular Customer, Low Spend Customer"
          ],
          [
           "5400<br>Non-Regular Customer, High Spend Customer"
          ],
          [
           "5406<br>Non-Regular Customer, Low Spend Customer"
          ],
          [
           "5454<br>Non-Regular Customer, High Spend Customer"
          ],
          [
           "5462<br>Non-Regular Customer, High Spend Customer"
          ],
          [
           "5468<br>Non-Regular Customer, Low Spend Customer"
          ],
          [
           "5470<br>Non-Regular Customer, Low Spend Customer"
          ],
          [
           "5494<br>Non-Regular Customer, High Spend Customer"
          ],
          [
           "5500<br>Non-Regular Customer, High Spend Customer"
          ],
          [
           "5510<br>Non-Regular Customer, High Spend Customer"
          ],
          [
           "5523<br>Non-Regular Customer, Low Spend Customer"
          ],
          [
           "5528<br>Non-Regular Customer, Low Spend Customer"
          ],
          [
           "5535<br>Non-Regular Customer, Low Spend Customer"
          ],
          [
           "5537<br>Non-Regular Customer, Low Spend Customer"
          ],
          [
           "5539<br>Non-Regular Customer, Low Spend Customer"
          ],
          [
           "5545<br>Non-Regular Customer, Low Spend Customer"
          ],
          [
           "5549<br>Non-Regular Customer, Low Spend Customer"
          ],
          [
           "5550<br>Non-Regular Customer, Low Spend Customer"
          ],
          [
           "5552<br>Non-Regular Customer, Low Spend Customer"
          ],
          [
           "5554<br>Non-Regular Customer, Low Spend Customer"
          ],
          [
           "5564<br>Non-Regular Customer, Low Spend Customer"
          ],
          [
           "5574<br>Non-Regular Customer, Low Spend Customer"
          ],
          [
           "5608<br>Non-Regular Customer, Low Spend Customer"
          ],
          [
           "5611<br>Non-Regular Customer, High Spend Customer"
          ],
          [
           "5619<br>Non-Regular Customer, High Spend Customer"
          ],
          [
           "5624<br>Non-Regular Customer, Low Spend Customer"
          ],
          [
           "5626<br>Non-Regular Customer, Low Spend Customer"
          ],
          [
           "5630<br>Regular Customer, High Spend Customer"
          ],
          [
           "5657<br>Non-Regular Customer, High Spend Customer"
          ],
          [
           "5670<br>Non-Regular Customer, High Spend Customer"
          ],
          [
           "5705<br>Non-Regular Customer, High Spend Customer"
          ],
          [
           "5706<br>Non-Regular Customer, High Spend Customer"
          ],
          [
           "5732<br>Non-Regular Customer, Low Spend Customer"
          ],
          [
           "5765<br>Non-Regular Customer, Low Spend Customer"
          ],
          [
           "5770<br>Non-Regular Customer, Low Spend Customer"
          ],
          [
           "5786<br>Non-Regular Customer, Low Spend Customer"
          ],
          [
           "5799<br>Non-Regular Customer, High Spend Customer"
          ],
          [
           "5804<br>Non-Regular Customer, Low Spend Customer"
          ],
          [
           "5812<br>Non-Regular Customer, High Spend Customer"
          ],
          [
           "5820<br>Non-Regular Customer, Low Spend Customer"
          ],
          [
           "5823<br>Non-Regular Customer, High Spend Customer"
          ],
          [
           "5826<br>Non-Regular Customer, Low Spend Customer"
          ],
          [
           "5829<br>Non-Regular Customer, Low Spend Customer"
          ],
          [
           "5841<br>Non-Regular Customer, Low Spend Customer"
          ],
          [
           "5847<br>Non-Regular Customer, Low Spend Customer"
          ],
          [
           "5851<br>Non-Regular Customer, High Spend Customer"
          ],
          [
           "5854<br>Non-Regular Customer, Low Spend Customer"
          ],
          [
           "5874<br>Non-Regular Customer, High Spend Customer"
          ],
          [
           "5883<br>Non-Regular Customer, High Spend Customer"
          ],
          [
           "5887<br>Non-Regular Customer, Low Spend Customer"
          ],
          [
           "5898<br>Non-Regular Customer, High Spend Customer"
          ],
          [
           "5912<br>Non-Regular Customer, High Spend Customer"
          ],
          [
           "5915<br>Non-Regular Customer, Low Spend Customer"
          ],
          [
           "5924<br>Non-Regular Customer, Low Spend Customer"
          ],
          [
           "5927<br>Non-Regular Customer, High Spend Customer"
          ],
          [
           "5934<br>Non-Regular Customer, High Spend Customer"
          ],
          [
           "5946<br>Non-Regular Customer, Low Spend Customer"
          ],
          [
           "5975<br>Non-Regular Customer, Low Spend Customer"
          ],
          [
           "5981<br>Non-Regular Customer, High Spend Customer"
          ],
          [
           "5999<br>Non-Regular Customer, High Spend Customer"
          ],
          [
           "6008<br>Non-Regular Customer, High Spend Customer"
          ],
          [
           "6010<br>Non-Regular Customer, Low Spend Customer"
          ],
          [
           "6032<br>Non-Regular Customer, Low Spend Customer"
          ],
          [
           "6035<br>Non-Regular Customer, High Spend Customer"
          ],
          [
           "6042<br>Non-Regular Customer, Low Spend Customer"
          ],
          [
           "6057<br>Non-Regular Customer, Low Spend Customer"
          ],
          [
           "6063<br>Non-Regular Customer, High Spend Customer"
          ],
          [
           "6086<br>Non-Regular Customer, High Spend Customer"
          ],
          [
           "6100<br>Non-Regular Customer, Low Spend Customer"
          ],
          [
           "6106<br>Non-Regular Customer, High Spend Customer"
          ],
          [
           "6121<br>Non-Regular Customer, Low Spend Customer"
          ],
          [
           "6123<br>Non-Regular Customer, Low Spend Customer"
          ],
          [
           "6142<br>Non-Regular Customer, Low Spend Customer"
          ],
          [
           "6152<br>Non-Regular Customer, High Spend Customer"
          ],
          [
           "6165<br>Non-Regular Customer, Low Spend Customer"
          ],
          [
           "6178<br>Non-Regular Customer, Low Spend Customer"
          ],
          [
           "6187<br>Non-Regular Customer, Low Spend Customer"
          ],
          [
           "6190<br>Non-Regular Customer, High Spend Customer"
          ],
          [
           "6195<br>Non-Regular Customer, Low Spend Customer"
          ],
          [
           "6201<br>Non-Regular Customer, High Spend Customer"
          ],
          [
           "6214<br>Non-Regular Customer, Low Spend Customer"
          ],
          [
           "6217<br>Non-Regular Customer, Low Spend Customer"
          ],
          [
           "6223<br>Non-Regular Customer, High Spend Customer"
          ],
          [
           "6227<br>Non-Regular Customer, Low Spend Customer"
          ],
          [
           "6233<br>Non-Regular Customer, Low Spend Customer"
          ],
          [
           "6245<br>Non-Regular Customer, Low Spend Customer"
          ],
          [
           "6246<br>Non-Regular Customer, High Spend Customer"
          ],
          [
           "6247<br>Non-Regular Customer, Low Spend Customer"
          ],
          [
           "6265<br>Non-Regular Customer, Low Spend Customer"
          ],
          [
           "6282<br>Non-Regular Customer, High Spend Customer"
          ],
          [
           "6289<br>Non-Regular Customer, Low Spend Customer"
          ],
          [
           "6294<br>Non-Regular Customer, Low Spend Customer"
          ],
          [
           "6298<br>Non-Regular Customer, Low Spend Customer"
          ],
          [
           "6308<br>Non-Regular Customer, Low Spend Customer"
          ],
          [
           "6321<br>Regular Customer, High Spend Customer"
          ],
          [
           "6339<br>Non-Regular Customer, Low Spend Customer"
          ],
          [
           "6347<br>Non-Regular Customer, High Spend Customer"
          ],
          [
           "6374<br>Non-Regular Customer, Low Spend Customer"
          ],
          [
           "6378<br>Non-Regular Customer, Low Spend Customer"
          ],
          [
           "6394<br>Non-Regular Customer, Low Spend Customer"
          ],
          [
           "6404<br>Non-Regular Customer, High Spend Customer"
          ],
          [
           "6410<br>Non-Regular Customer, Low Spend Customer"
          ],
          [
           "6417<br>Non-Regular Customer, Low Spend Customer"
          ],
          [
           "6431<br>Non-Regular Customer, High Spend Customer"
          ],
          [
           "6453<br>Non-Regular Customer, Low Spend Customer"
          ],
          [
           "6455<br>Non-Regular Customer, High Spend Customer"
          ],
          [
           "6456<br>Non-Regular Customer, Low Spend Customer"
          ],
          [
           "6460<br>Non-Regular Customer, High Spend Customer"
          ],
          [
           "6478<br>Non-Regular Customer, Low Spend Customer"
          ],
          [
           "6490<br>Non-Regular Customer, High Spend Customer"
          ],
          [
           "6499<br>Non-Regular Customer, Low Spend Customer"
          ],
          [
           "6511<br>Non-Regular Customer, Low Spend Customer"
          ],
          [
           "6517<br>Non-Regular Customer, Low Spend Customer"
          ],
          [
           "6536<br>Non-Regular Customer, Low Spend Customer"
          ],
          [
           "6539<br>Non-Regular Customer, Low Spend Customer"
          ],
          [
           "6564<br>Non-Regular Customer, High Spend Customer"
          ],
          [
           "6570<br>Non-Regular Customer, Low Spend Customer"
          ],
          [
           "6575<br>Non-Regular Customer, Low Spend Customer"
          ],
          [
           "6581<br>Non-Regular Customer, Low Spend Customer"
          ],
          [
           "6585<br>Non-Regular Customer, High Spend Customer"
          ],
          [
           "6588<br>Non-Regular Customer, High Spend Customer"
          ],
          [
           "6591<br>Non-Regular Customer, Low Spend Customer"
          ],
          [
           "6594<br>Regular Customer, Low Spend Customer"
          ],
          [
           "6602<br>Non-Regular Customer, Low Spend Customer"
          ],
          [
           "6603<br>Non-Regular Customer, Low Spend Customer"
          ],
          [
           "6627<br>Non-Regular Customer, High Spend Customer"
          ],
          [
           "6632<br>Non-Regular Customer, Low Spend Customer"
          ],
          [
           "6636<br>Regular Customer, Low Spend Customer"
          ],
          [
           "6657<br>Non-Regular Customer, Low Spend Customer"
          ],
          [
           "6666<br>Non-Regular Customer, High Spend Customer"
          ],
          [
           "6696<br>Non-Regular Customer, Low Spend Customer"
          ],
          [
           "6723<br>Non-Regular Customer, High Spend Customer"
          ],
          [
           "6725<br>Non-Regular Customer, High Spend Customer"
          ],
          [
           "6728<br>Non-Regular Customer, Low Spend Customer"
          ],
          [
           "6729<br>Non-Regular Customer, Low Spend Customer"
          ],
          [
           "6738<br>Non-Regular Customer, High Spend Customer"
          ],
          [
           "6743<br>Non-Regular Customer, Low Spend Customer"
          ],
          [
           "6752<br>Non-Regular Customer, Low Spend Customer"
          ],
          [
           "6754<br>Non-Regular Customer, Low Spend Customer"
          ],
          [
           "6759<br>Non-Regular Customer, Low Spend Customer"
          ],
          [
           "6767<br>Regular Customer, Low Spend Customer"
          ],
          [
           "6785<br>Non-Regular Customer, High Spend Customer"
          ],
          [
           "6786<br>Non-Regular Customer, Low Spend Customer"
          ],
          [
           "6804<br>Non-Regular Customer, Low Spend Customer"
          ],
          [
           "6805<br>Non-Regular Customer, Low Spend Customer"
          ],
          [
           "6841<br>Non-Regular Customer, Low Spend Customer"
          ],
          [
           "6844<br>Non-Regular Customer, Low Spend Customer"
          ],
          [
           "6849<br>Non-Regular Customer, High Spend Customer"
          ],
          [
           "6858<br>Non-Regular Customer, High Spend Customer"
          ],
          [
           "6859<br>Non-Regular Customer, Low Spend Customer"
          ],
          [
           "6886<br>Non-Regular Customer, Low Spend Customer"
          ],
          [
           "6890<br>Non-Regular Customer, Low Spend Customer"
          ],
          [
           "6895<br>Non-Regular Customer, High Spend Customer"
          ],
          [
           "6942<br>Non-Regular Customer, Low Spend Customer"
          ],
          [
           "6943<br>Non-Regular Customer, Low Spend Customer"
          ],
          [
           "6952<br>Non-Regular Customer, High Spend Customer"
          ],
          [
           "6975<br>Non-Regular Customer, Low Spend Customer"
          ],
          [
           "6977<br>Non-Regular Customer, Low Spend Customer"
          ],
          [
           "6981<br>Non-Regular Customer, Low Spend Customer"
          ],
          [
           "6983<br>Non-Regular Customer, High Spend Customer"
          ],
          [
           "6986<br>Non-Regular Customer, High Spend Customer"
          ],
          [
           "6991<br>Non-Regular Customer, Low Spend Customer"
          ],
          [
           "6994<br>Non-Regular Customer, Low Spend Customer"
          ],
          [
           "7001<br>Non-Regular Customer, Low Spend Customer"
          ],
          [
           "7009<br>Non-Regular Customer, High Spend Customer"
          ],
          [
           "7015<br>Non-Regular Customer, High Spend Customer"
          ],
          [
           "7016<br>Non-Regular Customer, Low Spend Customer"
          ],
          [
           "7026<br>Non-Regular Customer, Low Spend Customer"
          ],
          [
           "7028<br>Non-Regular Customer, Low Spend Customer"
          ],
          [
           "7029<br>Non-Regular Customer, High Spend Customer"
          ],
          [
           "7036<br>Non-Regular Customer, Low Spend Customer"
          ],
          [
           "7048<br>Non-Regular Customer, Low Spend Customer"
          ],
          [
           "7055<br>Non-Regular Customer, High Spend Customer"
          ],
          [
           "7057<br>Non-Regular Customer, Low Spend Customer"
          ],
          [
           "7066<br>Non-Regular Customer, Low Spend Customer"
          ],
          [
           "7084<br>Non-Regular Customer, Low Spend Customer"
          ],
          [
           "7093<br>Non-Regular Customer, Low Spend Customer"
          ],
          [
           "7100<br>Non-Regular Customer, Low Spend Customer"
          ],
          [
           "7111<br>Non-Regular Customer, Low Spend Customer"
          ],
          [
           "7125<br>Regular Customer, Low Spend Customer"
          ],
          [
           "7136<br>Non-Regular Customer, Low Spend Customer"
          ],
          [
           "7143<br>Non-Regular Customer, Low Spend Customer"
          ],
          [
           "7172<br>Non-Regular Customer, High Spend Customer"
          ],
          [
           "7189<br>Non-Regular Customer, High Spend Customer"
          ],
          [
           "7203<br>Non-Regular Customer, Low Spend Customer"
          ],
          [
           "7205<br>Non-Regular Customer, Low Spend Customer"
          ],
          [
           "7206<br>Non-Regular Customer, Low Spend Customer"
          ],
          [
           "7218<br>Non-Regular Customer, Low Spend Customer"
          ],
          [
           "7219<br>Non-Regular Customer, Low Spend Customer"
          ],
          [
           "7224<br>Non-Regular Customer, High Spend Customer"
          ],
          [
           "7248<br>Non-Regular Customer, High Spend Customer"
          ],
          [
           "7249<br>Non-Regular Customer, High Spend Customer"
          ],
          [
           "7253<br>Non-Regular Customer, High Spend Customer"
          ],
          [
           "7279<br>Non-Regular Customer, High Spend Customer"
          ],
          [
           "7286<br>Non-Regular Customer, Low Spend Customer"
          ],
          [
           "7287<br>Non-Regular Customer, High Spend Customer"
          ],
          [
           "7301<br>Non-Regular Customer, Low Spend Customer"
          ],
          [
           "7304<br>Non-Regular Customer, High Spend Customer"
          ],
          [
           "7324<br>Non-Regular Customer, Low Spend Customer"
          ],
          [
           "7328<br>Non-Regular Customer, High Spend Customer"
          ],
          [
           "7344<br>Non-Regular Customer, High Spend Customer"
          ],
          [
           "7355<br>Non-Regular Customer, Low Spend Customer"
          ],
          [
           "7357<br>Regular Customer, Low Spend Customer"
          ],
          [
           "7370<br>Non-Regular Customer, Low Spend Customer"
          ],
          [
           "7374<br>Non-Regular Customer, Low Spend Customer"
          ],
          [
           "7376<br>Non-Regular Customer, High Spend Customer"
          ],
          [
           "7388<br>Non-Regular Customer, Low Spend Customer"
          ],
          [
           "7392<br>Non-Regular Customer, Low Spend Customer"
          ],
          [
           "7395<br>Non-Regular Customer, Low Spend Customer"
          ],
          [
           "7399<br>Non-Regular Customer, Low Spend Customer"
          ],
          [
           "7405<br>Non-Regular Customer, High Spend Customer"
          ],
          [
           "7434<br>Non-Regular Customer, Low Spend Customer"
          ],
          [
           "7438<br>Non-Regular Customer, Low Spend Customer"
          ],
          [
           "7446<br>Non-Regular Customer, Low Spend Customer"
          ],
          [
           "7447<br>Non-Regular Customer, High Spend Customer"
          ],
          [
           "7457<br>Non-Regular Customer, High Spend Customer"
          ],
          [
           "7459<br>Non-Regular Customer, High Spend Customer"
          ],
          [
           "7462<br>Non-Regular Customer, Low Spend Customer"
          ],
          [
           "7466<br>Non-Regular Customer, Low Spend Customer"
          ],
          [
           "7469<br>Non-Regular Customer, Low Spend Customer"
          ],
          [
           "7470<br>Non-Regular Customer, Low Spend Customer"
          ],
          [
           "7510<br>Non-Regular Customer, Low Spend Customer"
          ],
          [
           "7530<br>Non-Regular Customer, High Spend Customer"
          ],
          [
           "7531<br>Non-Regular Customer, Low Spend Customer"
          ],
          [
           "7535<br>Non-Regular Customer, Low Spend Customer"
          ],
          [
           "7554<br>Non-Regular Customer, Low Spend Customer"
          ],
          [
           "7560<br>Non-Regular Customer, Low Spend Customer"
          ],
          [
           "7573<br>Non-Regular Customer, High Spend Customer"
          ],
          [
           "7607<br>Non-Regular Customer, Low Spend Customer"
          ],
          [
           "7608<br>Non-Regular Customer, High Spend Customer"
          ],
          [
           "7622<br>Non-Regular Customer, Low Spend Customer"
          ],
          [
           "7632<br>Non-Regular Customer, Low Spend Customer"
          ],
          [
           "7634<br>Non-Regular Customer, Low Spend Customer"
          ],
          [
           "7659<br>Regular Customer, Low Spend Customer"
          ],
          [
           "7661<br>Non-Regular Customer, Low Spend Customer"
          ],
          [
           "7666<br>Non-Regular Customer, High Spend Customer"
          ],
          [
           "7685<br>Non-Regular Customer, Low Spend Customer"
          ],
          [
           "7689<br>Non-Regular Customer, High Spend Customer"
          ],
          [
           "7719<br>Non-Regular Customer, Low Spend Customer"
          ],
          [
           "7736<br>Non-Regular Customer, High Spend Customer"
          ],
          [
           "7738<br>Non-Regular Customer, Low Spend Customer"
          ],
          [
           "7741<br>Non-Regular Customer, High Spend Customer"
          ],
          [
           "7749<br>Non-Regular Customer, Low Spend Customer"
          ],
          [
           "7752<br>Non-Regular Customer, Low Spend Customer"
          ],
          [
           "7755<br>Non-Regular Customer, High Spend Customer"
          ],
          [
           "7756<br>Non-Regular Customer, Low Spend Customer"
          ],
          [
           "7782<br>Non-Regular Customer, Low Spend Customer"
          ],
          [
           "7825<br>Non-Regular Customer, Low Spend Customer"
          ],
          [
           "7833<br>Non-Regular Customer, High Spend Customer"
          ],
          [
           "7836<br>Regular Customer, High Spend Customer"
          ],
          [
           "7837<br>Non-Regular Customer, Low Spend Customer"
          ],
          [
           "7850<br>Non-Regular Customer, High Spend Customer"
          ],
          [
           "7855<br>Non-Regular Customer, Low Spend Customer"
          ],
          [
           "7858<br>Non-Regular Customer, Low Spend Customer"
          ],
          [
           "7861<br>Non-Regular Customer, Low Spend Customer"
          ],
          [
           "7862<br>Non-Regular Customer, High Spend Customer"
          ],
          [
           "7866<br>Non-Regular Customer, Low Spend Customer"
          ],
          [
           "7883<br>Regular Customer, Low Spend Customer"
          ],
          [
           "7891<br>Non-Regular Customer, Low Spend Customer"
          ],
          [
           "7905<br>Non-Regular Customer, High Spend Customer"
          ],
          [
           "7922<br>Regular Customer, High Spend Customer"
          ],
          [
           "7933<br>Non-Regular Customer, High Spend Customer"
          ],
          [
           "7938<br>Non-Regular Customer, Low Spend Customer"
          ],
          [
           "7946<br>Non-Regular Customer, Low Spend Customer"
          ],
          [
           "7962<br>Non-Regular Customer, Low Spend Customer"
          ],
          [
           "7965<br>Non-Regular Customer, High Spend Customer"
          ],
          [
           "7987<br>Non-Regular Customer, Low Spend Customer"
          ],
          [
           "7988<br>Non-Regular Customer, Low Spend Customer"
          ],
          [
           "8025<br>Non-Regular Customer, Low Spend Customer"
          ],
          [
           "8026<br>Non-Regular Customer, High Spend Customer"
          ],
          [
           "8040<br>Non-Regular Customer, High Spend Customer"
          ],
          [
           "8055<br>Non-Regular Customer, High Spend Customer"
          ],
          [
           "8080<br>Non-Regular Customer, Low Spend Customer"
          ],
          [
           "8117<br>Non-Regular Customer, Low Spend Customer"
          ],
          [
           "8120<br>Non-Regular Customer, Low Spend Customer"
          ],
          [
           "8125<br>Non-Regular Customer, Low Spend Customer"
          ],
          [
           "8147<br>Non-Regular Customer, Low Spend Customer"
          ],
          [
           "8162<br>Non-Regular Customer, High Spend Customer"
          ],
          [
           "8176<br>Non-Regular Customer, Low Spend Customer"
          ],
          [
           "8182<br>Non-Regular Customer, High Spend Customer"
          ],
          [
           "8183<br>Non-Regular Customer, Low Spend Customer"
          ],
          [
           "8185<br>Non-Regular Customer, High Spend Customer"
          ],
          [
           "8186<br>Non-Regular Customer, High Spend Customer"
          ],
          [
           "8204<br>Non-Regular Customer, High Spend Customer"
          ],
          [
           "8212<br>Non-Regular Customer, Low Spend Customer"
          ],
          [
           "8214<br>Non-Regular Customer, High Spend Customer"
          ],
          [
           "8220<br>Non-Regular Customer, Low Spend Customer"
          ],
          [
           "8235<br>Non-Regular Customer, Low Spend Customer"
          ],
          [
           "8246<br>Non-Regular Customer, Low Spend Customer"
          ],
          [
           "8265<br>Regular Customer, High Spend Customer"
          ],
          [
           "8281<br>Non-Regular Customer, Low Spend Customer"
          ],
          [
           "8288<br>Non-Regular Customer, Low Spend Customer"
          ],
          [
           "8296<br>Non-Regular Customer, Low Spend Customer"
          ],
          [
           "8324<br>Non-Regular Customer, Low Spend Customer"
          ],
          [
           "8332<br>Non-Regular Customer, Low Spend Customer"
          ],
          [
           "8333<br>Non-Regular Customer, Low Spend Customer"
          ],
          [
           "8341<br>Non-Regular Customer, Low Spend Customer"
          ],
          [
           "8363<br>Non-Regular Customer, High Spend Customer"
          ],
          [
           "8374<br>Non-Regular Customer, Low Spend Customer"
          ],
          [
           "8384<br>Non-Regular Customer, Low Spend Customer"
          ],
          [
           "8385<br>Non-Regular Customer, High Spend Customer"
          ],
          [
           "8394<br>Non-Regular Customer, High Spend Customer"
          ],
          [
           "8395<br>Non-Regular Customer, Low Spend Customer"
          ],
          [
           "8398<br>Non-Regular Customer, Low Spend Customer"
          ],
          [
           "8414<br>Non-Regular Customer, High Spend Customer"
          ],
          [
           "8416<br>Non-Regular Customer, High Spend Customer"
          ],
          [
           "8417<br>Non-Regular Customer, Low Spend Customer"
          ],
          [
           "8430<br>Non-Regular Customer, High Spend Customer"
          ],
          [
           "8472<br>Non-Regular Customer, High Spend Customer"
          ],
          [
           "8473<br>Non-Regular Customer, High Spend Customer"
          ],
          [
           "8484<br>Non-Regular Customer, Low Spend Customer"
          ],
          [
           "8489<br>Non-Regular Customer, High Spend Customer"
          ],
          [
           "8494<br>Non-Regular Customer, High Spend Customer"
          ],
          [
           "8516<br>Non-Regular Customer, High Spend Customer"
          ],
          [
           "8546<br>Non-Regular Customer, High Spend Customer"
          ],
          [
           "8547<br>Non-Regular Customer, High Spend Customer"
          ],
          [
           "8557<br>Non-Regular Customer, Low Spend Customer"
          ],
          [
           "8561<br>Non-Regular Customer, High Spend Customer"
          ],
          [
           "8581<br>Non-Regular Customer, Low Spend Customer"
          ],
          [
           "8587<br>Non-Regular Customer, High Spend Customer"
          ],
          [
           "8603<br>Non-Regular Customer, Low Spend Customer"
          ],
          [
           "8607<br>Regular Customer, High Spend Customer"
          ],
          [
           "8619<br>Non-Regular Customer, Low Spend Customer"
          ],
          [
           "8622<br>Non-Regular Customer, Low Spend Customer"
          ],
          [
           "8644<br>Non-Regular Customer, High Spend Customer"
          ],
          [
           "8649<br>Non-Regular Customer, High Spend Customer"
          ],
          [
           "8665<br>Non-Regular Customer, Low Spend Customer"
          ],
          [
           "8669<br>Regular Customer, High Spend Customer"
          ],
          [
           "8671<br>Non-Regular Customer, High Spend Customer"
          ],
          [
           "8690<br>Non-Regular Customer, Low Spend Customer"
          ],
          [
           "8698<br>Non-Regular Customer, High Spend Customer"
          ],
          [
           "8706<br>Non-Regular Customer, High Spend Customer"
          ],
          [
           "8709<br>Non-Regular Customer, Low Spend Customer"
          ],
          [
           "8710<br>Non-Regular Customer, Low Spend Customer"
          ],
          [
           "8715<br>Non-Regular Customer, High Spend Customer"
          ],
          [
           "8716<br>Non-Regular Customer, High Spend Customer"
          ],
          [
           "8724<br>Non-Regular Customer, Low Spend Customer"
          ],
          [
           "8731<br>Non-Regular Customer, Low Spend Customer"
          ],
          [
           "8732<br>Non-Regular Customer, High Spend Customer"
          ],
          [
           "8748<br>Non-Regular Customer, High Spend Customer"
          ],
          [
           "8749<br>Non-Regular Customer, Low Spend Customer"
          ],
          [
           "8761<br>Non-Regular Customer, High Spend Customer"
          ],
          [
           "8766<br>Non-Regular Customer, Low Spend Customer"
          ],
          [
           "8770<br>Non-Regular Customer, Low Spend Customer"
          ],
          [
           "8776<br>Non-Regular Customer, High Spend Customer"
          ],
          [
           "8790<br>Non-Regular Customer, Low Spend Customer"
          ],
          [
           "8800<br>Non-Regular Customer, Low Spend Customer"
          ],
          [
           "8813<br>Non-Regular Customer, Low Spend Customer"
          ],
          [
           "8817<br>Non-Regular Customer, High Spend Customer"
          ],
          [
           "8819<br>Non-Regular Customer, Low Spend Customer"
          ],
          [
           "8828<br>Non-Regular Customer, High Spend Customer"
          ],
          [
           "8838<br>Non-Regular Customer, Low Spend Customer"
          ],
          [
           "8848<br>Non-Regular Customer, Low Spend Customer"
          ],
          [
           "8850<br>Non-Regular Customer, High Spend Customer"
          ],
          [
           "8857<br>Non-Regular Customer, Low Spend Customer"
          ],
          [
           "8861<br>Non-Regular Customer, High Spend Customer"
          ],
          [
           "8863<br>Non-Regular Customer, Low Spend Customer"
          ],
          [
           "8868<br>Non-Regular Customer, High Spend Customer"
          ],
          [
           "8888<br>Non-Regular Customer, Low Spend Customer"
          ],
          [
           "8903<br>Non-Regular Customer, Low Spend Customer"
          ],
          [
           "8905<br>Non-Regular Customer, High Spend Customer"
          ],
          [
           "8910<br>Non-Regular Customer, High Spend Customer"
          ],
          [
           "8920<br>Non-Regular Customer, Low Spend Customer"
          ],
          [
           "8937<br>Non-Regular Customer, Low Spend Customer"
          ],
          [
           "8940<br>Non-Regular Customer, Low Spend Customer"
          ],
          [
           "8946<br>Non-Regular Customer, Low Spend Customer"
          ],
          [
           "8950<br>Regular Customer, High Spend Customer"
          ],
          [
           "8954<br>Non-Regular Customer, High Spend Customer"
          ],
          [
           "8974<br>Non-Regular Customer, Low Spend Customer"
          ],
          [
           "9000<br>Non-Regular Customer, High Spend Customer"
          ],
          [
           "9003<br>Non-Regular Customer, Low Spend Customer"
          ],
          [
           "9006<br>Non-Regular Customer, High Spend Customer"
          ],
          [
           "9018<br>Non-Regular Customer, High Spend Customer"
          ],
          [
           "9020<br>Regular Customer, Low Spend Customer"
          ],
          [
           "9024<br>Non-Regular Customer, High Spend Customer"
          ],
          [
           "9027<br>Non-Regular Customer, High Spend Customer"
          ],
          [
           "9045<br>Non-Regular Customer, Low Spend Customer"
          ],
          [
           "9047<br>Non-Regular Customer, Low Spend Customer"
          ],
          [
           "9051<br>Non-Regular Customer, Low Spend Customer"
          ],
          [
           "9082<br>Non-Regular Customer, Low Spend Customer"
          ],
          [
           "9103<br>Non-Regular Customer, High Spend Customer"
          ],
          [
           "9132<br>Non-Regular Customer, Low Spend Customer"
          ],
          [
           "9136<br>Non-Regular Customer, Low Spend Customer"
          ],
          [
           "9139<br>Regular Customer, Low Spend Customer"
          ],
          [
           "9140<br>Non-Regular Customer, Low Spend Customer"
          ],
          [
           "9144<br>Non-Regular Customer, Low Spend Customer"
          ],
          [
           "9146<br>Non-Regular Customer, Low Spend Customer"
          ],
          [
           "9175<br>Non-Regular Customer, Low Spend Customer"
          ],
          [
           "9176<br>Non-Regular Customer, Low Spend Customer"
          ],
          [
           "9180<br>Non-Regular Customer, High Spend Customer"
          ],
          [
           "9181<br>Non-Regular Customer, Low Spend Customer"
          ],
          [
           "9187<br>Non-Regular Customer, Low Spend Customer"
          ],
          [
           "9189<br>Non-Regular Customer, Low Spend Customer"
          ],
          [
           "9195<br>Non-Regular Customer, Low Spend Customer"
          ],
          [
           "9224<br>Regular Customer, High Spend Customer"
          ],
          [
           "9238<br>Non-Regular Customer, Low Spend Customer"
          ],
          [
           "9244<br>Non-Regular Customer, Low Spend Customer"
          ],
          [
           "9262<br>Non-Regular Customer, Low Spend Customer"
          ],
          [
           "9267<br>Non-Regular Customer, Low Spend Customer"
          ],
          [
           "9287<br>Non-Regular Customer, Low Spend Customer"
          ],
          [
           "9295<br>Non-Regular Customer, High Spend Customer"
          ],
          [
           "9299<br>Non-Regular Customer, Low Spend Customer"
          ],
          [
           "9310<br>Non-Regular Customer, High Spend Customer"
          ],
          [
           "9313<br>Non-Regular Customer, High Spend Customer"
          ],
          [
           "9315<br>Non-Regular Customer, Low Spend Customer"
          ],
          [
           "9325<br>Non-Regular Customer, Low Spend Customer"
          ],
          [
           "9332<br>Non-Regular Customer, High Spend Customer"
          ],
          [
           "9338<br>Non-Regular Customer, Low Spend Customer"
          ],
          [
           "9339<br>Non-Regular Customer, High Spend Customer"
          ],
          [
           "9347<br>Non-Regular Customer, High Spend Customer"
          ],
          [
           "9358<br>Non-Regular Customer, Low Spend Customer"
          ],
          [
           "9361<br>Non-Regular Customer, Low Spend Customer"
          ],
          [
           "9363<br>Non-Regular Customer, Low Spend Customer"
          ],
          [
           "9375<br>Regular Customer, Low Spend Customer"
          ],
          [
           "9381<br>Non-Regular Customer, High Spend Customer"
          ],
          [
           "9397<br>Non-Regular Customer, High Spend Customer"
          ],
          [
           "9405<br>Non-Regular Customer, High Spend Customer"
          ],
          [
           "9408<br>Non-Regular Customer, Low Spend Customer"
          ],
          [
           "9409<br>Non-Regular Customer, Low Spend Customer"
          ],
          [
           "9410<br>Non-Regular Customer, High Spend Customer"
          ],
          [
           "9415<br>Non-Regular Customer, High Spend Customer"
          ],
          [
           "9417<br>Non-Regular Customer, High Spend Customer"
          ],
          [
           "9433<br>Non-Regular Customer, Low Spend Customer"
          ],
          [
           "9435<br>Non-Regular Customer, High Spend Customer"
          ],
          [
           "9463<br>Non-Regular Customer, High Spend Customer"
          ],
          [
           "9464<br>Non-Regular Customer, High Spend Customer"
          ],
          [
           "9470<br>Non-Regular Customer, Low Spend Customer"
          ],
          [
           "9475<br>Non-Regular Customer, Low Spend Customer"
          ],
          [
           "9486<br>Non-Regular Customer, High Spend Customer"
          ],
          [
           "9495<br>Non-Regular Customer, High Spend Customer"
          ],
          [
           "9505<br>Non-Regular Customer, Low Spend Customer"
          ],
          [
           "9506<br>Non-Regular Customer, Low Spend Customer"
          ],
          [
           "9507<br>Non-Regular Customer, High Spend Customer"
          ],
          [
           "9510<br>Non-Regular Customer, Low Spend Customer"
          ],
          [
           "9514<br>Non-Regular Customer, Low Spend Customer"
          ],
          [
           "9520<br>Non-Regular Customer, High Spend Customer"
          ],
          [
           "9524<br>Regular Customer, Low Spend Customer"
          ],
          [
           "9542<br>Non-Regular Customer, Low Spend Customer"
          ],
          [
           "9555<br>Non-Regular Customer, High Spend Customer"
          ],
          [
           "9556<br>Non-Regular Customer, High Spend Customer"
          ],
          [
           "9561<br>Non-Regular Customer, Low Spend Customer"
          ],
          [
           "9580<br>Non-Regular Customer, High Spend Customer"
          ],
          [
           "9587<br>Non-Regular Customer, Low Spend Customer"
          ],
          [
           "9590<br>Non-Regular Customer, Low Spend Customer"
          ],
          [
           "9603<br>Non-Regular Customer, Low Spend Customer"
          ],
          [
           "9606<br>Non-Regular Customer, Low Spend Customer"
          ],
          [
           "9608<br>Non-Regular Customer, Low Spend Customer"
          ],
          [
           "9617<br>Non-Regular Customer, High Spend Customer"
          ],
          [
           "9624<br>Non-Regular Customer, High Spend Customer"
          ],
          [
           "9628<br>Non-Regular Customer, High Spend Customer"
          ],
          [
           "9632<br>Non-Regular Customer, High Spend Customer"
          ],
          [
           "9637<br>Non-Regular Customer, Low Spend Customer"
          ],
          [
           "9665<br>Non-Regular Customer, Low Spend Customer"
          ],
          [
           "9668<br>Non-Regular Customer, Low Spend Customer"
          ],
          [
           "9669<br>Non-Regular Customer, High Spend Customer"
          ],
          [
           "9677<br>Non-Regular Customer, Low Spend Customer"
          ],
          [
           "9691<br>Non-Regular Customer, Low Spend Customer"
          ],
          [
           "9692<br>Non-Regular Customer, High Spend Customer"
          ],
          [
           "9724<br>Non-Regular Customer, Low Spend Customer"
          ],
          [
           "9725<br>Non-Regular Customer, Low Spend Customer"
          ],
          [
           "9741<br>Non-Regular Customer, Low Spend Customer"
          ],
          [
           "9744<br>Non-Regular Customer, Low Spend Customer"
          ],
          [
           "9761<br>Non-Regular Customer, Low Spend Customer"
          ],
          [
           "9763<br>Non-Regular Customer, Low Spend Customer"
          ],
          [
           "9790<br>Non-Regular Customer, Low Spend Customer"
          ],
          [
           "9793<br>Non-Regular Customer, Low Spend Customer"
          ],
          [
           "9804<br>Non-Regular Customer, Low Spend Customer"
          ],
          [
           "9805<br>Non-Regular Customer, High Spend Customer"
          ],
          [
           "9809<br>Non-Regular Customer, Low Spend Customer"
          ],
          [
           "9811<br>Non-Regular Customer, Low Spend Customer"
          ],
          [
           "9812<br>Non-Regular Customer, High Spend Customer"
          ],
          [
           "9822<br>Non-Regular Customer, High Spend Customer"
          ],
          [
           "9832<br>Non-Regular Customer, Low Spend Customer"
          ],
          [
           "9836<br>Non-Regular Customer, Low Spend Customer"
          ],
          [
           "9840<br>Non-Regular Customer, Low Spend Customer"
          ],
          [
           "9848<br>Non-Regular Customer, Low Spend Customer"
          ],
          [
           "9852<br>Non-Regular Customer, Low Spend Customer"
          ],
          [
           "9858<br>Non-Regular Customer, High Spend Customer"
          ],
          [
           "9865<br>Non-Regular Customer, Low Spend Customer"
          ],
          [
           "9872<br>Non-Regular Customer, Low Spend Customer"
          ],
          [
           "9876<br>Non-Regular Customer, Low Spend Customer"
          ],
          [
           "9886<br>Non-Regular Customer, Low Spend Customer"
          ],
          [
           "9891<br>Non-Regular Customer, High Spend Customer"
          ],
          [
           "9898<br>Non-Regular Customer, Low Spend Customer"
          ],
          [
           "9906<br>Non-Regular Customer, Low Spend Customer"
          ],
          [
           "9907<br>Non-Regular Customer, Low Spend Customer"
          ],
          [
           "9931<br>Non-Regular Customer, Low Spend Customer"
          ],
          [
           "9932<br>Non-Regular Customer, High Spend Customer"
          ],
          [
           "9938<br>Non-Regular Customer, Low Spend Customer"
          ],
          [
           "9942<br>Non-Regular Customer, Low Spend Customer"
          ],
          [
           "9944<br>Non-Regular Customer, High Spend Customer"
          ],
          [
           "9957<br>Non-Regular Customer, High Spend Customer"
          ],
          [
           "9974<br>Non-Regular Customer, High Spend Customer"
          ],
          [
           "9981<br>Non-Regular Customer, Low Spend Customer"
          ],
          [
           "9990<br>Non-Regular Customer, High Spend Customer"
          ]
         ],
         "hovertemplate": "Principal Component 1=%{x}<br>Principal Component 2=%{y}<br>Hover_Info=%{customdata[0]}<br>Cluster=%{marker.color}<extra></extra>",
         "legendgroup": "",
         "marker": {
          "color": [
           2,
           1,
           0,
           0,
           0,
           0,
           0,
           3,
           0,
           0,
           0,
           1,
           0,
           1,
           0,
           0,
           0,
           0,
           3,
           0,
           0,
           2,
           0,
           0,
           0,
           3,
           0,
           0,
           0,
           0,
           0,
           3,
           3,
           0,
           0,
           0,
           0,
           0,
           1,
           0,
           2,
           1,
           0,
           0,
           0,
           1,
           0,
           0,
           0,
           0,
           1,
           0,
           0,
           2,
           0,
           1,
           0,
           0,
           1,
           0,
           1,
           0,
           0,
           3,
           1,
           0,
           0,
           0,
           0,
           2,
           0,
           1,
           1,
           0,
           0,
           0,
           0,
           2,
           2,
           0,
           0,
           0,
           0,
           0,
           0,
           0,
           0,
           2,
           3,
           1,
           0,
           0,
           1,
           0,
           3,
           2,
           0,
           0,
           2,
           0,
           0,
           0,
           0,
           0,
           0,
           0,
           0,
           0,
           2,
           3,
           0,
           1,
           0,
           3,
           0,
           0,
           3,
           0,
           0,
           0,
           0,
           0,
           1,
           0,
           0,
           0,
           0,
           0,
           0,
           0,
           0,
           1,
           0,
           0,
           0,
           0,
           1,
           0,
           2,
           0,
           0,
           0,
           1,
           1,
           3,
           0,
           0,
           0,
           0,
           0,
           1,
           0,
           1,
           0,
           3,
           3,
           1,
           0,
           0,
           0,
           1,
           1,
           1,
           1,
           1,
           0,
           0,
           0,
           3,
           1,
           1,
           2,
           0,
           0,
           3,
           0,
           3,
           3,
           0,
           0,
           0,
           0,
           1,
           1,
           0,
           1,
           0,
           0,
           0,
           1,
           0,
           1,
           0,
           3,
           0,
           2,
           0,
           0,
           0,
           0,
           0,
           0,
           0,
           0,
           3,
           0,
           1,
           0,
           0,
           0,
           1,
           0,
           0,
           0,
           1,
           0,
           0,
           0,
           1,
           0,
           1,
           1,
           0,
           1,
           1,
           0,
           0,
           0,
           0,
           0,
           0,
           0,
           0,
           1,
           0,
           0,
           0,
           3,
           3,
           0,
           3,
           0,
           1,
           0,
           0,
           3,
           0,
           0,
           2,
           0,
           0,
           2,
           3,
           0,
           0,
           0,
           3,
           0,
           2,
           0,
           0,
           2,
           0,
           2,
           0,
           1,
           0,
           1,
           1,
           0,
           0,
           0,
           0,
           0,
           0,
           0,
           3,
           0,
           1,
           0,
           0,
           0,
           0,
           0,
           2,
           0,
           0,
           1,
           0,
           0,
           2,
           0,
           1,
           0,
           3,
           0,
           0,
           3,
           0,
           1,
           3,
           1,
           0,
           0,
           0,
           0,
           0,
           0,
           0,
           0,
           2,
           3,
           0,
           0,
           0,
           3,
           1,
           0,
           1,
           1,
           3,
           0,
           0,
           3,
           1,
           3,
           0,
           0,
           0,
           0,
           0,
           0,
           0,
           1,
           0,
           2,
           3,
           0,
           0,
           0,
           0,
           1,
           0,
           1,
           0,
           0,
           0,
           1,
           0,
           2,
           0,
           0,
           0,
           0,
           0,
           1,
           1,
           1,
           0,
           0,
           3,
           1,
           1,
           0,
           1,
           1,
           3,
           0,
           0,
           0,
           1,
           3,
           0,
           0,
           1,
           0,
           0,
           0,
           0,
           3,
           2,
           1,
           1,
           1,
           0,
           0,
           3,
           1,
           1,
           0,
           1,
           0,
           2,
           0,
           0,
           0,
           0,
           0,
           0,
           0,
           0,
           0,
           0,
           1,
           0,
           3,
           0,
           3,
           0,
           1,
           3,
           2,
           0,
           0,
           3,
           0,
           0,
           0,
           0,
           0,
           0,
           0,
           0,
           0,
           0,
           0,
           1,
           0,
           0,
           1,
           0,
           2,
           0,
           0,
           0,
           0,
           0,
           0,
           0,
           0,
           1,
           1,
           0,
           3,
           0,
           0,
           3,
           0,
           0,
           0,
           0,
           3,
           1,
           0,
           0,
           0,
           0,
           1,
           0,
           0,
           1,
           1,
           0,
           3,
           1,
           0,
           1,
           0,
           1,
           1,
           0,
           0,
           1,
           3,
           1,
           0,
           0,
           0,
           0,
           0,
           0,
           0,
           0,
           0,
           0,
           0,
           0,
           0,
           1,
           1,
           0,
           0,
           2,
           3,
           1,
           1,
           1,
           0,
           0,
           0,
           0,
           3,
           0,
           3,
           0,
           1,
           0,
           0,
           0,
           0,
           3,
           0,
           1,
           1,
           0,
           1,
           1,
           0,
           0,
           3,
           3,
           0,
           0,
           1,
           3,
           1,
           0,
           0,
           1,
           0,
           0,
           1,
           3,
           0,
           1,
           0,
           0,
           0,
           3,
           0,
           0,
           0,
           1,
           0,
           1,
           0,
           0,
           3,
           0,
           0,
           0,
           1,
           0,
           0,
           1,
           0,
           0,
           0,
           0,
           2,
           0,
           1,
           0,
           0,
           0,
           1,
           0,
           0,
           1,
           0,
           3,
           0,
           3,
           0,
           1,
           0,
           0,
           0,
           0,
           0,
           1,
           0,
           0,
           0,
           1,
           1,
           0,
           2,
           0,
           0,
           3,
           0,
           2,
           0,
           3,
           0,
           1,
           1,
           0,
           0,
           1,
           0,
           0,
           0,
           0,
           2,
           1,
           0,
           0,
           0,
           0,
           0,
           3,
           1,
           0,
           0,
           0,
           1,
           0,
           0,
           3,
           0,
           0,
           0,
           3,
           1,
           0,
           0,
           0,
           1,
           3,
           0,
           0,
           0,
           1,
           0,
           0,
           1,
           0,
           0,
           0,
           0,
           0,
           0,
           2,
           0,
           0,
           1,
           1,
           0,
           0,
           0,
           0,
           0,
           1,
           3,
           1,
           3,
           3,
           0,
           3,
           0,
           1,
           0,
           1,
           1,
           0,
           2,
           0,
           0,
           3,
           0,
           0,
           0,
           0,
           1,
           0,
           0,
           0,
           3,
           3,
           1,
           0,
           0,
           0,
           0,
           0,
           1,
           0,
           0,
           0,
           0,
           3,
           0,
           1,
           0,
           0,
           0,
           2,
           0,
           1,
           0,
           1,
           0,
           1,
           0,
           1,
           0,
           0,
           1,
           0,
           0,
           0,
           1,
           2,
           0,
           1,
           0,
           0,
           0,
           1,
           0,
           2,
           0,
           3,
           2,
           1,
           0,
           0,
           0,
           1,
           0,
           0,
           0,
           3,
           1,
           3,
           0,
           0,
           0,
           0,
           0,
           3,
           0,
           3,
           0,
           1,
           3,
           1,
           0,
           3,
           0,
           0,
           0,
           2,
           0,
           0,
           0,
           0,
           0,
           0,
           0,
           1,
           0,
           0,
           1,
           1,
           0,
           0,
           1,
           3,
           0,
           3,
           3,
           1,
           0,
           1,
           3,
           1,
           1,
           3,
           0,
           3,
           0,
           1,
           0,
           2,
           0,
           0,
           3,
           1,
           0,
           2,
           1,
           0,
           3,
           1,
           0,
           0,
           1,
           1,
           0,
           0,
           1,
           1,
           0,
           3,
           0,
           0,
           1,
           0,
           0,
           0,
           3,
           0,
           3,
           0,
           0,
           3,
           0,
           1,
           0,
           1,
           0,
           0,
           3,
           1,
           0,
           0,
           0,
           0,
           2,
           3,
           0,
           1,
           0,
           1,
           3,
           2,
           1,
           1,
           0,
           0,
           0,
           0,
           3,
           0,
           0,
           2,
           0,
           0,
           0,
           0,
           0,
           1,
           0,
           0,
           0,
           0,
           2,
           0,
           0,
           0,
           0,
           0,
           1,
           0,
           1,
           1,
           0,
           0,
           1,
           0,
           1,
           1,
           0,
           0,
           0,
           2,
           3,
           1,
           1,
           0,
           0,
           1,
           3,
           3,
           0,
           1,
           1,
           1,
           0,
           0,
           1,
           1,
           0,
           0,
           3,
           0,
           0,
           3,
           2,
           0,
           1,
           1,
           0,
           1,
           0,
           0,
           0,
           0,
           0,
           3,
           1,
           3,
           1,
           0,
           0,
           0,
           1,
           0,
           0,
           3,
           0,
           0,
           0,
           0,
           0,
           0,
           0,
           0,
           0,
           1,
           0,
           0,
           3,
           3,
           0,
           0,
           0,
           0,
           0,
           1,
           0,
           0,
           0,
           0,
           1,
           0,
           0,
           0,
           0,
           3,
           0,
           0,
           3,
           1,
           3,
           0,
           1
          ],
          "coloraxis": "coloraxis",
          "symbol": "circle"
         },
         "mode": "markers",
         "name": "",
         "orientation": "v",
         "showlegend": false,
         "type": "scatter",
         "x": [
          5.665851004740213,
          0.3176277882244956,
          -0.5492123216108381,
          -1.4123603746804065,
          -1.494767596673633,
          -1.4362999028572097,
          -1.4040736149268978,
          1.8808569956624897,
          -1.369085073745416,
          -0.3209410752490187,
          -1.3672435715779696,
          0.33604280989895957,
          -1.3695454492872778,
          0.4492951931969132,
          -1.3672435715779696,
          -1.3718473269965856,
          -1.457937553324705,
          -1.4547149245316737,
          1.8011180700382965,
          -1.4768129505410306,
          -1.492465718964325,
          11.06886683320474,
          -0.513763404887495,
          -1.4312357718967321,
          -1.5053562341364497,
          4.397279948610652,
          -1.4146622523897145,
          -0.15244362692767294,
          -1.4547149245316737,
          -1.4547149245316737,
          -1.503975107510865,
          1.8053554067971873,
          1.9775358594534258,
          -1.3792133356663714,
          -1.4045339904687593,
          -0.5013332652572318,
          -1.4063754926362058,
          0.5395197469709145,
          0.296450513298862,
          -1.3736888291640321,
          3.4199598911229994,
          0.3434088185687452,
          -1.4123603746804065,
          -0.518367160306111,
          -1.377371833498925,
          0.6683589287215008,
          -1.4897034657131554,
          -1.3727680780803089,
          -0.5017936407990933,
          -1.4045339904687593,
          0.4235141628526636,
          -1.3727680780803089,
          -1.3750699557896169,
          3.6294307626700277,
          -0.0037423269063761185,
          0.9054523327802249,
          -1.4998317276341104,
          -0.40649590363374216,
          0.7461623952961113,
          0.4759879221940137,
          0.7852943163543473,
          -1.4289338941874241,
          -1.4289338941874241,
          1.6253296354486995,
          1.0444107240208942,
          -0.5432274395666373,
          -1.4367602783990714,
          -1.494767596673633,
          1.0568318112202846,
          3.6211440029165187,
          -1.4040736149268978,
          0.9767355193672389,
          1.5304922738252096,
          -1.4501111691130577,
          -1.377371833498925,
          -1.451031920196781,
          -1.503975107510865,
          4.3944248684409395,
          6.889407137116752,
          -1.4040736149268978,
          -1.3755303313314786,
          -1.3718473269965856,
          -1.3654020694105233,
          -1.3520511786965368,
          -1.3930246019222192,
          -1.4998317276341104,
          -1.369085073745416,
          6.710781426874451,
          2.698408935607157,
          0.4750762235411629,
          -1.3695454492872778,
          -1.4123603746804065,
          0.2264734309358988,
          -1.4146622523897145,
          1.7762577907777701,
          3.5797102041489746,
          -1.3736888291640321,
          -1.434918776231625,
          3.831460603145736,
          -0.1611907622230434,
          -1.444126287068857,
          -1.4768129505410306,
          -1.3695454492872778,
          -1.4146622523897145,
          -1.4013113616757282,
          -1.437220653940933,
          -0.4391825671059158,
          -1.4045339904687593,
          8.710907023539104,
          2.47190416901125,
          -1.451031920196781,
          0.39773313250841397,
          -1.3755303313314786,
          2.609096080486007,
          -0.5192879113898341,
          -1.4040736149268978,
          3.572728418655925,
          -0.4276731785593758,
          -1.434918776231625,
          -1.386579344336157,
          -1.4123603746804065,
          -0.49580875875489266,
          0.7236039937448928,
          -1.503975107510865,
          -1.503975107510865,
          -1.4800355793340618,
          -0.46726547515947336,
          -0.5086992739270173,
          -1.41051887251296,
          -1.3727680780803089,
          -0.41892604326400534,
          1.6700800198914107,
          -1.4312357718967321,
          -1.4358395273153481,
          -1.434918776231625,
          -0.5298765488526509,
          0.38760487058745885,
          -0.5248124178921734,
          7.0141689089612465,
          -1.437220653940933,
          -0.5657858411178558,
          -1.41051887251296,
          0.27527323837322837,
          1.522205514071701,
          2.9339522337566266,
          -1.3672435715779696,
          -1.434918776231625,
          -1.3736888291640321,
          -1.4722091951224145,
          -1.494767596673633,
          0.7171587361588305,
          -1.3755303313314786,
          0.4585027040341452,
          -1.5048958585945882,
          4.323544839511262,
          1.8135482096685596,
          0.5463594101281768,
          -1.4367602783990714,
          -1.3718473269965856,
          -1.503975107510865,
          0.6775664395587329,
          0.3176277882244956,
          0.9040712061546401,
          0.39681238142469083,
          1.3385906952704565,
          -1.386579344336157,
          -1.41051887251296,
          -1.503975107510865,
          2.347894168966809,
          1.5355564047856873,
          0.8677015383475737,
          8.14556585813306,
          -1.437220653940933,
          -1.377371833498925,
          5.697249368505346,
          -1.4063754926362058,
          2.015653072545802,
          2.1045995090072274,
          -1.434918776231625,
          -1.4768129505410306,
          -1.494767596673633,
          -0.46312209528271897,
          1.2800479790524992,
          0.8617166563033728,
          -1.4367602783990714,
          0.8525091454661409,
          -0.3926846373778941,
          -1.4040736149268978,
          -1.4109792480548218,
          0.39773313250841397,
          -1.4013113616757282,
          1.340357175036369,
          -0.6449704343180509,
          1.7952082103956297,
          -1.4063754926362058,
          6.550185385166287,
          -0.5915668714621053,
          -1.4091377458873753,
          -0.06865527830886177,
          -1.437220653940933,
          -1.4045339904687593,
          -0.47002772841064294,
          -1.4358395273153481,
          -1.4146622523897145,
          3.3727090596313336,
          -1.3736888291640321,
          0.296450513298862,
          -1.3727680780803089,
          -0.5450689417340837,
          -0.38716013087555495,
          0.8133772244079048,
          -1.434918776231625,
          -1.3672435715779696,
          -1.3654020694105233,
          0.4327216736898956,
          -1.3520511786965368,
          -1.4768129505410306,
          -1.3520511786965368,
          0.4557404507829757,
          -1.4063754926362058,
          0.20621690709398835,
          1.5056319945646832,
          -1.434918776231625,
          1.326620931182055,
          1.138787710102522,
          -1.494767596673633,
          -1.3718473269965856,
          -1.4998317276341104,
          0.03032546319138228,
          -1.4897034657131554,
          -1.4013113616757282,
          -0.4152430389291125,
          -1.3727680780803089,
          0.4534385730736676,
          -1.369085073745416,
          -1.5053562341364497,
          -1.3520511786965368,
          3.386520325887181,
          1.9853622436650729,
          -1.386579344336157,
          2.7608510300166644,
          -0.13080597646017783,
          0.40325763901075323,
          -0.46404284636644216,
          -1.437220653940933,
          2.9855142944451254,
          -0.5105407760944637,
          -1.4013113616757282,
          8.527123225454188,
          -1.4367602783990714,
          -1.437220653940933,
          6.266669073781076,
          1.8532155286701915,
          -1.492465718964325,
          -0.5082388983851557,
          -1.4362999028572097,
          2.541881251374213,
          -1.4013113616757282,
          6.691060300975937,
          -1.5035147319690034,
          -1.377371833498925,
          7.52512967250669,
          -1.451031920196781,
          3.6814531989003885,
          -1.3884208465036034,
          0.37655585758278043,
          -1.444126287068857,
          0.7074908497797369,
          0.6605325445098537,
          -1.4367602783990714,
          -1.4998317276341104,
          -1.386579344336157,
          -1.3654020694105233,
          -0.5100804005526021,
          -1.3902623486710497,
          -1.492465718964325,
          2.0640114389218724,
          -0.14369649163230253,
          0.7742453033496689,
          -1.4722091951224145,
          0.3857543159891398,
          -1.3654020694105233,
          -1.4791148282503386,
          -0.5588802079899318,
          5.663182708371179,
          -1.471748819580553,
          -1.3727680780803089,
          0.4557404507829757,
          -1.5035147319690034,
          -1.377371833498925,
          4.005942933511283,
          -1.4063754926362058,
          0.4603442062015916,
          -1.503975107510865,
          1.6253296354486995,
          -1.4547149245316737,
          -0.497650260922339,
          2.1975953684632707,
          -1.3695454492872778,
          0.5624725540933327,
          2.7797264272329905,
          1.5250617242050069,
          -1.471748819580553,
          -1.3727680780803089,
          -1.4312357718967321,
          -1.3718473269965856,
          -1.494767596673633,
          -1.4547149245316737,
          -1.5035147319690034,
          -1.494767596673633,
          6.313091981107563,
          2.0534038669784533,
          -1.444126287068857,
          -1.4547149245316737,
          -1.434918776231625,
          2.055170346744366,
          0.2559374656150412,
          -1.3727680780803089,
          1.5236805975794219,
          0.2540959634475948,
          2.6726279052629076,
          -1.4722091951224145,
          -1.4312357718967321,
          3.861092487144957,
          0.5159746243653112,
          1.9402454405626361,
          -1.3902623486710497,
          -1.386579344336157,
          -1.5048958585945882,
          -0.4442466980663934,
          -1.3718473269965856,
          -1.4312357718967321,
          -0.41800529218028215,
          0.33604280989895957,
          -1.3672435715779696,
          3.99673542267405,
          1.7409778533380973,
          -1.369085073745416,
          -1.4722091951224145,
          -1.434918776231625,
          -0.029983732792487245,
          0.8409997569196009,
          -1.4998317276341104,
          0.40325763901075323,
          -1.4998317276341104,
          -1.4013113616757282,
          -0.196179303404525,
          0.393129377089798,
          -0.1073268238252361,
          8.458471181795879,
          -1.451031920196781,
          -0.18559066594170814,
          -1.503975107510865,
          -1.3727680780803089,
          -1.434918776231625,
          1.6866535393984283,
          1.5600502653864883,
          1.4831675498956012,
          -1.5048958585945882,
          -1.3750699557896169,
          2.111965517677013,
          0.4580423284922836,
          0.5145934977397264,
          -1.4362999028572097,
          0.7038078454448441,
          0.5799668246840736,
          2.4188670248150297,
          -1.451031920196781,
          -1.3750699557896169,
          -1.3755303313314786,
          0.24580920369408601,
          1.8077323069080296,
          -1.3759907068733401,
          -1.3520511786965368,
          0.3318994300222052,
          -0.39452613954534055,
          -1.4013113616757282,
          -1.494767596673633,
          -0.49488800767116936,
          2.3603993309986064,
          4.00502218242756,
          0.38760487058745885,
          0.9675280085300069,
          0.3038165219686476,
          -1.3750699557896169,
          -1.5048958585945882,
          3.3335771385730975,
          1.4641981957971393,
          0.898546699652301,
          -1.4312357718967321,
          0.24580920369408601,
          -1.5048958585945882,
          3.98798828737868,
          -1.4040736149268978,
          -0.573612225329503,
          -0.474631483829259,
          -1.434918776231625,
          -0.16671526872538261,
          -1.4362999028572097,
          -0.6016951333830606,
          -1.3727680780803089,
          -1.3727680780803089,
          -0.467725850701335,
          0.33420130773151324,
          -1.437220653940933,
          2.0340680942202662,
          -1.3750699557896169,
          2.273848729128626,
          -1.4722091951224145,
          0.3848426173362892,
          1.8348944638778637,
          4.078221893583554,
          -1.3759907068733401,
          -1.3902623486710497,
          1.923211545513757,
          -1.3884208465036034,
          0.42672773921482227,
          -1.377371833498925,
          -1.494767596673633,
          -1.3755303313314786,
          -1.4501111691130577,
          0.09754029230317593,
          -1.3718473269965856,
          -1.4367602783990714,
          -1.457937553324705,
          -1.3695454492872778,
          1.051316357148818,
          -1.3695454492872778,
          -1.4123603746804065,
          0.2522544612801484,
          -0.49488800767116936,
          3.419499515581138,
          -1.3902623486710497,
          -0.0502402566343977,
          -1.4040736149268978,
          -1.437220653940933,
          -1.5053562341364497,
          -1.4312357718967321,
          -0.4824578680409061,
          0.4050900887473271,
          0.3480125739873612,
          0.2393639461080236,
          -1.4791148282503386,
          1.6593974255464579,
          -1.41051887251296,
          -1.457937553324705,
          4.236683906902488,
          -1.4091377458873753,
          -1.494767596673633,
          -1.3792133356663714,
          -1.386579344336157,
          2.243632922649431,
          1.534635653701964,
          -1.451031920196781,
          -1.437220653940933,
          -0.2891751628605682,
          -1.3755303313314786,
          0.37655585758278043,
          -1.3727680780803089,
          -1.471748819580553,
          0.3038165219686476,
          1.319715298054131,
          -1.4312357718967321,
          4.098035846400612,
          0.2522544612801484,
          -1.4501111691130577,
          0.2614619721173804,
          -1.4547149245316737,
          0.40325763901075323,
          0.439166931275958,
          -0.40879778134305017,
          -1.3695454492872778,
          0.9289314854151665,
          2.64161376467451,
          0.38760487058745885,
          -0.06681377614141527,
          -0.5294161733107894,
          -1.4109792480548218,
          -1.4358395273153481,
          -1.4045339904687593,
          -0.5593405835317934,
          -1.3695454492872778,
          -1.4897034657131554,
          -1.4045339904687593,
          -1.3520511786965368,
          -1.5048958585945882,
          -1.4501111691130577,
          -1.3792133356663714,
          0.7898980717729633,
          1.1719347491165575,
          -1.3976283573408352,
          -1.369085073745416,
          10.133815647591446,
          2.1781845733035494,
          0.26238272320110356,
          0.8787505513522521,
          1.036584339809247,
          -1.5048958585945882,
          -1.3976283573408352,
          -1.3695454492872778,
          -1.434918776231625,
          1.746887712980764,
          -1.4362999028572097,
          3.877205631110113,
          -1.3755303313314786,
          0.33328055664779005,
          -1.457937553324705,
          -1.4045339904687593,
          -1.5053562341364497,
          -1.3755303313314786,
          2.0630717533575473,
          -1.3759907068733401,
          0.35768046036645484,
          0.32545417243614283,
          0.48565580857310703,
          1.278281499286587,
          0.383921866252566,
          0.42856924138226876,
          -1.4768129505410306,
          5.1030545887650876,
          4.262850290387066,
          -1.3902623486710497,
          -1.492465718964325,
          1.3680547299495989,
          2.6439906647853526,
          0.4603442062015916,
          -1.494767596673633,
          -1.4800355793340618,
          1.184825264288682,
          -1.4040736149268978,
          -0.5133030293456333,
          0.531167017246744,
          3.229626222994512,
          -1.386579344336157,
          0.5905554621468905,
          -1.4998317276341104,
          -0.6049177621760917,
          -1.3695454492872778,
          2.981098452790782,
          -1.3884208465036034,
          -1.3727680780803089,
          -1.434918776231625,
          0.8551963763157764,
          -1.451031920196781,
          0.9666072574462836,
          -1.4091377458873753,
          -0.40879778134305017,
          1.7767181663196319,
          0.05978949787052476,
          -0.12390034333225379,
          -1.434918776231625,
          1.1305009503490133,
          -1.3902623486710497,
          -1.3695454492872778,
          0.37287285324788766,
          -1.451031920196781,
          -1.434918776231625,
          -0.589725369294659,
          -1.4312357718967321,
          10.054424206146376,
          -1.41051887251296,
          0.3047372730523708,
          -1.3520511786965368,
          -0.5022540163409549,
          -1.444126287068857,
          0.24765070586153246,
          -1.4045339904687593,
          0.005925559472717431,
          0.4603442062015916,
          -1.3520511786965368,
          4.114759410710699,
          -1.4312357718967321,
          2.2481616556665123,
          -1.3736888291640321,
          0.24580920369408601,
          -1.5053562341364497,
          -1.3654020694105233,
          -0.6555590717808678,
          -1.4897034657131554,
          -1.3759907068733401,
          0.87637365124141,
          -1.4123603746804065,
          -1.434918776231625,
          -1.3672435715779696,
          0.26238272320110356,
          0.2614619721173804,
          -0.46220134419899583,
          5.240539026461628,
          -1.4146622523897145,
          -0.46082021757341096,
          2.1339695868042337,
          -1.457937553324705,
          3.5203217592488283,
          -1.3654020694105233,
          1.9553438765619324,
          -1.3654020694105233,
          0.20621690709398835,
          0.33604280989895957,
          -1.434918776231625,
          -1.3792133356663714,
          0.462185708369038,
          -1.492465718964325,
          0.711164801683757,
          -1.4501111691130577,
          -1.3750699557896169,
          5.301402554869496,
          0.8575732764266185,
          -1.4063754926362058,
          -0.1759227795626146,
          -1.386579344336157,
          -1.3736888291640321,
          -1.3902623486710497,
          2.3198112609132515,
          0.7259058714542008,
          -1.4791148282503386,
          -1.377371833498925,
          -1.4722091951224145,
          0.37655585758278043,
          -1.41051887251296,
          -1.4109792480548218,
          3.5586257561418857,
          -0.4134015367616661,
          -1.5048958585945882,
          0.0630121266635559,
          1.8048760967747235,
          0.3176277882244956,
          -1.437220653940933,
          -1.4123603746804065,
          -1.4998317276341104,
          0.7866754429799321,
          2.938189570515517,
          -0.43734106493846947,
          -0.5671669677434406,
          -1.4897034657131554,
          0.19793014734047956,
          -1.492465718964325,
          -1.386579344336157,
          0.38760487058745885,
          -0.21551507616271218,
          -1.4013113616757282,
          -1.471748819580553,
          -0.17914540835564585,
          -1.4547149245316737,
          -0.11423245695316024,
          5.606922935381927,
          -1.5053562341364497,
          -1.3520511786965368,
          0.305658024136094,
          0.3797784863758117,
          -1.451031920196781,
          -0.3968280172546486,
          -1.3930246019222192,
          -1.4547149245316737,
          -0.6574005739483142,
          0.7866754429799321,
          2.1602109926903448,
          0.4221330362270788,
          1.9430076938138057,
          3.4186715914159596,
          -1.3792133356663714,
          2.5105757145276244,
          -0.46726547515947336,
          0.42765754272941797,
          -1.4358395273153481,
          0.383921866252566,
          1.5355564047856873,
          -0.5303369243945125,
          5.184373210354512,
          -1.494767596673633,
          -1.4040736149268978,
          1.7197066215303276,
          -1.4501111691130577,
          -1.41051887251296,
          -1.494767596673633,
          -1.41051887251296,
          0.3530767049478388,
          -1.437220653940933,
          -1.3759907068733401,
          -1.3755303313314786,
          3.581644533234966,
          3.3266715054451734,
          0.4327216736898956,
          -0.6086007665109846,
          -1.3718473269965856,
          -1.437220653940933,
          -1.3727680780803089,
          -0.036428990378549755,
          0.3935897526316596,
          -1.4358395273153481,
          -1.4547149245316737,
          -1.3718473269965856,
          -1.3902623486710497,
          2.1055202600909504,
          -1.3718473269965856,
          0.7871358185217937,
          -1.3727680780803089,
          -1.3792133356663714,
          -0.5855819894179046,
          4.372326842431582,
          -1.5048958585945882,
          1.5240470162391473,
          -1.3718473269965856,
          0.3346616832733748,
          -1.3520511786965368,
          0.48658561208770285,
          -1.3976283573408352,
          1.4564657684676283,
          -1.4109792480548218,
          -1.3792133356663714,
          0.7710226745566376,
          -0.5022540163409549,
          -1.41051887251296,
          -1.444126287068857,
          0.47139321920627003,
          6.362427186488288,
          -1.4146622523897145,
          0.439166931275958,
          -1.3930246019222192,
          -1.386579344336157,
          -1.503975107510865,
          0.7231436182030313,
          -0.503174767424678,
          3.651989164221246,
          -1.4367602783990714,
          4.12498162951379,
          7.61996703413018,
          0.7120946051983529,
          -1.503975107510865,
          -0.5598009590736549,
          -0.46910697732691975,
          0.6798683172680409,
          -1.386579344336157,
          -1.4722091951224145,
          -0.22702446470925217,
          2.1896750273694874,
          0.8653996606382657,
          5.361908060265828,
          -0.13540973187879374,
          -1.3727680780803089,
          -1.3930246019222192,
          -1.4109792480548218,
          -1.494767596673633,
          3.1955584328967537,
          -1.494767596673633,
          2.1552408186120036,
          -1.377371833498925,
          0.42903866935500284,
          2.4502665185437547,
          0.5615518030096096,
          0.4253466125892375,
          2.1100489931080326,
          -1.4722091951224145,
          -1.471748819580553,
          -1.369085073745416,
          8.487991304395953,
          -1.4897034657131554,
          -0.4391825671059158,
          -1.3727680780803089,
          -1.41051887251296,
          -1.4800355793340618,
          -0.057145889762321836,
          -1.3750699557896169,
          1.5867520468144611,
          -1.4091377458873753,
          -1.4013113616757282,
          0.8119960977823201,
          0.41568777864101636,
          -1.4063754926362058,
          -1.5053562341364497,
          0.2264734309358988,
          1.7717479922412904,
          -1.3695454492872778,
          1.7381216432047915,
          2.6988693111490187,
          1.5263488939484553,
          -0.5179067847642493,
          0.3365031854408212,
          1.7179590762450174,
          0.305658024136094,
          0.3963520058828292,
          1.9361020606858816,
          -1.5035147319690034,
          2.197980721603598,
          -1.3672435715779696,
          0.9666072574462836,
          -1.492465718964325,
          6.625226598489728,
          -1.3672435715779696,
          -1.386579344336157,
          1.8237704284716514,
          0.8133772244079048,
          -1.3736888291640321,
          7.445465769284032,
          0.2531752123638716,
          -0.4470089513175629,
          3.719757195793446,
          0.4244349139363868,
          -1.3930246019222192,
          -0.315876944288541,
          1.2934738921680198,
          0.5905554621468905,
          -1.4362999028572097,
          -1.4367602783990714,
          0.4511366953643596,
          0.59331771539806,
          -1.4091377458873753,
          2.690967904535838,
          -1.4146622523897145,
          -0.5455293172759453,
          0.3549182071152852,
          -1.3727680780803089,
          -0.45805796432224144,
          -0.5648650900341325,
          2.079109874921169,
          -1.4501111691130577,
          1.9493589945177319,
          -1.4045339904687593,
          -0.09167405540194178,
          2.833242881451674,
          -1.4040736149268978,
          0.7190002383262768,
          -0.4967295098386158,
          0.8147583510334897,
          -1.377371833498925,
          -1.471748819580553,
          3.1632381880843057,
          1.1084029243396565,
          -1.386579344336157,
          -1.3792133356663714,
          -0.5616424612411014,
          -1.4897034657131554,
          7.9839551084590346,
          2.3941007024366394,
          -0.5192879113898341,
          0.3530767049478388,
          -1.3727680780803089,
          0.4239745383945252,
          1.910321030341632,
          3.9345847245227343,
          0.8515883943824177,
          0.5145934977397264,
          -1.4289338941874241,
          0.7719343732094882,
          -1.3750699557896169,
          -1.4091377458873753,
          1.727918358882302,
          -1.3750699557896169,
          -0.5625632123248245,
          3.5548499248884484,
          -1.41051887251296,
          -1.503975107510865,
          -1.3976283573408352,
          -1.437220653940933,
          -1.4768129505410306,
          0.910056088198841,
          -1.4362999028572097,
          -1.437220653940933,
          -1.3520511786965368,
          -1.3884208465036034,
          6.555249516126764,
          -1.3750699557896169,
          -1.444126287068857,
          -1.503975107510865,
          -1.4013113616757282,
          -0.5123822782619102,
          0.8653996606382657,
          -1.503975107510865,
          1.0711125054488668,
          0.32913717677103566,
          -1.437220653940933,
          -1.4146622523897145,
          1.2373080760609045,
          -0.15106250030208823,
          0.4239745383945252,
          0.3337409321896517,
          -1.4998317276341104,
          -1.5035147319690034,
          -0.46174096865713415,
          5.5489906395089,
          1.916305912385833,
          0.4538989486155292,
          0.6568495401749609,
          -1.451031920196781,
          -1.4045339904687593,
          0.8801316779778369,
          2.2674784939440977,
          2.793462671087304,
          0.49854632374523206,
          0.7259058714542008,
          0.8336337482498153,
          1.1810672375522553,
          -1.3654020694105233,
          -0.5298765488526509,
          0.22371117768472917,
          1.149376347565339,
          -1.3759907068733401,
          -1.4091377458873753,
          2.950525753263644,
          -1.434918776231625,
          -1.4091377458873753,
          1.8002723413561075,
          5.051785054298372,
          -1.4722091951224145,
          0.4603442062015916,
          0.19516789408930993,
          -1.4998317276341104,
          0.22094892443355954,
          -1.3759907068733401,
          -1.3695454492872778,
          -1.4146622523897145,
          -1.3672435715779696,
          -1.4367602783990714,
          2.626590351076748,
          0.9234069789128274,
          1.9043361482974313,
          0.4750762235411629,
          -1.5048958585945882,
          -1.451031920196781,
          -1.4998317276341104,
          0.3903671238386285,
          -1.386579344336157,
          -1.4109792480548218,
          2.6588166390070596,
          -1.4013113616757282,
          -1.4367602783990714,
          -0.16579451764165937,
          -1.444126287068857,
          -0.39222426183603254,
          0.5601616239531522,
          -1.4998317276341104,
          -1.437220653940933,
          -1.494767596673633,
          0.9220258522872427,
          -1.437220653940933,
          -1.4547149245316737,
          3.0734649574212933,
          1.9024006892478484,
          -1.4289338941874241,
          -1.3695454492872778,
          -1.4791148282503386,
          -1.4109792480548218,
          -0.4244505497663446,
          0.8267281151218913,
          -1.4013113616757282,
          -1.3654020694105233,
          -1.377371833498925,
          -1.3718473269965856,
          0.3945105037153829,
          -1.3718473269965856,
          -0.5381633086061597,
          -0.527574671143343,
          -1.369085073745416,
          2.072739639736641,
          -0.4898238767106917,
          -1.4367602783990714,
          2.6403265949310617,
          0.20621690709398835,
          2.0387658065210186,
          -1.3759907068733401,
          0.9389847249345877
         ],
         "xaxis": "x",
         "y": [
          -5.4625885574210775,
          1.6136456827128873,
          -0.8955826290064902,
          -0.4694388919539245,
          -0.492205722202101,
          -0.47605271973551777,
          -0.4671494900295269,
          1.3775899528876463,
          -0.4574831263487369,
          -0.8341801147818932,
          -0.45697437036553745,
          1.618733242544882,
          -0.4576103153445368,
          1.6500217355116498,
          -0.45697437036553745,
          -0.4582462603235361,
          -0.4820306025381116,
          -0.4811402795675125,
          2.016842905407313,
          -0.4872453513659062,
          -0.4915697772231017,
          -1.7184281967075095,
          -0.8857890763299003,
          -0.47465364078171923,
          -0.4951310691054981,
          2.0628328267727016,
          -0.47007483693292396,
          -0.7876289423191413,
          -0.4811402795675125,
          -0.4811402795675125,
          -0.4947495021180984,
          1.3567309575764679,
          1.4042996420056186,
          -0.46028128425633397,
          -0.46727667902532677,
          -0.8823549734433039,
          -0.4677854350085263,
          -1.2594037581171205,
          1.6077949889060934,
          -0.45875501630673554,
          -5.413470880674904,
          1.62076826647768,
          -0.4694388919539245,
          -0.8870609662878991,
          -0.45977252827313453,
          1.7088804698202495,
          -0.4908066432483025,
          -0.4585006383151359,
          -0.8824821624391038,
          -0.46727667902532677,
          1.6428991517468572,
          -0.4585006383151359,
          -0.4591365832941352,
          -5.355599887585964,
          -0.7465468966757837,
          1.7743828026571817,
          -0.49360480115589966,
          -0.8561540403085309,
          1.7303754101104272,
          -1.2769558395375022,
          1.741186474753416,
          -0.4740176958027198,
          -0.4740176958027198,
          1.9699399367039008,
          1.8111106516966042,
          -0.893929172061092,
          -0.47617990873131755,
          -0.492205722202101,
          -1.1198097822223436,
          -5.357889289510362,
          -0.4671494900295269,
          1.7924138693140237,
          1.9437390035691278,
          -0.47986838960951383,
          -0.45977252827313453,
          -0.4801227676011135,
          -0.4947495021180984,
          -5.147578231950857,
          -2.856472001648939,
          -0.4671494900295269,
          -0.4592637722899351,
          -0.4582462603235361,
          -0.4564656143823379,
          -0.4527771335041417,
          -0.46409695413033003,
          -0.49360480115589966,
          -0.4574831263487369,
          -2.9058213320192876,
          1.6017943817360754,
          1.6571443192764423,
          -0.4576103153445368,
          -0.4694388919539245,
          1.5884622615445132,
          -0.47007483693292396,
          2.00997469963412,
          -5.36933629913235,
          -0.45875501630673554,
          -0.4756711527481181,
          -5.301447146121959,
          -0.7900455332393388,
          -0.4782149326641155,
          -0.4872453513659062,
          -0.4576103153445368,
          -0.47007483693292396,
          -0.46638635605472767,
          -0.47630709772711743,
          -0.8651844590103216,
          -0.46727667902532677,
          -3.021174704830454,
          1.53921739580254,
          -0.4801227676011135,
          1.6357765679820644,
          -0.4592637722899351,
          1.5771197165509008,
          -0.8873153442794988,
          -0.4671494900295269,
          2.4979772117803187,
          -0.862004734115325,
          -0.4756711527481181,
          -0.46231630818913194,
          -0.4694388919539245,
          -0.8808287054937055,
          1.7241431493162336,
          -0.4947495021180984,
          -0.4947495021180984,
          -0.4881356743365053,
          -0.8729429877541136,
          -0.8843899973761018,
          -0.4689301359707251,
          -0.4585006383151359,
          -0.8595881431951274,
          1.3210206205034443,
          -0.47465364078171923,
          -0.4759255307397179,
          -0.4756711527481181,
          -0.8902406911828957,
          1.6329784100744673,
          -0.8888416122290972,
          -2.8220037837871743,
          -0.47630709772711743,
          -0.9001614328552855,
          -0.4689301359707251,
          1.6019442950992993,
          1.9414496016447302,
          2.3264885686865147,
          -0.45697437036553745,
          -0.4756711527481181,
          -0.45875501630673554,
          -0.48597346140790754,
          -0.492205722202101,
          1.7223625033750356,
          -0.4592637722899351,
          1.652565515427647,
          -0.4950038801096982,
          2.040799359752585,
          2.020277008293909,
          1.6751753859332843,
          -0.47617990873131755,
          -0.4582462603235361,
          -0.4947495021180984,
          1.7114242497362468,
          1.6136456827128873,
          1.774001235669782,
          1.6355221899904646,
          1.8923844200127204,
          -0.46231630818913194,
          -0.4689301359707251,
          -0.4947495021180984,
          2.1645769770332817,
          1.9451380825229265,
          1.7639533050015925,
          -3.1773627916726928,
          -0.47630709772711743,
          -0.45977252827313453,
          1.7557082190420734,
          -0.4677854350085263,
          2.0761129774500517,
          1.4394038048463824,
          -0.4756711527481181,
          -0.4872453513659062,
          -0.492205722202101,
          -0.8717982867919148,
          1.8745481898539993,
          1.7622998480561942,
          -0.47617990873131755,
          1.759756068140197,
          -0.8523383704345349,
          -0.4671494900295269,
          -0.46905732496652497,
          1.6357765679820644,
          -0.46638635605472767,
          1.891209948303782,
          -0.922037940132863,
          2.0168726761540525,
          -0.4677854350085263,
          -2.9485270638613046,
          -0.9072840166200783,
          -0.4685485689833254,
          -0.7644805450835652,
          -0.47630709772711743,
          -0.46727667902532677,
          -0.8737061217289128,
          -0.4759255307397179,
          -0.47007483693292396,
          1.7847598051986073,
          -0.45875501630673554,
          1.6077949889060934,
          -0.4585006383151359,
          -0.8944379280442915,
          -0.8508121024849364,
          1.748945003497208,
          -0.4756711527481181,
          -0.45697437036553745,
          -0.4564656143823379,
          1.6454429316628545,
          -0.4527771335041417,
          -0.4872453513659062,
          -0.4527771335041417,
          1.651802381452848,
          -0.4677854350085263,
          1.582865945729319,
          1.936870797795935,
          -0.4756711527481181,
          1.8890775061219238,
          1.8371843958355774,
          -0.492205722202101,
          -0.4582462603235361,
          -0.49360480115589966,
          -0.7371349109865935,
          -0.4908066432483025,
          -0.46638635605472767,
          -0.8585706312287285,
          -0.4585006383151359,
          1.6511664364738485,
          -0.4574831263487369,
          -0.4951310691054981,
          -0.4527771335041417,
          1.7885754750726033,
          1.4064618549342165,
          -0.46231630818913194,
          2.2786655062657637,
          -0.7816510595165475,
          1.6373028359316628,
          -0.8720526647835145,
          -0.47630709772711743,
          2.3407337362161,
          -0.8848987533593012,
          -0.46638635605472767,
          -2.4106664653615573,
          -0.47617990873131755,
          -0.47630709772711743,
          -3.0251922575818857,
          2.032898489624836,
          -0.4915697772231017,
          -0.8842628083803019,
          -0.47605271973551777,
          1.55855012316412,
          -0.46638635605472767,
          -2.9096072311465444,
          -0.49462231312229854,
          -0.45977252827313453,
          -3.3454471026266397,
          -0.4801227676011135,
          -5.341227531060579,
          -0.4628250641723314,
          1.6299258741752705,
          -0.4782149326641155,
          1.7196915344632382,
          1.7067182568916517,
          -0.47617990873131755,
          -0.49360480115589966,
          -0.46231630818913194,
          -0.4564656143823379,
          -0.8847715643635015,
          -0.4633338201555308,
          -0.4915697772231017,
          1.4265279455238562,
          -0.7852123513989437,
          1.7381339388542192,
          -0.48597346140790754,
          -1.3018848827142766,
          -0.4564656143823379,
          -0.4878812963449055,
          -0.8982535979182876,
          -6.12460834018892,
          -0.48584627241210765,
          -0.4585006383151359,
          1.651802381452848,
          -0.49462231312229854,
          -0.45977252827313453,
          -5.253242516713809,
          -0.4677854350085263,
          1.6530742714108466,
          -0.4947495021180984,
          1.9699399367039008,
          -0.4811402795675125,
          -0.881337461476905,
          1.4650959819979559,
          -0.4576103153445368,
          1.6796270007862797,
          2.283880255093558,
          1.2809560868264855,
          -0.48584627241210765,
          -0.4585006383151359,
          -0.47465364078171923,
          -0.4582462603235361,
          -0.492205722202101,
          -0.4811402795675125,
          -0.49462231312229854,
          -0.492205722202101,
          -3.0140293966982368,
          2.086542475105641,
          -0.4782149326641155,
          -0.4811402795675125,
          -0.4756711527481181,
          2.085368003396703,
          1.5966023572757049,
          -0.4585006383151359,
          1.280574519839086,
          1.5960936012925053,
          1.5946717979712826,
          -0.48597346140790754,
          -0.47465364078171923,
          1.91802410205013,
          1.6667809122104928,
          1.3939973333458293,
          -0.4633338201555308,
          -0.46231630818913194,
          -0.4950038801096982,
          -0.8665835379641202,
          -0.4582462603235361,
          -0.47465364078171923,
          -0.8593337652035277,
          1.618733242544882,
          -0.45697437036553745,
          -5.255786296629807,
          1.340607725856624,
          -0.4574831263487369,
          -0.48597346140790754,
          -0.4756711527481181,
          -0.7537966694363761,
          1.7565763432452002,
          -0.49360480115589966,
          1.6373028359316628,
          -0.49360480115589966,
          -0.46638635605472767,
          -0.7997118969201288,
          1.6345046780240657,
          -0.7751644207307541,
          -3.094240729913057,
          -0.4801227676011135,
          -0.7967865500167318,
          -0.4947495021180984,
          -0.4585006383151359,
          -0.4756711527481181,
          1.3255994243522395,
          1.2906224505072756,
          1.2693818882086976,
          -0.4950038801096982,
          -0.4591365832941352,
          1.4414388287791804,
          1.6524383264318472,
          1.6663993452230932,
          -0.47605271973551777,
          1.7186740224968393,
          1.6844601826266747,
          2.185847310078599,
          -0.4801227676011135,
          -0.4591365832941352,
          -0.4592637722899351,
          1.5938041993681078,
          1.359050130247605,
          -0.459390961285735,
          -0.4527771335041417,
          1.6175885415826832,
          -0.8528471264177344,
          -0.46638635605472767,
          -0.492205722202101,
          -0.8805743275021057,
          2.1696943076120156,
          -5.253496894705409,
          1.6329784100744673,
          1.7898700893980262,
          1.6098300128388912,
          -0.4591365832941352,
          -0.4950038801096982,
          1.7739487405556185,
          1.9254237881739467,
          1.7724749677201839,
          -0.47465364078171923,
          1.5938041993681078,
          -0.4950038801096982,
          -5.258202887550004,
          -0.4671494900295269,
          -0.9023236457838834,
          -0.8749780116869116,
          -0.4756711527481181,
          -0.7915718011889372,
          -0.47605271973551777,
          -0.9100821745276754,
          -0.4585006383151359,
          -0.4585006383151359,
          -0.8730701767499135,
          1.6182244865616826,
          -0.47630709772711743,
          2.0812005372820463,
          -0.4591365832941352,
          2.1457827764016404,
          -0.48597346140790754,
          1.6322152760996682,
          1.3665542809997973,
          -5.23327384437323,
          -0.459390961285735,
          -0.4633338201555308,
          1.3892913405012342,
          -0.4628250641723314,
          -1.2905650620880882,
          -0.45977252827313453,
          -0.492205722202101,
          -0.4592637722899351,
          -0.47986838960951383,
          -0.7185653175998126,
          -0.4582462603235361,
          -0.47617990873131755,
          -0.4820306025381116,
          -0.4576103153445368,
          1.8130184866336023,
          -0.4576103153445368,
          -0.4694388919539245,
          1.595584845309306,
          -0.8805743275021057,
          -5.413598069670703,
          -0.4633338201555308,
          -0.7593929852515704,
          -0.4671494900295269,
          -0.47630709772711743,
          -0.4951310691054981,
          -0.47465364078171923,
          -0.8771402246155092,
          -1.296542944890682,
          1.6220401564356786,
          1.5920235534269096,
          -0.4878812963449055,
          1.979351922393091,
          -0.4689301359707251,
          -0.4820306025381116,
          2.0201270949306855,
          -0.4685485689833254,
          -0.492205722202101,
          -0.46028128425633397,
          -0.46231630818913194,
          1.4778148815779428,
          1.9448837045313268,
          -0.4801227676011135,
          -0.47630709772711743,
          -0.8254040740717022,
          -0.4592637722899351,
          1.6299258741752705,
          -0.4585006383151359,
          -0.48584627241210765,
          1.6098300128388912,
          1.8871696711849257,
          -0.47465364078171923,
          1.9801599795027867,
          1.595584845309306,
          -0.47986838960951383,
          1.5981286252253033,
          -0.4811402795675125,
          1.6373028359316628,
          1.6472235776040527,
          -0.8567899852875303,
          -0.4576103153445368,
          1.780869441442975,
          2.2457235563535978,
          1.6329784100744673,
          -0.7639717891003657,
          -0.890113502187096,
          -0.46905732496652497,
          -0.4759255307397179,
          -0.46727667902532677,
          -0.8983807869140875,
          -0.4576103153445368,
          -0.4908066432483025,
          -0.46727667902532677,
          -0.4527771335041417,
          -0.4950038801096982,
          -0.47986838960951383,
          -0.46028128425633397,
          1.7424583647114147,
          1.846342003533168,
          -0.4653688440883288,
          -0.4574831263487369,
          -3.9572797271676987,
          1.4580708164822236,
          1.598383003216903,
          1.7670058409007894,
          1.8089484387680066,
          -0.4950038801096982,
          -0.4653688440883288,
          -0.4576103153445368,
          -0.4756711527481181,
          1.3405779551098844,
          -0.47605271973551777,
          1.9224757169031255,
          -0.4592637722899351,
          1.6179701085700828,
          -0.4820306025381116,
          -0.46727667902532677,
          -0.4951310691054981,
          -0.4592637722899351,
          2.0892134440174384,
          -0.459390961285735,
          1.624711125347476,
          1.615807895641485,
          -1.274284870625705,
          1.8757226615629377,
          1.6319608981080684,
          -1.2900563061048889,
          -0.4872453513659062,
          1.5948736808487185,
          2.02569363999914,
          -0.4633338201555308,
          -0.4915697772231017,
          1.900524515743912,
          2.248042729024735,
          1.6530742714108466,
          -0.492205722202101,
          -0.4881356743365053,
          1.8499032954155643,
          -0.4671494900295269,
          -0.8856618873341005,
          1.6709781490718885,
          1.0839473787118041,
          -0.46231630818913194,
          1.6873855295300717,
          -0.49360480115589966,
          -0.9109724974982744,
          -0.4576103153445368,
          1.016948548672013,
          -0.4628250641723314,
          -0.4585006383151359,
          -0.4756711527481181,
          1.7588359744228583,
          -0.4801227676011135,
          1.7896157114064266,
          -0.4685485689833254,
          -0.8567899852875303,
          2.01010188862992,
          -0.7289948152554018,
          -0.7797432245795494,
          -0.4756711527481181,
          1.8348949939111798,
          -0.4633338201555308,
          -0.4576103153445368,
          1.6289083622088716,
          -0.4801227676011135,
          -0.4756711527481181,
          -0.9067752606368787,
          -0.47465364078171923,
          -1.9937030603740067,
          -0.4689301359707251,
          1.610084390830491,
          -0.4527771335041417,
          -0.8826093514349036,
          -0.4782149326641155,
          1.5943129553513073,
          -0.46727667902532677,
          -0.7438759277639865,
          1.6530742714108466,
          -0.4527771335041417,
          1.9881052387358578,
          -0.47465364078171923,
          1.4774035438438036,
          -0.45875501630673554,
          1.5938041993681078,
          -0.4951310691054981,
          -0.4564656143823379,
          -0.92496328703626,
          -0.4908066432483025,
          -0.459390961285735,
          1.7646866682296523,
          -0.4694388919539245,
          -0.4756711527481181,
          -0.45697437036553745,
          1.598383003216903,
          1.5981286252253033,
          -0.8715439088003151,
          -5.578427961848018,
          -0.47007483693292396,
          -0.8711623418129154,
          2.1088005493706183,
          -0.4820306025381116,
          -5.385743679590532,
          -0.4564656143823379,
          2.059451219000269,
          -0.4564656143823379,
          1.582865945729319,
          1.618733242544882,
          -0.4756711527481181,
          -0.46028128425633397,
          1.653583027394046,
          -0.4915697772231017,
          -1.2136454903759073,
          -0.47986838960951383,
          -0.4591365832941352,
          -6.222895663195479,
          1.7611551470939955,
          -0.4677854350085263,
          -0.7941155811049346,
          -0.46231630818913194,
          -0.45875501630673554,
          -0.4633338201555308,
          2.1568184482894894,
          1.724779094295233,
          -0.4878812963449055,
          -0.45977252827313453,
          -0.48597346140790754,
          1.6299258741752705,
          -0.4689301359707251,
          -0.46905732496652497,
          1.8344609318096166,
          -0.858061875245529,
          -0.4950038801096982,
          -0.7281044922848027,
          2.0195436450658497,
          1.6136456827128873,
          -0.47630709772711743,
          -0.4694388919539245,
          -0.49360480115589966,
          1.7415680417408157,
          1.666376620855669,
          -0.8646757030271222,
          -0.9005429998426852,
          -0.4908066432483025,
          1.5805765438049215,
          -0.4915697772231017,
          -0.46231630818913194,
          1.6329784100744673,
          -0.8050538347437233,
          -0.46638635605472767,
          -0.48584627241210765,
          -0.7950059040755337,
          -0.4811402795675125,
          -0.7770722556677522,
          -5.47886874888346,
          -0.4951310691054981,
          -0.4527771335041417,
          1.6103387688220907,
          1.6308161971458697,
          -0.4801227676011135,
          -0.8534830713967337,
          -0.46409695413033003,
          -0.4811402795675125,
          -0.9254720430194595,
          1.7415680417408157,
          2.1160503221312106,
          1.6425175847594575,
          1.3947604673206286,
          1.7957954770864564,
          -0.46028128425633397,
          1.549901271449729,
          -0.8729429877541136,
          1.644043852709056,
          -0.4759255307397179,
          1.6319608981080684,
          1.9451380825229265,
          -0.8903678801786956,
          -5.593945019335602,
          -0.492205722202101,
          -0.4671494900295269,
          1.996013680842874,
          -0.47986838960951383,
          -0.4689301359707251,
          -0.492205722202101,
          -0.4689301359707251,
          1.623439235389477,
          -0.47630709772711743,
          -0.459390961285735,
          -0.4592637722899351,
          1.8408203815996098,
          1.7720409056186204,
          1.6454429316628545,
          -0.9119900094646735,
          -0.4582462603235361,
          -0.47630709772711743,
          -0.4585006383151359,
          -0.7555773153775743,
          1.6346318670198656,
          -0.4759255307397179,
          -0.4811402795675125,
          -0.4582462603235361,
          -0.4633338201555308,
          1.4396581828379822,
          -0.4582462603235361,
          1.7416952307366156,
          -0.4585006383151359,
          -0.46028128425633397,
          -0.90563055967468,
          -5.153683303749251,
          -0.4950038801096982,
          1.9419583576279298,
          -0.4582462603235361,
          1.6183516755574825,
          -0.4527771335041417,
          1.660324044171439,
          -0.4653688440883288,
          1.2620049264523052,
          -0.46905732496652497,
          -0.46028128425633397,
          1.7372436158836202,
          -0.8826093514349036,
          -0.4689301359707251,
          -0.4782149326641155,
          1.6561268073100435,
          -2.998736946455513,
          -0.47007483693292396,
          1.6472235776040527,
          -0.46409695413033003,
          -0.46231630818913194,
          -0.4947495021180984,
          1.724015960320434,
          -0.8828637294265034,
          -5.34936762679177,
          -0.47617990873131755,
          1.329646747850411,
          -3.3192461694918665,
          1.720963424421237,
          -0.4947495021180984,
          -0.8985079759098874,
          -0.873451743737313,
          1.712060194715246,
          -0.46231630818913194,
          -0.48597346140790754,
          -0.80823355963872,
          2.1241904178624025,
          1.7633173600225933,
          2.985627927685857,
          -0.7829229494745461,
          -0.4585006383151359,
          -0.46409695413033003,
          -0.46905732496652497,
          -0.492205722202101,
          1.074535393022614,
          -0.492205722202101,
          1.453394594384368,
          -0.45977252827313453,
          1.6444254196964556,
          1.533239512999946,
          1.67937262279468,
          -1.2909466290754879,
          1.4392468451038432,
          -0.48597346140790754,
          -0.48584627241210765,
          -0.4574831263487369,
          -2.421477530004546,
          -0.4908066432483025,
          -0.8651844590103216,
          -0.4585006383151359,
          -0.4689301359707251,
          -0.4881356743365053,
          -0.7613008201885685,
          -0.4591365832941352,
          1.297999412263668,
          -0.4685485689833254,
          -0.46638635605472767,
          1.7485634365098084,
          1.6407369388182593,
          -0.4677854350085263,
          -0.4951310691054981,
          1.5884622615445132,
          1.3474461608830774,
          -0.4576103153445368,
          2.0011012406748687,
          1.601921570731875,
          1.942594302606929,
          -0.8869337772920992,
          1.6188604315406818,
          1.3342482760666305,
          1.6103387688220907,
          1.6353950009946647,
          1.3928526323836306,
          -0.49462231312229854,
          1.463539943301618,
          -0.45697437036553745,
          1.7896157114064266,
          -0.4915697772231017,
          -2.9277952575459256,
          -0.45697437036553745,
          -0.46231630818913194,
          1.3618185174084625,
          1.748945003497208,
          -0.45875501630673554,
          -2.704510922414835,
          1.5958392233009058,
          -0.8673466719389193,
          1.8789770803395704,
          1.6431535297384567,
          -0.46409695413033003,
          -0.8327810358280947,
          1.8799198984243333,
          1.6873855295300717,
          -0.47605271973551777,
          -0.47617990873131755,
          1.650530491494849,
          1.6881486635048708,
          -0.4685485689833254,
          1.5980761301111395,
          -0.47007483693292396,
          -0.8945651170400913,
          1.6239479913726766,
          -0.4585006383151359,
          -0.8703992078381163,
          -0.8999070548636859,
          2.0919818311782956,
          -0.47986838960951383,
          2.0577977620548706,
          -0.46727667902532677,
          -0.7708399948735586,
          0.9744376533281174,
          -0.4671494900295269,
          1.722871259358235,
          -0.8810830834853053,
          1.7493265704846077,
          -0.45977252827313453,
          -0.48584627241210765,
          1.726888812109667,
          1.8287899221127861,
          -0.46231630818913194,
          -0.46028128425633397,
          -0.8990167318930867,
          -0.4908066432483025,
          -2.5590662527132646,
          1.517722455512362,
          -0.8873153442794988,
          1.623439235389477,
          -0.4585006383151359,
          1.6430263407426569,
          1.3857300486188378,
          -5.272956811062788,
          1.7595016901485971,
          1.6663993452230932,
          -0.4740176958027198,
          -1.1968565429303246,
          -0.4591365832941352,
          -0.4685485689833254,
          1.9966198550751337,
          -0.4591365832941352,
          -0.8992711098846865,
          -5.376204504905543,
          -0.4689301359707251,
          -0.4947495021180984,
          -0.4653688440883288,
          -0.47630709772711743,
          -0.4872453513659062,
          1.7756546926151806,
          -0.47605271973551777,
          -0.47630709772711743,
          -0.4527771335041417,
          -0.4628250641723314,
          -2.947127984907506,
          -0.4591365832941352,
          -0.4782149326641155,
          -0.4947495021180984,
          -0.46638635605472767,
          -0.8854075093425008,
          1.7633173600225933,
          -0.4947495021180984,
          1.8184876134529968,
          1.616825407607884,
          -0.47630709772711743,
          -0.47007483693292396,
          1.8644028409367492,
          -0.7872473753317417,
          1.6430263407426569,
          1.6180972975658827,
          -0.49360480115589966,
          -0.49462231312229854,
          -0.8714167198045152,
          -5.493211334662106,
          1.387383505564236,
          1.6512936254696484,
          1.7057007449252528,
          -0.4801227676011135,
          -0.46727667902532677,
          1.767387407888189,
          2.1456853581525803,
          2.2860126972754164,
          -1.2707235787433087,
          1.724779094295233,
          1.7545413193124022,
          1.8472025557570275,
          -0.4564656143823379,
          -0.8902406911828957,
          1.587699127569714,
          1.8401097427389743,
          -0.459390961285735,
          -0.4685485689833254,
          2.3310673725353097,
          -0.4756711527481181,
          -0.4685485689833254,
          2.018271755107851,
          -5.630575450125964,
          -0.48597346140790754,
          1.6530742714108466,
          1.5798134098301222,
          -0.49360480115589966,
          1.5869359935949148,
          -0.459390961285735,
          -0.4576103153445368,
          -0.47007483693292396,
          -0.45697437036553745,
          -0.47617990873131755,
          1.5819528983912958,
          1.7793431734933767,
          1.3840765916734397,
          1.6571443192764423,
          -0.4950038801096982,
          -0.4801227676011135,
          -0.49360480115589966,
          1.6337415440492666,
          -0.46231630818913194,
          -0.46905732496652497,
          1.5908561280972866,
          -0.46638635605472767,
          -0.47617990873131755,
          -0.7913174231973374,
          -0.4782149326641155,
          -0.852211181438735,
          -1.2553634809982641,
          -0.49360480115589966,
          -0.47630709772711743,
          -0.492205722202101,
          1.778961606505977,
          -0.47630709772711743,
          -0.4811402795675125,
          1.7020869579286926,
          2.044824484483284,
          -0.4740176958027198,
          -0.4576103153445368,
          -0.4878812963449055,
          -0.46905732496652497,
          -0.8611144111447259,
          1.7526334843754043,
          -0.46638635605472767,
          -0.4564656143823379,
          -0.45977252827313453,
          -0.4582462603235361,
          1.6348862450114654,
          -0.4582462603235361,
          -0.8925300931072934,
          -0.8896047462038964,
          -0.4574831263487369,
          2.0918844129292355,
          -0.8791752485483072,
          -0.47617990873131755,
          1.5840853405731539,
          1.582865945729319,
          1.4212157784470012,
          -0.459390961285735,
          1.7819843716584345
         ],
         "yaxis": "y"
        }
       ],
       "layout": {
        "coloraxis": {
         "colorbar": {
          "title": {
           "text": "Cluster"
          }
         },
         "colorscale": [
          [
           0,
           "#0d0887"
          ],
          [
           0.1111111111111111,
           "#46039f"
          ],
          [
           0.2222222222222222,
           "#7201a8"
          ],
          [
           0.3333333333333333,
           "#9c179e"
          ],
          [
           0.4444444444444444,
           "#bd3786"
          ],
          [
           0.5555555555555556,
           "#d8576b"
          ],
          [
           0.6666666666666666,
           "#ed7953"
          ],
          [
           0.7777777777777778,
           "#fb9f3a"
          ],
          [
           0.8888888888888888,
           "#fdca26"
          ],
          [
           1,
           "#f0f921"
          ]
         ]
        },
        "legend": {
         "tracegroupgap": 0
        },
        "template": {
         "data": {
          "bar": [
           {
            "error_x": {
             "color": "#2a3f5f"
            },
            "error_y": {
             "color": "#2a3f5f"
            },
            "marker": {
             "line": {
              "color": "#E5ECF6",
              "width": 0.5
             },
             "pattern": {
              "fillmode": "overlay",
              "size": 10,
              "solidity": 0.2
             }
            },
            "type": "bar"
           }
          ],
          "barpolar": [
           {
            "marker": {
             "line": {
              "color": "#E5ECF6",
              "width": 0.5
             },
             "pattern": {
              "fillmode": "overlay",
              "size": 10,
              "solidity": 0.2
             }
            },
            "type": "barpolar"
           }
          ],
          "carpet": [
           {
            "aaxis": {
             "endlinecolor": "#2a3f5f",
             "gridcolor": "white",
             "linecolor": "white",
             "minorgridcolor": "white",
             "startlinecolor": "#2a3f5f"
            },
            "baxis": {
             "endlinecolor": "#2a3f5f",
             "gridcolor": "white",
             "linecolor": "white",
             "minorgridcolor": "white",
             "startlinecolor": "#2a3f5f"
            },
            "type": "carpet"
           }
          ],
          "choropleth": [
           {
            "colorbar": {
             "outlinewidth": 0,
             "ticks": ""
            },
            "type": "choropleth"
           }
          ],
          "contour": [
           {
            "colorbar": {
             "outlinewidth": 0,
             "ticks": ""
            },
            "colorscale": [
             [
              0,
              "#0d0887"
             ],
             [
              0.1111111111111111,
              "#46039f"
             ],
             [
              0.2222222222222222,
              "#7201a8"
             ],
             [
              0.3333333333333333,
              "#9c179e"
             ],
             [
              0.4444444444444444,
              "#bd3786"
             ],
             [
              0.5555555555555556,
              "#d8576b"
             ],
             [
              0.6666666666666666,
              "#ed7953"
             ],
             [
              0.7777777777777778,
              "#fb9f3a"
             ],
             [
              0.8888888888888888,
              "#fdca26"
             ],
             [
              1,
              "#f0f921"
             ]
            ],
            "type": "contour"
           }
          ],
          "contourcarpet": [
           {
            "colorbar": {
             "outlinewidth": 0,
             "ticks": ""
            },
            "type": "contourcarpet"
           }
          ],
          "heatmap": [
           {
            "colorbar": {
             "outlinewidth": 0,
             "ticks": ""
            },
            "colorscale": [
             [
              0,
              "#0d0887"
             ],
             [
              0.1111111111111111,
              "#46039f"
             ],
             [
              0.2222222222222222,
              "#7201a8"
             ],
             [
              0.3333333333333333,
              "#9c179e"
             ],
             [
              0.4444444444444444,
              "#bd3786"
             ],
             [
              0.5555555555555556,
              "#d8576b"
             ],
             [
              0.6666666666666666,
              "#ed7953"
             ],
             [
              0.7777777777777778,
              "#fb9f3a"
             ],
             [
              0.8888888888888888,
              "#fdca26"
             ],
             [
              1,
              "#f0f921"
             ]
            ],
            "type": "heatmap"
           }
          ],
          "heatmapgl": [
           {
            "colorbar": {
             "outlinewidth": 0,
             "ticks": ""
            },
            "colorscale": [
             [
              0,
              "#0d0887"
             ],
             [
              0.1111111111111111,
              "#46039f"
             ],
             [
              0.2222222222222222,
              "#7201a8"
             ],
             [
              0.3333333333333333,
              "#9c179e"
             ],
             [
              0.4444444444444444,
              "#bd3786"
             ],
             [
              0.5555555555555556,
              "#d8576b"
             ],
             [
              0.6666666666666666,
              "#ed7953"
             ],
             [
              0.7777777777777778,
              "#fb9f3a"
             ],
             [
              0.8888888888888888,
              "#fdca26"
             ],
             [
              1,
              "#f0f921"
             ]
            ],
            "type": "heatmapgl"
           }
          ],
          "histogram": [
           {
            "marker": {
             "pattern": {
              "fillmode": "overlay",
              "size": 10,
              "solidity": 0.2
             }
            },
            "type": "histogram"
           }
          ],
          "histogram2d": [
           {
            "colorbar": {
             "outlinewidth": 0,
             "ticks": ""
            },
            "colorscale": [
             [
              0,
              "#0d0887"
             ],
             [
              0.1111111111111111,
              "#46039f"
             ],
             [
              0.2222222222222222,
              "#7201a8"
             ],
             [
              0.3333333333333333,
              "#9c179e"
             ],
             [
              0.4444444444444444,
              "#bd3786"
             ],
             [
              0.5555555555555556,
              "#d8576b"
             ],
             [
              0.6666666666666666,
              "#ed7953"
             ],
             [
              0.7777777777777778,
              "#fb9f3a"
             ],
             [
              0.8888888888888888,
              "#fdca26"
             ],
             [
              1,
              "#f0f921"
             ]
            ],
            "type": "histogram2d"
           }
          ],
          "histogram2dcontour": [
           {
            "colorbar": {
             "outlinewidth": 0,
             "ticks": ""
            },
            "colorscale": [
             [
              0,
              "#0d0887"
             ],
             [
              0.1111111111111111,
              "#46039f"
             ],
             [
              0.2222222222222222,
              "#7201a8"
             ],
             [
              0.3333333333333333,
              "#9c179e"
             ],
             [
              0.4444444444444444,
              "#bd3786"
             ],
             [
              0.5555555555555556,
              "#d8576b"
             ],
             [
              0.6666666666666666,
              "#ed7953"
             ],
             [
              0.7777777777777778,
              "#fb9f3a"
             ],
             [
              0.8888888888888888,
              "#fdca26"
             ],
             [
              1,
              "#f0f921"
             ]
            ],
            "type": "histogram2dcontour"
           }
          ],
          "mesh3d": [
           {
            "colorbar": {
             "outlinewidth": 0,
             "ticks": ""
            },
            "type": "mesh3d"
           }
          ],
          "parcoords": [
           {
            "line": {
             "colorbar": {
              "outlinewidth": 0,
              "ticks": ""
             }
            },
            "type": "parcoords"
           }
          ],
          "pie": [
           {
            "automargin": true,
            "type": "pie"
           }
          ],
          "scatter": [
           {
            "fillpattern": {
             "fillmode": "overlay",
             "size": 10,
             "solidity": 0.2
            },
            "type": "scatter"
           }
          ],
          "scatter3d": [
           {
            "line": {
             "colorbar": {
              "outlinewidth": 0,
              "ticks": ""
             }
            },
            "marker": {
             "colorbar": {
              "outlinewidth": 0,
              "ticks": ""
             }
            },
            "type": "scatter3d"
           }
          ],
          "scattercarpet": [
           {
            "marker": {
             "colorbar": {
              "outlinewidth": 0,
              "ticks": ""
             }
            },
            "type": "scattercarpet"
           }
          ],
          "scattergeo": [
           {
            "marker": {
             "colorbar": {
              "outlinewidth": 0,
              "ticks": ""
             }
            },
            "type": "scattergeo"
           }
          ],
          "scattergl": [
           {
            "marker": {
             "colorbar": {
              "outlinewidth": 0,
              "ticks": ""
             }
            },
            "type": "scattergl"
           }
          ],
          "scattermapbox": [
           {
            "marker": {
             "colorbar": {
              "outlinewidth": 0,
              "ticks": ""
             }
            },
            "type": "scattermapbox"
           }
          ],
          "scatterpolar": [
           {
            "marker": {
             "colorbar": {
              "outlinewidth": 0,
              "ticks": ""
             }
            },
            "type": "scatterpolar"
           }
          ],
          "scatterpolargl": [
           {
            "marker": {
             "colorbar": {
              "outlinewidth": 0,
              "ticks": ""
             }
            },
            "type": "scatterpolargl"
           }
          ],
          "scatterternary": [
           {
            "marker": {
             "colorbar": {
              "outlinewidth": 0,
              "ticks": ""
             }
            },
            "type": "scatterternary"
           }
          ],
          "surface": [
           {
            "colorbar": {
             "outlinewidth": 0,
             "ticks": ""
            },
            "colorscale": [
             [
              0,
              "#0d0887"
             ],
             [
              0.1111111111111111,
              "#46039f"
             ],
             [
              0.2222222222222222,
              "#7201a8"
             ],
             [
              0.3333333333333333,
              "#9c179e"
             ],
             [
              0.4444444444444444,
              "#bd3786"
             ],
             [
              0.5555555555555556,
              "#d8576b"
             ],
             [
              0.6666666666666666,
              "#ed7953"
             ],
             [
              0.7777777777777778,
              "#fb9f3a"
             ],
             [
              0.8888888888888888,
              "#fdca26"
             ],
             [
              1,
              "#f0f921"
             ]
            ],
            "type": "surface"
           }
          ],
          "table": [
           {
            "cells": {
             "fill": {
              "color": "#EBF0F8"
             },
             "line": {
              "color": "white"
             }
            },
            "header": {
             "fill": {
              "color": "#C8D4E3"
             },
             "line": {
              "color": "white"
             }
            },
            "type": "table"
           }
          ]
         },
         "layout": {
          "annotationdefaults": {
           "arrowcolor": "#2a3f5f",
           "arrowhead": 0,
           "arrowwidth": 1
          },
          "autotypenumbers": "strict",
          "coloraxis": {
           "colorbar": {
            "outlinewidth": 0,
            "ticks": ""
           }
          },
          "colorscale": {
           "diverging": [
            [
             0,
             "#8e0152"
            ],
            [
             0.1,
             "#c51b7d"
            ],
            [
             0.2,
             "#de77ae"
            ],
            [
             0.3,
             "#f1b6da"
            ],
            [
             0.4,
             "#fde0ef"
            ],
            [
             0.5,
             "#f7f7f7"
            ],
            [
             0.6,
             "#e6f5d0"
            ],
            [
             0.7,
             "#b8e186"
            ],
            [
             0.8,
             "#7fbc41"
            ],
            [
             0.9,
             "#4d9221"
            ],
            [
             1,
             "#276419"
            ]
           ],
           "sequential": [
            [
             0,
             "#0d0887"
            ],
            [
             0.1111111111111111,
             "#46039f"
            ],
            [
             0.2222222222222222,
             "#7201a8"
            ],
            [
             0.3333333333333333,
             "#9c179e"
            ],
            [
             0.4444444444444444,
             "#bd3786"
            ],
            [
             0.5555555555555556,
             "#d8576b"
            ],
            [
             0.6666666666666666,
             "#ed7953"
            ],
            [
             0.7777777777777778,
             "#fb9f3a"
            ],
            [
             0.8888888888888888,
             "#fdca26"
            ],
            [
             1,
             "#f0f921"
            ]
           ],
           "sequentialminus": [
            [
             0,
             "#0d0887"
            ],
            [
             0.1111111111111111,
             "#46039f"
            ],
            [
             0.2222222222222222,
             "#7201a8"
            ],
            [
             0.3333333333333333,
             "#9c179e"
            ],
            [
             0.4444444444444444,
             "#bd3786"
            ],
            [
             0.5555555555555556,
             "#d8576b"
            ],
            [
             0.6666666666666666,
             "#ed7953"
            ],
            [
             0.7777777777777778,
             "#fb9f3a"
            ],
            [
             0.8888888888888888,
             "#fdca26"
            ],
            [
             1,
             "#f0f921"
            ]
           ]
          },
          "colorway": [
           "#636efa",
           "#EF553B",
           "#00cc96",
           "#ab63fa",
           "#FFA15A",
           "#19d3f3",
           "#FF6692",
           "#B6E880",
           "#FF97FF",
           "#FECB52"
          ],
          "font": {
           "color": "#2a3f5f"
          },
          "geo": {
           "bgcolor": "white",
           "lakecolor": "white",
           "landcolor": "#E5ECF6",
           "showlakes": true,
           "showland": true,
           "subunitcolor": "white"
          },
          "hoverlabel": {
           "align": "left"
          },
          "hovermode": "closest",
          "mapbox": {
           "style": "light"
          },
          "paper_bgcolor": "white",
          "plot_bgcolor": "#E5ECF6",
          "polar": {
           "angularaxis": {
            "gridcolor": "white",
            "linecolor": "white",
            "ticks": ""
           },
           "bgcolor": "#E5ECF6",
           "radialaxis": {
            "gridcolor": "white",
            "linecolor": "white",
            "ticks": ""
           }
          },
          "scene": {
           "xaxis": {
            "backgroundcolor": "#E5ECF6",
            "gridcolor": "white",
            "gridwidth": 2,
            "linecolor": "white",
            "showbackground": true,
            "ticks": "",
            "zerolinecolor": "white"
           },
           "yaxis": {
            "backgroundcolor": "#E5ECF6",
            "gridcolor": "white",
            "gridwidth": 2,
            "linecolor": "white",
            "showbackground": true,
            "ticks": "",
            "zerolinecolor": "white"
           },
           "zaxis": {
            "backgroundcolor": "#E5ECF6",
            "gridcolor": "white",
            "gridwidth": 2,
            "linecolor": "white",
            "showbackground": true,
            "ticks": "",
            "zerolinecolor": "white"
           }
          },
          "shapedefaults": {
           "line": {
            "color": "#2a3f5f"
           }
          },
          "ternary": {
           "aaxis": {
            "gridcolor": "white",
            "linecolor": "white",
            "ticks": ""
           },
           "baxis": {
            "gridcolor": "white",
            "linecolor": "white",
            "ticks": ""
           },
           "bgcolor": "#E5ECF6",
           "caxis": {
            "gridcolor": "white",
            "linecolor": "white",
            "ticks": ""
           }
          },
          "title": {
           "x": 0.05
          },
          "xaxis": {
           "automargin": true,
           "gridcolor": "white",
           "linecolor": "white",
           "ticks": "",
           "title": {
            "standoff": 15
           },
           "zerolinecolor": "white",
           "zerolinewidth": 2
          },
          "yaxis": {
           "automargin": true,
           "gridcolor": "white",
           "linecolor": "white",
           "ticks": "",
           "title": {
            "standoff": 15
           },
           "zerolinecolor": "white",
           "zerolinewidth": 2
          }
         }
        },
        "title": {
         "text": "Customer Clusters with Hover Info"
        },
        "xaxis": {
         "anchor": "y",
         "domain": [
          0,
          1
         ],
         "title": {
          "text": "Principal Component 1"
         }
        },
        "yaxis": {
         "anchor": "x",
         "domain": [
          0,
          1
         ],
         "title": {
          "text": "Principal Component 2"
         }
        }
       }
      }
     },
     "metadata": {},
     "output_type": "display_data"
    }
   ],
   "source": [
    "import plotly.express as px\n",
    "\n",
    "# Create a new column with the customer label information to display on hover\n",
    "# Combine the customer ID and the labels into a single string for display on hover\n",
    "aggregated_df['Hover_Info'] = aggregated_df['Customer ID'].astype(str) + \"<br>\" + \\\n",
    "                              aggregated_df['Customer_Label'].apply(lambda x: ', '.join(x.split(' - ')))\n",
    "\n",
    "# Apply KMeans clustering (or use your clustering method)\n",
    "kmeans = KMeans(n_clusters=4, random_state=42)  # Change number of clusters as necessary\n",
    "aggregated_df['Cluster'] = kmeans.fit_predict(scaled_features)\n",
    "\n",
    "# Apply PCA to reduce features to 2D for visualization\n",
    "pca = PCA(n_components=2)\n",
    "reduced_features = pca.fit_transform(scaled_features)\n",
    "\n",
    "# Add the PCA components to the dataframe for plotting\n",
    "aggregated_df['PCA_1'] = reduced_features[:, 0]\n",
    "aggregated_df['PCA_2'] = reduced_features[:, 1]\n",
    "\n",
    "# Create an interactive scatter plot using Plotly\n",
    "fig = px.scatter(aggregated_df, \n",
    "                 x='PCA_1', \n",
    "                 y='PCA_2', \n",
    "                 color='Cluster',  # Color by cluster\n",
    "                 hover_data=['Hover_Info'],  # Hover over customer data (ID and labels)\n",
    "                 title=\"Customer Clusters with Hover Info\",\n",
    "                 labels={\"PCA_1\": \"Principal Component 1\", \"PCA_2\": \"Principal Component 2\"})\n",
    "\n",
    "# Show the plot\n",
    "fig.show()\n"
   ]
  },
  {
   "cell_type": "code",
   "execution_count": 65,
   "metadata": {},
   "outputs": [
    {
     "ename": "ValueError",
     "evalue": "The feature names should match those that were passed during fit.\nFeature names must be in the same order as they were in fit.\n",
     "output_type": "error",
     "traceback": [
      "\u001b[1;31m---------------------------------------------------------------------------\u001b[0m",
      "\u001b[1;31mValueError\u001b[0m                                Traceback (most recent call last)",
      "Cell \u001b[1;32mIn[65], line 28\u001b[0m\n\u001b[0;32m     26\u001b[0m \u001b[38;5;66;03m# Now, ensure the new data is scaled using the same scaler as used during training\u001b[39;00m\n\u001b[0;32m     27\u001b[0m scaler_loaded \u001b[38;5;241m=\u001b[39m joblib\u001b[38;5;241m.\u001b[39mload(\u001b[38;5;124m'\u001b[39m\u001b[38;5;124mscaler.pkl\u001b[39m\u001b[38;5;124m'\u001b[39m)\n\u001b[1;32m---> 28\u001b[0m new_customer_data_scaled \u001b[38;5;241m=\u001b[39m \u001b[43mscaler_loaded\u001b[49m\u001b[38;5;241;43m.\u001b[39;49m\u001b[43mtransform\u001b[49m\u001b[43m(\u001b[49m\u001b[43mnew_customer_data\u001b[49m\u001b[43m)\u001b[49m\n\u001b[0;32m     30\u001b[0m \u001b[38;5;66;03m# Load the trained KNN model\u001b[39;00m\n\u001b[0;32m     31\u001b[0m knn_loaded \u001b[38;5;241m=\u001b[39m joblib\u001b[38;5;241m.\u001b[39mload(\u001b[38;5;124m'\u001b[39m\u001b[38;5;124mknn_model.pkl\u001b[39m\u001b[38;5;124m'\u001b[39m)\n",
      "File \u001b[1;32mc:\\Users\\rrayn\\AppData\\Local\\Programs\\Python\\Python312\\Lib\\site-packages\\sklearn\\utils\\_set_output.py:313\u001b[0m, in \u001b[0;36m_wrap_method_output.<locals>.wrapped\u001b[1;34m(self, X, *args, **kwargs)\u001b[0m\n\u001b[0;32m    311\u001b[0m \u001b[38;5;129m@wraps\u001b[39m(f)\n\u001b[0;32m    312\u001b[0m \u001b[38;5;28;01mdef\u001b[39;00m \u001b[38;5;21mwrapped\u001b[39m(\u001b[38;5;28mself\u001b[39m, X, \u001b[38;5;241m*\u001b[39margs, \u001b[38;5;241m*\u001b[39m\u001b[38;5;241m*\u001b[39mkwargs):\n\u001b[1;32m--> 313\u001b[0m     data_to_wrap \u001b[38;5;241m=\u001b[39m \u001b[43mf\u001b[49m\u001b[43m(\u001b[49m\u001b[38;5;28;43mself\u001b[39;49m\u001b[43m,\u001b[49m\u001b[43m \u001b[49m\u001b[43mX\u001b[49m\u001b[43m,\u001b[49m\u001b[43m \u001b[49m\u001b[38;5;241;43m*\u001b[39;49m\u001b[43margs\u001b[49m\u001b[43m,\u001b[49m\u001b[43m \u001b[49m\u001b[38;5;241;43m*\u001b[39;49m\u001b[38;5;241;43m*\u001b[39;49m\u001b[43mkwargs\u001b[49m\u001b[43m)\u001b[49m\n\u001b[0;32m    314\u001b[0m     \u001b[38;5;28;01mif\u001b[39;00m \u001b[38;5;28misinstance\u001b[39m(data_to_wrap, \u001b[38;5;28mtuple\u001b[39m):\n\u001b[0;32m    315\u001b[0m         \u001b[38;5;66;03m# only wrap the first output for cross decomposition\u001b[39;00m\n\u001b[0;32m    316\u001b[0m         return_tuple \u001b[38;5;241m=\u001b[39m (\n\u001b[0;32m    317\u001b[0m             _wrap_data_with_container(method, data_to_wrap[\u001b[38;5;241m0\u001b[39m], X, \u001b[38;5;28mself\u001b[39m),\n\u001b[0;32m    318\u001b[0m             \u001b[38;5;241m*\u001b[39mdata_to_wrap[\u001b[38;5;241m1\u001b[39m:],\n\u001b[0;32m    319\u001b[0m         )\n",
      "File \u001b[1;32mc:\\Users\\rrayn\\AppData\\Local\\Programs\\Python\\Python312\\Lib\\site-packages\\sklearn\\preprocessing\\_data.py:1045\u001b[0m, in \u001b[0;36mStandardScaler.transform\u001b[1;34m(self, X, copy)\u001b[0m\n\u001b[0;32m   1042\u001b[0m check_is_fitted(\u001b[38;5;28mself\u001b[39m)\n\u001b[0;32m   1044\u001b[0m copy \u001b[38;5;241m=\u001b[39m copy \u001b[38;5;28;01mif\u001b[39;00m copy \u001b[38;5;129;01mis\u001b[39;00m \u001b[38;5;129;01mnot\u001b[39;00m \u001b[38;5;28;01mNone\u001b[39;00m \u001b[38;5;28;01melse\u001b[39;00m \u001b[38;5;28mself\u001b[39m\u001b[38;5;241m.\u001b[39mcopy\n\u001b[1;32m-> 1045\u001b[0m X \u001b[38;5;241m=\u001b[39m \u001b[38;5;28;43mself\u001b[39;49m\u001b[38;5;241;43m.\u001b[39;49m\u001b[43m_validate_data\u001b[49m\u001b[43m(\u001b[49m\n\u001b[0;32m   1046\u001b[0m \u001b[43m    \u001b[49m\u001b[43mX\u001b[49m\u001b[43m,\u001b[49m\n\u001b[0;32m   1047\u001b[0m \u001b[43m    \u001b[49m\u001b[43mreset\u001b[49m\u001b[38;5;241;43m=\u001b[39;49m\u001b[38;5;28;43;01mFalse\u001b[39;49;00m\u001b[43m,\u001b[49m\n\u001b[0;32m   1048\u001b[0m \u001b[43m    \u001b[49m\u001b[43maccept_sparse\u001b[49m\u001b[38;5;241;43m=\u001b[39;49m\u001b[38;5;124;43m\"\u001b[39;49m\u001b[38;5;124;43mcsr\u001b[39;49m\u001b[38;5;124;43m\"\u001b[39;49m\u001b[43m,\u001b[49m\n\u001b[0;32m   1049\u001b[0m \u001b[43m    \u001b[49m\u001b[43mcopy\u001b[49m\u001b[38;5;241;43m=\u001b[39;49m\u001b[43mcopy\u001b[49m\u001b[43m,\u001b[49m\n\u001b[0;32m   1050\u001b[0m \u001b[43m    \u001b[49m\u001b[43mdtype\u001b[49m\u001b[38;5;241;43m=\u001b[39;49m\u001b[43mFLOAT_DTYPES\u001b[49m\u001b[43m,\u001b[49m\n\u001b[0;32m   1051\u001b[0m \u001b[43m    \u001b[49m\u001b[43mforce_writeable\u001b[49m\u001b[38;5;241;43m=\u001b[39;49m\u001b[38;5;28;43;01mTrue\u001b[39;49;00m\u001b[43m,\u001b[49m\n\u001b[0;32m   1052\u001b[0m \u001b[43m    \u001b[49m\u001b[43mforce_all_finite\u001b[49m\u001b[38;5;241;43m=\u001b[39;49m\u001b[38;5;124;43m\"\u001b[39;49m\u001b[38;5;124;43mallow-nan\u001b[39;49m\u001b[38;5;124;43m\"\u001b[39;49m\u001b[43m,\u001b[49m\n\u001b[0;32m   1053\u001b[0m \u001b[43m\u001b[49m\u001b[43m)\u001b[49m\n\u001b[0;32m   1055\u001b[0m \u001b[38;5;28;01mif\u001b[39;00m sparse\u001b[38;5;241m.\u001b[39missparse(X):\n\u001b[0;32m   1056\u001b[0m     \u001b[38;5;28;01mif\u001b[39;00m \u001b[38;5;28mself\u001b[39m\u001b[38;5;241m.\u001b[39mwith_mean:\n",
      "File \u001b[1;32mc:\\Users\\rrayn\\AppData\\Local\\Programs\\Python\\Python312\\Lib\\site-packages\\sklearn\\base.py:608\u001b[0m, in \u001b[0;36mBaseEstimator._validate_data\u001b[1;34m(self, X, y, reset, validate_separately, cast_to_ndarray, **check_params)\u001b[0m\n\u001b[0;32m    537\u001b[0m \u001b[38;5;28;01mdef\u001b[39;00m \u001b[38;5;21m_validate_data\u001b[39m(\n\u001b[0;32m    538\u001b[0m     \u001b[38;5;28mself\u001b[39m,\n\u001b[0;32m    539\u001b[0m     X\u001b[38;5;241m=\u001b[39m\u001b[38;5;124m\"\u001b[39m\u001b[38;5;124mno_validation\u001b[39m\u001b[38;5;124m\"\u001b[39m,\n\u001b[1;32m   (...)\u001b[0m\n\u001b[0;32m    544\u001b[0m     \u001b[38;5;241m*\u001b[39m\u001b[38;5;241m*\u001b[39mcheck_params,\n\u001b[0;32m    545\u001b[0m ):\n\u001b[0;32m    546\u001b[0m \u001b[38;5;250m    \u001b[39m\u001b[38;5;124;03m\"\"\"Validate input data and set or check the `n_features_in_` attribute.\u001b[39;00m\n\u001b[0;32m    547\u001b[0m \n\u001b[0;32m    548\u001b[0m \u001b[38;5;124;03m    Parameters\u001b[39;00m\n\u001b[1;32m   (...)\u001b[0m\n\u001b[0;32m    606\u001b[0m \u001b[38;5;124;03m        validated.\u001b[39;00m\n\u001b[0;32m    607\u001b[0m \u001b[38;5;124;03m    \"\"\"\u001b[39;00m\n\u001b[1;32m--> 608\u001b[0m     \u001b[38;5;28;43mself\u001b[39;49m\u001b[38;5;241;43m.\u001b[39;49m\u001b[43m_check_feature_names\u001b[49m\u001b[43m(\u001b[49m\u001b[43mX\u001b[49m\u001b[43m,\u001b[49m\u001b[43m \u001b[49m\u001b[43mreset\u001b[49m\u001b[38;5;241;43m=\u001b[39;49m\u001b[43mreset\u001b[49m\u001b[43m)\u001b[49m\n\u001b[0;32m    610\u001b[0m     \u001b[38;5;28;01mif\u001b[39;00m y \u001b[38;5;129;01mis\u001b[39;00m \u001b[38;5;28;01mNone\u001b[39;00m \u001b[38;5;129;01mand\u001b[39;00m \u001b[38;5;28mself\u001b[39m\u001b[38;5;241m.\u001b[39m_get_tags()[\u001b[38;5;124m\"\u001b[39m\u001b[38;5;124mrequires_y\u001b[39m\u001b[38;5;124m\"\u001b[39m]:\n\u001b[0;32m    611\u001b[0m         \u001b[38;5;28;01mraise\u001b[39;00m \u001b[38;5;167;01mValueError\u001b[39;00m(\n\u001b[0;32m    612\u001b[0m             \u001b[38;5;124mf\u001b[39m\u001b[38;5;124m\"\u001b[39m\u001b[38;5;124mThis \u001b[39m\u001b[38;5;132;01m{\u001b[39;00m\u001b[38;5;28mself\u001b[39m\u001b[38;5;241m.\u001b[39m\u001b[38;5;18m__class__\u001b[39m\u001b[38;5;241m.\u001b[39m\u001b[38;5;18m__name__\u001b[39m\u001b[38;5;132;01m}\u001b[39;00m\u001b[38;5;124m estimator \u001b[39m\u001b[38;5;124m\"\u001b[39m\n\u001b[0;32m    613\u001b[0m             \u001b[38;5;124m\"\u001b[39m\u001b[38;5;124mrequires y to be passed, but the target y is None.\u001b[39m\u001b[38;5;124m\"\u001b[39m\n\u001b[0;32m    614\u001b[0m         )\n",
      "File \u001b[1;32mc:\\Users\\rrayn\\AppData\\Local\\Programs\\Python\\Python312\\Lib\\site-packages\\sklearn\\base.py:535\u001b[0m, in \u001b[0;36mBaseEstimator._check_feature_names\u001b[1;34m(self, X, reset)\u001b[0m\n\u001b[0;32m    530\u001b[0m \u001b[38;5;28;01mif\u001b[39;00m \u001b[38;5;129;01mnot\u001b[39;00m missing_names \u001b[38;5;129;01mand\u001b[39;00m \u001b[38;5;129;01mnot\u001b[39;00m unexpected_names:\n\u001b[0;32m    531\u001b[0m     message \u001b[38;5;241m+\u001b[39m\u001b[38;5;241m=\u001b[39m (\n\u001b[0;32m    532\u001b[0m         \u001b[38;5;124m\"\u001b[39m\u001b[38;5;124mFeature names must be in the same order as they were in fit.\u001b[39m\u001b[38;5;130;01m\\n\u001b[39;00m\u001b[38;5;124m\"\u001b[39m\n\u001b[0;32m    533\u001b[0m     )\n\u001b[1;32m--> 535\u001b[0m \u001b[38;5;28;01mraise\u001b[39;00m \u001b[38;5;167;01mValueError\u001b[39;00m(message)\n",
      "\u001b[1;31mValueError\u001b[0m: The feature names should match those that were passed during fit.\nFeature names must be in the same order as they were in fit.\n"
     ]
    }
   ],
   "source": [
    "import pandas as pd\n",
    "import numpy as np\n",
    "import joblib\n",
    "from sklearn.preprocessing import StandardScaler\n",
    "\n",
    "# Example: Suppose your training data had these one-hot encoded labels\n",
    "one_hot_columns = ['Regular Customer', 'Non-Regular Customer', 'High Spend Customer', 'Low Spend Customer']\n",
    "\n",
    "# Fill in new customer data (example: Customer 1001 made 3 orders, spent $150, and bought 5 items)\n",
    "new_customer_data = pd.DataFrame({\n",
    "    'Total_Orders': [3],  # Total number of orders\n",
    "    'Total_Spent': [150],  # Total amount spent\n",
    "    'Total_Quantity': [5],  # Total quantity of items ordered\n",
    "    'Regular Customer': [1],  # One-hot encoding for customer type\n",
    "    'Non-Regular Customer': [0],\n",
    "    'High Spend Customer': [0],\n",
    "    'Low Spend Customer': [1]  # Assuming this customer spent a smaller amount per order\n",
    "})\n",
    "feature_names = x_Train.columns.tolist()\n",
    "\n",
    "\n",
    "# Ensure that the columns match the training data columns exactly\n",
    "for col in one_hot_columns:\n",
    "    if col not in new_customer_data.columns:\n",
    "        new_customer_data[col] = 0  # Add missing columns with zero values\n",
    "\n",
    "# Now, ensure the new data is scaled using the same scaler as used during training\n",
    "scaler_loaded = joblib.load('scaler.pkl')\n",
    "new_customer_data_scaled = scaler_loaded.transform(new_customer_data)\n",
    "\n",
    "# Load the trained KNN model\n",
    "knn_loaded = joblib.load('knn_model.pkl')\n",
    "\n",
    "# Predict the label of the new customer\n",
    "prediction = knn_loaded.predict(new_customer_data_scaled)\n",
    "\n",
    "# Assuming label_map_inv is available for mapping predictions back to labels\n",
    "label_map_inv = {\n",
    "    0: 'Regular Customer',\n",
    "    1: 'Non-Regular Customer',\n",
    "    2: 'High Spend Customer',\n",
    "    3: 'Low Spend Customer'\n",
    "}\n",
    "\n",
    "predicted_label = label_map_inv[prediction[0]]\n",
    "\n",
    "print(f\"Predicted Label: {predicted_label}\")\n"
   ]
  }
 ],
 "metadata": {
  "kernelspec": {
   "display_name": "Python 3",
   "language": "python",
   "name": "python3"
  },
  "language_info": {
   "codemirror_mode": {
    "name": "ipython",
    "version": 3
   },
   "file_extension": ".py",
   "mimetype": "text/x-python",
   "name": "python",
   "nbconvert_exporter": "python",
   "pygments_lexer": "ipython3",
   "version": "3.12.4"
  }
 },
 "nbformat": 4,
 "nbformat_minor": 2
}
